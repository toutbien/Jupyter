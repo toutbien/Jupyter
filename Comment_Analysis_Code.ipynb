{
  "cells": [
    {
      "cell_type": "code",
      "execution_count": 4,
      "id": "23c9fd56-34b8-4c4d-8298-3151282b61f9",
      "metadata": {
        "scrolled": true,
        "id": "23c9fd56-34b8-4c4d-8298-3151282b61f9"
      },
      "outputs": [],
      "source": [
        "#imports\n",
        "import pandas as pd\n",
        "import numpy as np\n",
        "import matplotlib.pyplot as plt\n",
        "import os\n",
        "from PIL import Image\n",
        "import re\n",
        "import seaborn as sns"
      ]
    },
    {
      "cell_type": "code",
      "execution_count": 5,
      "id": "33602309-dfd2-44cb-a02a-493c62fd6c15",
      "metadata": {
        "scrolled": true,
        "colab": {
          "base_uri": "https://localhost:8080/",
          "height": 226
        },
        "id": "33602309-dfd2-44cb-a02a-493c62fd6c15",
        "outputId": "63121eaa-3868-41fc-a6fa-39c207be074f"
      },
      "outputs": [
        {
          "output_type": "execute_result",
          "data": {
            "text/plain": [
              "                                             Comment Self-Identified Type\n",
              "0  This survey is advertised as being anonymous, ...     Improvement area\n",
              "1  For supervisors to allow employees to attend t...     Improvement area\n",
              "2  Suggest we use performance measurement baselin...     Improvement area\n",
              "3  Richmond OIT is a complete disaster. Leadershi...     Improvement area\n",
              "4  Improvement of collaboration between support t...     Improvement area"
            ],
            "text/html": [
              "\n",
              "  <div id=\"df-f8a904aa-753f-4a4f-abd8-7ab43228092b\" class=\"colab-df-container\">\n",
              "    <div>\n",
              "<style scoped>\n",
              "    .dataframe tbody tr th:only-of-type {\n",
              "        vertical-align: middle;\n",
              "    }\n",
              "\n",
              "    .dataframe tbody tr th {\n",
              "        vertical-align: top;\n",
              "    }\n",
              "\n",
              "    .dataframe thead th {\n",
              "        text-align: right;\n",
              "    }\n",
              "</style>\n",
              "<table border=\"1\" class=\"dataframe\">\n",
              "  <thead>\n",
              "    <tr style=\"text-align: right;\">\n",
              "      <th></th>\n",
              "      <th>Comment</th>\n",
              "      <th>Self-Identified Type</th>\n",
              "    </tr>\n",
              "  </thead>\n",
              "  <tbody>\n",
              "    <tr>\n",
              "      <th>0</th>\n",
              "      <td>This survey is advertised as being anonymous, ...</td>\n",
              "      <td>Improvement area</td>\n",
              "    </tr>\n",
              "    <tr>\n",
              "      <th>1</th>\n",
              "      <td>For supervisors to allow employees to attend t...</td>\n",
              "      <td>Improvement area</td>\n",
              "    </tr>\n",
              "    <tr>\n",
              "      <th>2</th>\n",
              "      <td>Suggest we use performance measurement baselin...</td>\n",
              "      <td>Improvement area</td>\n",
              "    </tr>\n",
              "    <tr>\n",
              "      <th>3</th>\n",
              "      <td>Richmond OIT is a complete disaster. Leadershi...</td>\n",
              "      <td>Improvement area</td>\n",
              "    </tr>\n",
              "    <tr>\n",
              "      <th>4</th>\n",
              "      <td>Improvement of collaboration between support t...</td>\n",
              "      <td>Improvement area</td>\n",
              "    </tr>\n",
              "  </tbody>\n",
              "</table>\n",
              "</div>\n",
              "    <div class=\"colab-df-buttons\">\n",
              "\n",
              "  <div class=\"colab-df-container\">\n",
              "    <button class=\"colab-df-convert\" onclick=\"convertToInteractive('df-f8a904aa-753f-4a4f-abd8-7ab43228092b')\"\n",
              "            title=\"Convert this dataframe to an interactive table.\"\n",
              "            style=\"display:none;\">\n",
              "\n",
              "  <svg xmlns=\"http://www.w3.org/2000/svg\" height=\"24px\" viewBox=\"0 -960 960 960\">\n",
              "    <path d=\"M120-120v-720h720v720H120Zm60-500h600v-160H180v160Zm220 220h160v-160H400v160Zm0 220h160v-160H400v160ZM180-400h160v-160H180v160Zm440 0h160v-160H620v160ZM180-180h160v-160H180v160Zm440 0h160v-160H620v160Z\"/>\n",
              "  </svg>\n",
              "    </button>\n",
              "\n",
              "  <style>\n",
              "    .colab-df-container {\n",
              "      display:flex;\n",
              "      gap: 12px;\n",
              "    }\n",
              "\n",
              "    .colab-df-convert {\n",
              "      background-color: #E8F0FE;\n",
              "      border: none;\n",
              "      border-radius: 50%;\n",
              "      cursor: pointer;\n",
              "      display: none;\n",
              "      fill: #1967D2;\n",
              "      height: 32px;\n",
              "      padding: 0 0 0 0;\n",
              "      width: 32px;\n",
              "    }\n",
              "\n",
              "    .colab-df-convert:hover {\n",
              "      background-color: #E2EBFA;\n",
              "      box-shadow: 0px 1px 2px rgba(60, 64, 67, 0.3), 0px 1px 3px 1px rgba(60, 64, 67, 0.15);\n",
              "      fill: #174EA6;\n",
              "    }\n",
              "\n",
              "    .colab-df-buttons div {\n",
              "      margin-bottom: 4px;\n",
              "    }\n",
              "\n",
              "    [theme=dark] .colab-df-convert {\n",
              "      background-color: #3B4455;\n",
              "      fill: #D2E3FC;\n",
              "    }\n",
              "\n",
              "    [theme=dark] .colab-df-convert:hover {\n",
              "      background-color: #434B5C;\n",
              "      box-shadow: 0px 1px 3px 1px rgba(0, 0, 0, 0.15);\n",
              "      filter: drop-shadow(0px 1px 2px rgba(0, 0, 0, 0.3));\n",
              "      fill: #FFFFFF;\n",
              "    }\n",
              "  </style>\n",
              "\n",
              "    <script>\n",
              "      const buttonEl =\n",
              "        document.querySelector('#df-f8a904aa-753f-4a4f-abd8-7ab43228092b button.colab-df-convert');\n",
              "      buttonEl.style.display =\n",
              "        google.colab.kernel.accessAllowed ? 'block' : 'none';\n",
              "\n",
              "      async function convertToInteractive(key) {\n",
              "        const element = document.querySelector('#df-f8a904aa-753f-4a4f-abd8-7ab43228092b');\n",
              "        const dataTable =\n",
              "          await google.colab.kernel.invokeFunction('convertToInteractive',\n",
              "                                                    [key], {});\n",
              "        if (!dataTable) return;\n",
              "\n",
              "        const docLinkHtml = 'Like what you see? Visit the ' +\n",
              "          '<a target=\"_blank\" href=https://colab.research.google.com/notebooks/data_table.ipynb>data table notebook</a>'\n",
              "          + ' to learn more about interactive tables.';\n",
              "        element.innerHTML = '';\n",
              "        dataTable['output_type'] = 'display_data';\n",
              "        await google.colab.output.renderOutput(dataTable, element);\n",
              "        const docLink = document.createElement('div');\n",
              "        docLink.innerHTML = docLinkHtml;\n",
              "        element.appendChild(docLink);\n",
              "      }\n",
              "    </script>\n",
              "  </div>\n",
              "\n",
              "\n",
              "<div id=\"df-70229684-9adf-4fcd-b07c-0dfe5b40e860\">\n",
              "  <button class=\"colab-df-quickchart\" onclick=\"quickchart('df-70229684-9adf-4fcd-b07c-0dfe5b40e860')\"\n",
              "            title=\"Suggest charts\"\n",
              "            style=\"display:none;\">\n",
              "\n",
              "<svg xmlns=\"http://www.w3.org/2000/svg\" height=\"24px\"viewBox=\"0 0 24 24\"\n",
              "     width=\"24px\">\n",
              "    <g>\n",
              "        <path d=\"M19 3H5c-1.1 0-2 .9-2 2v14c0 1.1.9 2 2 2h14c1.1 0 2-.9 2-2V5c0-1.1-.9-2-2-2zM9 17H7v-7h2v7zm4 0h-2V7h2v10zm4 0h-2v-4h2v4z\"/>\n",
              "    </g>\n",
              "</svg>\n",
              "  </button>\n",
              "\n",
              "<style>\n",
              "  .colab-df-quickchart {\n",
              "      --bg-color: #E8F0FE;\n",
              "      --fill-color: #1967D2;\n",
              "      --hover-bg-color: #E2EBFA;\n",
              "      --hover-fill-color: #174EA6;\n",
              "      --disabled-fill-color: #AAA;\n",
              "      --disabled-bg-color: #DDD;\n",
              "  }\n",
              "\n",
              "  [theme=dark] .colab-df-quickchart {\n",
              "      --bg-color: #3B4455;\n",
              "      --fill-color: #D2E3FC;\n",
              "      --hover-bg-color: #434B5C;\n",
              "      --hover-fill-color: #FFFFFF;\n",
              "      --disabled-bg-color: #3B4455;\n",
              "      --disabled-fill-color: #666;\n",
              "  }\n",
              "\n",
              "  .colab-df-quickchart {\n",
              "    background-color: var(--bg-color);\n",
              "    border: none;\n",
              "    border-radius: 50%;\n",
              "    cursor: pointer;\n",
              "    display: none;\n",
              "    fill: var(--fill-color);\n",
              "    height: 32px;\n",
              "    padding: 0;\n",
              "    width: 32px;\n",
              "  }\n",
              "\n",
              "  .colab-df-quickchart:hover {\n",
              "    background-color: var(--hover-bg-color);\n",
              "    box-shadow: 0 1px 2px rgba(60, 64, 67, 0.3), 0 1px 3px 1px rgba(60, 64, 67, 0.15);\n",
              "    fill: var(--button-hover-fill-color);\n",
              "  }\n",
              "\n",
              "  .colab-df-quickchart-complete:disabled,\n",
              "  .colab-df-quickchart-complete:disabled:hover {\n",
              "    background-color: var(--disabled-bg-color);\n",
              "    fill: var(--disabled-fill-color);\n",
              "    box-shadow: none;\n",
              "  }\n",
              "\n",
              "  .colab-df-spinner {\n",
              "    border: 2px solid var(--fill-color);\n",
              "    border-color: transparent;\n",
              "    border-bottom-color: var(--fill-color);\n",
              "    animation:\n",
              "      spin 1s steps(1) infinite;\n",
              "  }\n",
              "\n",
              "  @keyframes spin {\n",
              "    0% {\n",
              "      border-color: transparent;\n",
              "      border-bottom-color: var(--fill-color);\n",
              "      border-left-color: var(--fill-color);\n",
              "    }\n",
              "    20% {\n",
              "      border-color: transparent;\n",
              "      border-left-color: var(--fill-color);\n",
              "      border-top-color: var(--fill-color);\n",
              "    }\n",
              "    30% {\n",
              "      border-color: transparent;\n",
              "      border-left-color: var(--fill-color);\n",
              "      border-top-color: var(--fill-color);\n",
              "      border-right-color: var(--fill-color);\n",
              "    }\n",
              "    40% {\n",
              "      border-color: transparent;\n",
              "      border-right-color: var(--fill-color);\n",
              "      border-top-color: var(--fill-color);\n",
              "    }\n",
              "    60% {\n",
              "      border-color: transparent;\n",
              "      border-right-color: var(--fill-color);\n",
              "    }\n",
              "    80% {\n",
              "      border-color: transparent;\n",
              "      border-right-color: var(--fill-color);\n",
              "      border-bottom-color: var(--fill-color);\n",
              "    }\n",
              "    90% {\n",
              "      border-color: transparent;\n",
              "      border-bottom-color: var(--fill-color);\n",
              "    }\n",
              "  }\n",
              "</style>\n",
              "\n",
              "  <script>\n",
              "    async function quickchart(key) {\n",
              "      const quickchartButtonEl =\n",
              "        document.querySelector('#' + key + ' button');\n",
              "      quickchartButtonEl.disabled = true;  // To prevent multiple clicks.\n",
              "      quickchartButtonEl.classList.add('colab-df-spinner');\n",
              "      try {\n",
              "        const charts = await google.colab.kernel.invokeFunction(\n",
              "            'suggestCharts', [key], {});\n",
              "      } catch (error) {\n",
              "        console.error('Error during call to suggestCharts:', error);\n",
              "      }\n",
              "      quickchartButtonEl.classList.remove('colab-df-spinner');\n",
              "      quickchartButtonEl.classList.add('colab-df-quickchart-complete');\n",
              "    }\n",
              "    (() => {\n",
              "      let quickchartButtonEl =\n",
              "        document.querySelector('#df-70229684-9adf-4fcd-b07c-0dfe5b40e860 button');\n",
              "      quickchartButtonEl.style.display =\n",
              "        google.colab.kernel.accessAllowed ? 'block' : 'none';\n",
              "    })();\n",
              "  </script>\n",
              "</div>\n",
              "\n",
              "    </div>\n",
              "  </div>\n"
            ],
            "application/vnd.google.colaboratory.intrinsic+json": {
              "type": "dataframe",
              "variable_name": "df",
              "summary": "{\n  \"name\": \"df\",\n  \"rows\": 1047,\n  \"fields\": [\n    {\n      \"column\": \"Comment\",\n      \"properties\": {\n        \"dtype\": \"string\",\n        \"num_unique_values\": 1047,\n        \"samples\": [\n          \"My Supervisors praise our performance yet awards arrive discretely without public recognition or notification.  We are told HR doesn't tell our leaders when awards are approved and my supervisor has to wait for me to tell them when monetary awards are received.  Second, We are told IO Cloud initiatives will lead to a rift of employees in IO Storage and Platforms service lines.\",\n          \"Reduce the need for IT personnel to fill in spreadsheets with information that could be pulled from existing repositories with a little integration work.\",\n          \"Ergonomics - I think it would be nice to know what kind of ergonomics are available to us on a routine basis. Ergonomic mouse and keyboard have improved my work performance and comfort. Too many employee's are not aware of what they could request. Maybe this could become part of NEO? The problem with just focusing on NEO employees is that current employees will be left out\"\n        ],\n        \"semantic_type\": \"\",\n        \"description\": \"\"\n      }\n    },\n    {\n      \"column\": \"Self-Identified Type\",\n      \"properties\": {\n        \"dtype\": \"category\",\n        \"num_unique_values\": 3,\n        \"samples\": [\n          \"Improvement area\",\n          \"Compliment\",\n          \"Both\"\n        ],\n        \"semantic_type\": \"\",\n        \"description\": \"\"\n      }\n    }\n  ]\n}"
            }
          },
          "metadata": {},
          "execution_count": 5
        }
      ],
      "source": [
        "# # #read survey data and set variable if CSV file\n",
        "df = pd.read_csv('Office of Information  Technology 2024 AES.csv')\n",
        "\n",
        "#preview data\n",
        "df.head()"
      ]
    },
    {
      "cell_type": "code",
      "source": [
        "print(df.head())"
      ],
      "metadata": {
        "colab": {
          "base_uri": "https://localhost:8080/"
        },
        "id": "5JHI8lgaoPIA",
        "outputId": "bcbdab19-7647-441a-c9c0-74c952b55d55"
      },
      "id": "5JHI8lgaoPIA",
      "execution_count": 6,
      "outputs": [
        {
          "output_type": "stream",
          "name": "stdout",
          "text": [
            "                                             Comment Self-Identified Type\n",
            "0  This survey is advertised as being anonymous, ...     Improvement area\n",
            "1  For supervisors to allow employees to attend t...     Improvement area\n",
            "2  Suggest we use performance measurement baselin...     Improvement area\n",
            "3  Richmond OIT is a complete disaster. Leadershi...     Improvement area\n",
            "4  Improvement of collaboration between support t...     Improvement area\n"
          ]
        }
      ]
    },
    {
      "cell_type": "code",
      "source": [
        "#counting the rows to see what we are starting with\n",
        "wor_count = len(df)\n",
        "print(f'Total row count at start is: {wor_count}')"
      ],
      "metadata": {
        "colab": {
          "base_uri": "https://localhost:8080/"
        },
        "id": "G9E19YVYAarj",
        "outputId": "42f2091c-f92f-4cfc-d14b-cf7effe60ff7"
      },
      "id": "G9E19YVYAarj",
      "execution_count": 9,
      "outputs": [
        {
          "output_type": "stream",
          "name": "stdout",
          "text": [
            "Total row count at start is: 1047\n"
          ]
        }
      ]
    },
    {
      "cell_type": "code",
      "source": [
        "#begin stem sorting house\n",
        "from collections import defaultdict\n",
        "import re\n",
        "\n",
        "# stem lists for each category\n",
        "accountability = ['respons', 'ownership', 'self-account', 'leadership', 'decision-mak', 'integr', 'transpar', 'self-disciplin', 'commit', 'answer', 'perform', 'expect', 'standard', 'evalu', 'feedback', 'consequ', 'improv', 'compli', 'monitor', 'supervis', 'teamwork', 'collabor', 'mutual account', 'peer review', 'support', 'trust', 'commun', 'shared goal', 'cooper']\n",
        "career_advancement = ['advanc', 'promot', 'opportun', 'growth', 'career ladder', 'recognit', 'merit', 'progress', 'rais', 'promotion criteria', 'train', 'cours', 'certif', 'professional develop', 'cross-train', 'workshop', 'skill-build', 'learn', 'educ', 'development program', 'career path', 'development track', 'roadmap', 'progress plan', 'career goal', 'mentor', 'guid', 'career plan', 'succession plan', 'long-term goal']\n",
        "communication = ['open', 'honest', 'clar', 'trust', 'disclos', 'candor', 'integr', 'straightforward', 'account', 'visibil', 'verbal', 'written', 'email', 'meet', 'team', 'chat', 'video call', 'present', 'report', 'announc', 'overcommun', 'undercommun', 'frequenc', 'volum', 'balanc', 'suffici', 'excess', 'inadequ', 'consist', 'information overload']\n",
        "idea = ['divers', 'inclus', 'represent', 'equal opportun', 'diverse workforce', 'recruit', 'hiring practic', 'affirmative action', 'minor', 'underrepresent group', 'discrimin', 'bias', 'prejudic', 'harass', 'inequal', 'unfair treat', 'racism', 'sexism', 'exclus', 'microaggress']\n",
        "employee_engagement = ['moral', 'engag', 'motiv', 'enthusi', 'job satisfact', 'commit', 'energi', 'positiv', 'disengag', 'burnout', 'leadership', 'support', 'guid', 'feedback', 'recognit', 'encourag', 'influenc', 'relationship', 'trust', 'manag', 'eecc', 'connection call', 'engagement call', 'employee check-in', 'commun', 'interact', 'feedback session', 'engagement meet', 'employee discuss', 'connection session', 'teamwork', 'collabor', 'cooper', 'camaraderi', 'trust', 'relationship-build', 'team bond', 'unit']\n",
        "leadership = ['feedback', 'input', 'suggest', 'opinion', 'commun', 'ignor', 'overlook', 'unheard', 'dismiss', 'engag', 'ethic', 'integr', 'honest', 'fair', 'transpar', 'account', 'corrupt', 'misconduct', 'unethic', 'trustworthi', 'direct', 'guid', 'strategi', 'vision', 'priorit', 'goal', 'leadership', 'plan', 'discontent', 'misalign', 'servant leadership', 'empat', 'support', 'priorit', 'selfless', 'employee-focus', 'care', 'nurtur', 'empower', 'advocaci', 'trust', 'confid', 'reliabl', 'depend', 'credibil', 'faith', 'assur', 'loyalti', 'respect', 'belief']\n",
        "meaningful_change = ['repeat', 'unchang', 'stagnant', 'ignor', 'overlook', 'unaddress', 'unresolv', 'inaction', 'frustrat', 'disregard', 'futil', 'pointless', 'hopeless', 'ineffect', 'dishearten', 'discourag', 'unheard', 'neglect', 'waste of time', 'skeptic', 'privaci', 'confidenti', 'anonym', 'secur', 'trust', 'protect', 'sensit inform', 'data breach', 'concern', 'safeguard']\n",
        "ode = ['ode', 'aes', 'ees', 'survey', 'feedback', 'assess', 'evalu', 'metric', 'data collect', 'organizational develop', 'eecc', 'connection call', 'engagement call', '6 essential question', 'performance consultant', 'pc work', 'workshop', 'train session', 'development program', 'employee engag']\n",
        "performance_management = ['performance review', 'apprais', 'evalu', 'feedback', 'goal', 'object', 'achiev', 'improv', 'assess', 'develop', 'fair', 'impartial', 'unbias', 'equit', 'just', 'honest', 'transpar', 'object', 'balanc', 'accur']\n",
        "position_management = ['position descript', 'job role', 'respons', 'duti', 'task', 'accur', 'represent', 'job analys', 'role clar', 'job specific', 'align', 'skillset', 'competenc', 'qualif', 'expertis', 'match', 'fit', 'workforce plan', 'role suit', 'talent manag']\n",
        "process_improvement = ['workflow', 'effici', 'optim', 'streamlin', 'automat', 'tool integr', 'process enhanc', 'improv', 'product', 'simplif']\n",
        "recognition = ['bonus', 'incent', 'reward', 'performance bonus', 'achiev', 'recognit', 'extra pay', 'financial reward', 'merit pay', 'gratific', 'qsi', 'quality step increas', 'step increas', 'pay rais', 'salary adjust', 'performance-based increas', 'promot', 'increm', 'compens', 'pay scale', 'salary', 'pay', 'compens', 'wage', 'earn', 'competit pay', 'industry standard', 'remuner', 'incom', 'financial compens']\n",
        "resources = ['tool', 'applic', 'softwar', 'equip', 'resourc', 'technolog', 'instrument', 'util', 'devic', 'solut', 'access', 'permiss', 'administr right', 'system access', 'user privileg', 'author', 'secur clear', 'credential', 'access control', 'account manag']\n",
        "staffing = ['staffing level', 'workforc', 'augment', 'headcount', 'personnel', 'team size', 'recruit', 'hir', 'expans', 'capac', 'workload', 'overburden', 'stress', 'burnout', 'overwork', 'task load', 'operational issu', 'capac', 'product', 'effici', 'hir', 'recruit', 'unethic', 'unfair', 'slow process', 'bias', 'discrimin', 'delay', 'ineffici', 'transpar', 'engag', 'motiv', 'commit', 'enthusi', 'job satisfact', 'involv', 'particip', 'dedic', 'moral', 'product']\n",
        "succession_planning = ['success', 'successor', 'knowledge transfer', 'mentor', 'train', 'develop', 'continu', 'leadership pipelin', 'skill develop', 'prepar', 'coach', 'transit', 'future leader', 'talent manag', 'knowledge shar']\n",
        "strategy = ['reorganiz', 'realign', 'structural chang', 'organizational chang', 'restructur', 'transit', 'adapt', 'uncertain', 'stabil', 'adjust', 'cloud strategi', 'cloud adopt', 'cloud migrat', 'cloud servic', 'cloud comput', 'scalabil', 'flexibil', 'innovat', 'cloud infrastructur', 'cloud solut', 'polici', 'compli', 'regul', 'guidelin', 'standard', 'procedur', 'adher', 'govern', 'protocol', 'rule']\n",
        "technology = ['vista', 'vmware', 'system', 'softwar', 'applic', 'platform', 'technolog', 'it system', 'infrastructur', 'solut', 'connection issu', 'network problem', 'connect', 'downtim', 'latenc', 'access issu', 'system outag', 'technical difficulti', 'network failur', 'disrupt', 'cerner', 'ehr', 'electronic health record', 'health it', 'medical record', 'patient data', 'health inform', 'digital record', 'health system', 'clinical document', 'microsoft team', 'collabor tool', 'commun platform', 'video conferenc', 'chat', 'virtual meet', 'technical support', 'usability', 'integr', 'function']\n",
        "telework = ['telework', 'remote work', 'work from home', 'flexibil', 'telecommut', 'virtual work', 'remote opportun', 'home offic', 'flexible schedul', 'remote option']\n",
        "positive_comments = ['appreci', 'satisfact', 'enjoy', 'positive experienc', 'gratitud', 'motiv', 'encourag', 'fulfil', 'pride', 'happi', 'support', 'team spirit', 'thank you']"
      ],
      "metadata": {
        "id": "S7i94JxuPFkx"
      },
      "id": "S7i94JxuPFkx",
      "execution_count": 10,
      "outputs": []
    },
    {
      "cell_type": "markdown",
      "source": [
        "Check for stem presence and prepare as a count/total."
      ],
      "metadata": {
        "id": "_LOnWRHIOrs5"
      },
      "id": "_LOnWRHIOrs5"
    },
    {
      "cell_type": "code",
      "source": [
        "# Initialize a dictionary to store the counts for each category\n",
        "category_counts = defaultdict(int)\n",
        "\n",
        "# function to check if any stem is present in the comment\n",
        "def check_stems(comment, stems):\n",
        "    for stem in stems:\n",
        "        if re.search(stem, comment, re.IGNORECASE):\n",
        "            return True\n",
        "    return False\n",
        "\n",
        "# Iterate through each comment and check for category stems\n",
        "for comment in df['Comment']:\n",
        "    if check_stems(comment, accountability):\n",
        "        category_counts['Accountability'] += 1\n",
        "    if check_stems(comment, career_advancement):\n",
        "        category_counts['Career Advancement'] += 1\n",
        "    if check_stems(comment, communication):\n",
        "        category_counts['Communication'] += 1\n",
        "    if check_stems(comment, idea):\n",
        "        category_counts['Inclusion, Diversity, Equity, and Accessibility (IDEA)'] += 1\n",
        "    if check_stems(comment, employee_engagement):\n",
        "        category_counts['Employee Engagement'] += 1\n",
        "    if check_stems(comment, leadership):\n",
        "        category_counts['Leadership'] += 1\n",
        "    if check_stems(comment, meaningful_change):\n",
        "        category_counts['Meaningful Change from Surveys'] += 1\n",
        "    if check_stems(comment, ode):\n",
        "        category_counts['Organization Development and Engagement (ODE)'] += 1\n",
        "    if check_stems(comment, performance_management):\n",
        "        category_counts['Performance Management'] += 1\n",
        "    if check_stems(comment, position_management):\n",
        "        category_counts['Position Management'] += 1\n",
        "    if check_stems(comment, process_improvement):\n",
        "        category_counts['Process Improvement'] += 1\n",
        "    if check_stems(comment, recognition):\n",
        "        category_counts['Recognition'] += 1\n",
        "    if check_stems(comment, resources):\n",
        "        category_counts['Resources'] += 1\n",
        "    if check_stems(comment, staffing):\n",
        "        category_counts['Staffing'] += 1\n",
        "    if check_stems(comment, succession_planning):\n",
        "        category_counts['Succession Planning'] += 1\n",
        "    if check_stems(comment, strategy):\n",
        "        category_counts['Strategy'] += 1\n",
        "    if check_stems(comment, technology):\n",
        "        category_counts['Technology'] += 1\n",
        "    if check_stems(comment, telework):\n",
        "        category_counts['Telework'] += 1\n",
        "    if check_stems(comment, positive_comments):\n",
        "        category_counts['Positive Comments'] += 1\n",
        "\n"
      ],
      "metadata": {
        "id": "1mZMsS8eOyoR"
      },
      "id": "1mZMsS8eOyoR",
      "execution_count": 14,
      "outputs": []
    },
    {
      "cell_type": "code",
      "source": [
        "sorted_category_counts = dict(sorted(category_counts.items(), key=lambda item: item[1]))"
      ],
      "metadata": {
        "id": "FGe7P0bYUyEm"
      },
      "id": "FGe7P0bYUyEm",
      "execution_count": 15,
      "outputs": []
    },
    {
      "cell_type": "code",
      "source": [
        "# Print the sorted dictionary\n",
        "for category, count in sorted_category_counts.items():\n",
        "    print(f\"{category}: {count}\")"
      ],
      "metadata": {
        "colab": {
          "base_uri": "https://localhost:8080/"
        },
        "id": "S00xpH2nVUvk",
        "outputId": "ac75dce2-6416-42de-b42f-e2676edd2c06"
      },
      "id": "S00xpH2nVUvk",
      "execution_count": 16,
      "outputs": [
        {
          "output_type": "stream",
          "name": "stdout",
          "text": [
            "Inclusion, Diversity, Equity, and Accessibility (IDEA): 59\n",
            "Telework: 98\n",
            "Meaningful Change from Surveys: 118\n",
            "Resources: 140\n",
            "Technology: 160\n",
            "Position Management: 171\n",
            "Recognition: 177\n",
            "Succession Planning: 180\n",
            "Strategy: 197\n",
            "Process Improvement: 203\n",
            "Positive Comments: 226\n",
            "Career Advancement: 287\n",
            "Organization Development and Engagement (ODE): 296\n",
            "Staffing: 365\n",
            "Communication: 379\n",
            "Performance Management: 380\n",
            "Employee Engagement: 628\n",
            "Leadership: 633\n",
            "Accountability: 697\n"
          ]
        }
      ]
    },
    {
      "cell_type": "code",
      "source": [
        "# Define a function to check if a stem is present in the comment (T/F versions)\n",
        "def check_stems(comment, stems):\n",
        "    for stem in stems:\n",
        "        if re.search(stem, comment, re.IGNORECASE):\n",
        "            return True\n",
        "    return False\n",
        "\n",
        "# Add a column for each category and insert \"1\" or \"0\"\n",
        "df['Accountability'] = df['Comment'].apply(lambda x: 1 if check_stems(x, accountability) else 0)\n",
        "df['Career Advancement'] = df['Comment'].apply(lambda x: 1 if check_stems(x, career_advancement) else 0)\n",
        "df['Communication'] = df['Comment'].apply(lambda x: 1 if check_stems(x, communication) else 0)\n",
        "df['Inclusion, Diversity, Equity, and Accessibility (IDEA)'] = df['Comment'].apply(lambda x: 1 if check_stems(x, idea) else 0)\n",
        "df['Employee Engagement'] = df['Comment'].apply(lambda x: 1 if check_stems(x, employee_engagement) else 0)\n",
        "df['Leadership'] = df['Comment'].apply(lambda x: 1 if check_stems(x, leadership) else 0)\n",
        "df['Meaningful Change from Surveys'] = df['Comment'].apply(lambda x: 1 if check_stems(x, meaningful_change) else 0)\n",
        "df['Organization Development and Engagement (ODE)'] = df['Comment'].apply(lambda x: 1 if check_stems(x, ode) else 0)\n",
        "df['Performance Management'] = df['Comment'].apply(lambda x: 1 if check_stems(x, performance_management) else 0)\n",
        "df['Position Management'] = df['Comment'].apply(lambda x: 1 if check_stems(x, position_management) else 0)\n",
        "df['Process Improvement'] = df['Comment'].apply(lambda x: 1 if check_stems(x, process_improvement) else 0)\n",
        "df['Recognition'] = df['Comment'].apply(lambda x: 1 if check_stems(x, recognition) else 0)\n",
        "df['Resources'] = df['Comment'].apply(lambda x: 1 if check_stems(x, resources) else 0)\n",
        "df['Staffing'] = df['Comment'].apply(lambda x: 1 if check_stems(x, staffing) else 0)\n",
        "df['Succession Planning'] = df['Comment'].apply(lambda x: 1 if check_stems(x, succession_planning) else 0)\n",
        "df['Strategy'] = df['Comment'].apply(lambda x: 1 if check_stems(x, strategy) else 0)\n",
        "df['Technology'] = df['Comment'].apply(lambda x: 1 if check_stems(x, technology) else 0)\n",
        "df['Telework'] = df['Comment'].apply(lambda x: 1 if check_stems(x, telework) else 0)\n",
        "df['Positive Comments'] = df['Comment'].apply(lambda x: 1 if check_stems(x, positive_comments) else 0)\n",
        "\n",
        "# Save the updated DataFrame to a new CSV file\n",
        "df.to_csv('Updated_Office_of_Information_Technology_2024_AES.csv', index=False)\n"
      ],
      "metadata": {
        "id": "nAqjDqc3QyAI"
      },
      "id": "nAqjDqc3QyAI",
      "execution_count": null,
      "outputs": []
    },
    {
      "cell_type": "code",
      "source": [
        "#Write new files based on comment analysis:\n",
        "\n",
        "# Load the updated CSV file into a DataFrame\n",
        "df = pd.read_csv('Updated_Office_of_Information_Technology_2024_AES.csv')\n",
        "\n",
        "# List of categories\n",
        "categories = [\n",
        "    'Accountability', 'Career Advancement', 'Communication',\n",
        "    'Inclusion, Diversity, Equity, and Accessibility (IDEA)',\n",
        "    'Employee Engagement', 'Leadership', 'Meaningful Change from Surveys',\n",
        "    'Organization Development and Engagement (ODE)', 'Performance Management',\n",
        "    'Position Management', 'Process Improvement', 'Recognition',\n",
        "    'Resources', 'Staffing', 'Succession Planning', 'Strategy',\n",
        "    'Technology', 'Telework', 'Positive Comments'\n",
        "]\n",
        "\n",
        "# Iterate through each category and write comments with a \"1\" to separate files\n",
        "for category in categories:\n",
        "    filtered_df = df[df[category] == 1]\n",
        "    filtered_df[['Comment']].to_csv(f'{category}_Comments.csv', index=False)\n",
        "\n",
        "print(\"Comments have been written to separate files for each category.\")\n"
      ],
      "metadata": {
        "colab": {
          "base_uri": "https://localhost:8080/"
        },
        "id": "oS6a1j9NTlCt",
        "outputId": "d7db0575-7e43-44c4-d021-9eb32ff0daf4"
      },
      "id": "oS6a1j9NTlCt",
      "execution_count": null,
      "outputs": [
        {
          "output_type": "stream",
          "name": "stdout",
          "text": [
            "Comments have been written to separate files for each category.\n"
          ]
        }
      ]
    },
    {
      "cell_type": "code",
      "source": [
        "with open('stopwords.csv', 'r') as file:\n",
        "    stopwords = [line.strip().replace('\"', '') for line in file]\n",
        "\n",
        "# Write the cleaned stopwords back to a new file\n",
        "with open('cleaned_stopwords.csv', 'w') as file:\n",
        "    for word in stopwords:\n",
        "        file.write(f\"{word}\\n\")\n",
        "\n",
        "print(\"Quotation marks have been removed and saved to 'cleaned_stopwords.csv'.\")"
      ],
      "metadata": {
        "colab": {
          "base_uri": "https://localhost:8080/"
        },
        "id": "gi_IXL1nIzyg",
        "outputId": "5117dcbd-01d1-427f-e95a-5c816d35bf9b"
      },
      "id": "gi_IXL1nIzyg",
      "execution_count": 37,
      "outputs": [
        {
          "output_type": "stream",
          "name": "stdout",
          "text": [
            "Quotation marks have been removed and saved to 'cleaned_stopwords.csv'.\n"
          ]
        }
      ]
    },
    {
      "cell_type": "markdown",
      "source": [
        "Thematic Deep Dives"
      ],
      "metadata": {
        "id": "sEFJYiek-aun"
      },
      "id": "sEFJYiek-aun"
    },
    {
      "cell_type": "code",
      "source": [
        "import nltk\n",
        "from nltk.corpus import stopwords\n",
        "from nltk.tokenize import word_tokenize\n",
        "from gensim import corpora\n",
        "from gensim.models import LdaModel\n"
      ],
      "metadata": {
        "id": "IHy0IzS9-fvn"
      },
      "id": "IHy0IzS9-fvn",
      "execution_count": 22,
      "outputs": []
    },
    {
      "cell_type": "code",
      "source": [
        "import nltk\n",
        "from nltk.corpus import stopwords\n",
        "from nltk.tokenize import word_tokenize\n",
        "from gensim import corpora\n",
        "from gensim.models import LdaModel\n",
        "import pandas as pd # Import pandas\n",
        "\n",
        "# Load the stopwords from a CSV file\n",
        "stopwords_df = pd.read_csv('cleaned_stopwords.csv', header=None, usecols=[0])\n",
        "stop_words = set(stopwords_df[0].tolist())\n",
        "\n",
        "# Load the comments from the CSV file\n",
        "df = pd.read_csv(\"Accountability_Comments.csv\") # Load the actual data from the file\n",
        "data = df['Comment'].tolist() # Extract the comments\n",
        "\n",
        "# Preprocess the data\n",
        "texts = [[word for word in word_tokenize(doc.lower()) if word.isalnum() and word not in stop_words] for doc in data]\n",
        "\n",
        "# Create a dictionary and corpus\n",
        "dictionary = corpora.Dictionary(texts)\n",
        "corpus = [dictionary.doc2bow(text) for text in texts]\n",
        "\n",
        "# Train the LDA model\n",
        "lda_model = LdaModel(corpus, num_topics=15, id2word=dictionary, passes=45, chunksize=200)"
      ],
      "metadata": {
        "id": "lMwZn6OxFogn"
      },
      "id": "lMwZn6OxFogn",
      "execution_count": 38,
      "outputs": []
    },
    {
      "cell_type": "code",
      "source": [
        "# Print the topics\n",
        "for idx, topic in lda_model.print_topics(-1):\n",
        "    print(f\"Accountability Topic: {idx} \\nWords: {topic}\")"
      ],
      "metadata": {
        "colab": {
          "base_uri": "https://localhost:8080/"
        },
        "id": "MALaNeKYEc1P",
        "outputId": "c0e59a3c-2be7-43d8-ebbc-b28adaad9cf4"
      },
      "id": "MALaNeKYEc1P",
      "execution_count": 39,
      "outputs": [
        {
          "output_type": "stream",
          "name": "stdout",
          "text": [
            "Accountability Topic: 0 \n",
            "Words: 0.053*\"positions\" + 0.052*\"technical\" + 0.050*\"learn\" + 0.032*\"training\" + 0.028*\"career\" + 0.020*\"vista\" + 0.017*\"failures\" + 0.017*\"professional\" + 0.016*\"supervisory\" + 0.014*\"critical\"\n",
            "Accountability Topic: 1 \n",
            "Words: 0.029*\"staffing\" + 0.028*\"lines\" + 0.026*\"continue\" + 0.023*\"set\" + 0.015*\"solution\" + 0.014*\"growing\" + 0.014*\"frequently\" + 0.013*\"teleworking\" + 0.013*\"skill\" + 0.013*\"grow\"\n",
            "Accountability Topic: 2 \n",
            "Words: 0.029*\"team\" + 0.026*\"leadership\" + 0.026*\"oit\" + 0.022*\"management\" + 0.020*\"people\" + 0.020*\"feel\" + 0.017*\"level\" + 0.015*\"time\" + 0.015*\"improvement\" + 0.015*\"senior\"\n",
            "Accountability Topic: 3 \n",
            "Words: 0.086*\"supervisor\" + 0.040*\"job\" + 0.021*\"organization\" + 0.019*\"local\" + 0.018*\"direct\" + 0.017*\"day\" + 0.015*\"team\" + 0.015*\"communication\" + 0.013*\"supportive\" + 0.013*\"remotely\"\n",
            "Accountability Topic: 4 \n",
            "Words: 0.054*\"employees\" + 0.033*\"telework\" + 0.027*\"employee\" + 0.026*\"time\" + 0.025*\"supervisors\" + 0.022*\"questions\" + 0.016*\"office\" + 0.016*\"survey\" + 0.015*\"position\" + 0.014*\"remote\"\n",
            "Accountability Topic: 5 \n",
            "Words: 0.047*\"decisions\" + 0.035*\"idea\" + 0.021*\"plan\" + 0.021*\"workforce\" + 0.018*\"equipment\" + 0.018*\"major\" + 0.017*\"direction\" + 0.017*\"previous\" + 0.016*\"workgroup\" + 0.016*\"tms\"\n",
            "Accountability Topic: 6 \n",
            "Words: 0.043*\"field\" + 0.020*\"workplace\" + 0.020*\"national\" + 0.020*\"town\" + 0.018*\"update\" + 0.018*\"approve\" + 0.017*\"process\" + 0.017*\"manner\" + 0.014*\"isso\" + 0.012*\"pes\"\n",
            "Accountability Topic: 7 \n",
            "Words: 0.031*\"leadership\" + 0.026*\"management\" + 0.025*\"aes\" + 0.024*\"senior\" + 0.019*\"survey\" + 0.016*\"upper\" + 0.016*\"security\" + 0.013*\"access\" + 0.013*\"surveys\" + 0.012*\"continue\"\n",
            "Accountability Topic: 8 \n",
            "Words: 0.028*\"leadership\" + 0.025*\"hard\" + 0.022*\"employees\" + 0.017*\"position\" + 0.017*\"supervisor\" + 0.017*\"lot\" + 0.016*\"staff\" + 0.015*\"left\" + 0.014*\"answer\" + 0.013*\"cio\"\n",
            "Accountability Topic: 9 \n",
            "Words: 0.022*\"process\" + 0.021*\"tickets\" + 0.020*\"experience\" + 0.015*\"veteran\" + 0.014*\"tier\" + 0.014*\"2\" + 0.013*\"contractor\" + 0.013*\"oit\" + 0.012*\"input\" + 0.011*\"happy\"\n",
            "Accountability Topic: 10 \n",
            "Words: 0.041*\"serve\" + 0.038*\"opportunity\" + 0.036*\"ideas\" + 0.036*\"replace\" + 0.020*\"heard\" + 0.016*\"folks\" + 0.015*\"identifying\" + 0.012*\"platforms\" + 0.011*\"partners\" + 0.009*\"retired\"\n",
            "Accountability Topic: 11 \n",
            "Words: 0.041*\"boss\" + 0.026*\"daily\" + 0.019*\"department\" + 0.018*\"basis\" + 0.013*\"board\" + 0.013*\"laptops\" + 0.010*\"undergone\" + 0.010*\"decided\" + 0.008*\"supposed\" + 0.008*\"careers\"\n",
            "Accountability Topic: 12 \n",
            "Words: 0.060*\"leadership\" + 0.042*\"team\" + 0.040*\"support\" + 0.028*\"veterans\" + 0.023*\"provide\" + 0.022*\"feedback\" + 0.021*\"staff\" + 0.019*\"amazing\" + 0.016*\"organization\" + 0.016*\"executive\"\n",
            "Accountability Topic: 13 \n",
            "Words: 0.031*\"business\" + 0.024*\"training\" + 0.023*\"held\" + 0.023*\"enterprise\" + 0.020*\"form\" + 0.017*\"veterans\" + 0.015*\"practices\" + 0.014*\"accountable\" + 0.013*\"review\" + 0.012*\"providing\"\n",
            "Accountability Topic: 14 \n",
            "Words: 0.033*\"issos\" + 0.028*\"tool\" + 0.028*\"products\" + 0.025*\"responsibility\" + 0.022*\"perform\" + 0.019*\"improvements\" + 0.019*\"travel\" + 0.016*\"training\" + 0.014*\"tasks\" + 0.013*\"functions\"\n"
          ]
        }
      ]
    },
    {
      "cell_type": "markdown",
      "source": [
        "Top Themes:\n",
        "\n",
        "```\n",
        "Topic 2: Covers team leadership, management, people, and improvement.\n",
        "Topic 4: Discusses employees, telework, supervisors, and office-related matters.\n",
        "Topic 8: Involves leadership, hard work, employees, and supervisors.\n",
        "Topic 3: Relates to supervisors, job roles, organization, and communication.\n",
        "Topic 9: Covers processes, tickets, experience, and contractors.\n",
        "```\n",
        "\n",
        "\n",
        "Topic 0: Focuses on positions, technical skills, learning, training, and career development.\n",
        "Topic 1: Involves staffing, setting lines, solutions, growth, and teleworking.\n",
        "Topic 5: Deals with decisions, ideas, plans, workforce, and equipment.\n",
        "Topic 6: Pertains to fieldwork, workplace, national updates, and processes.\n",
        "Topic 7: Focuses on leadership, management, surveys, and security.\n",
        "Topic 10: Discusses serving, opportunities, ideas, and platforms.\n",
        "Topic 11: Relates to bosses, daily tasks, departments, and careers.\n",
        "Topic 12: Focuses on leadership, team support, veterans, and feedback.\n",
        "Topic 13: Involves business, training, enterprise, and accountability.\n",
        "Topic 14: Pertains to ISSOs, tools, products, and responsibilities.\n"
      ],
      "metadata": {
        "id": "D0-NwHaLJbip"
      },
      "id": "D0-NwHaLJbip"
    },
    {
      "cell_type": "code",
      "source": [
        "# Get the topic distribution for each document\n",
        "topic_distribution = [lda_model.get_document_topics(bow) for bow in corpus]\n",
        "\n",
        "# Count the frequency of each topic\n",
        "topic_counts = [0] * lda_model.num_topics\n",
        "for doc in topic_distribution:\n",
        "    for topic, weight in doc:\n",
        "        topic_counts[topic] += 1\n",
        "\n",
        "# Print the frequency of each topic\n",
        "for idx, count in enumerate(topic_counts):\n",
        "    print(f\"Topic {idx}: {count} occurences\")\n"
      ],
      "metadata": {
        "colab": {
          "base_uri": "https://localhost:8080/"
        },
        "id": "h7uz2PR7JsO2",
        "outputId": "f96f1cf5-4a6c-4466-cb7f-01fd7b53ee64"
      },
      "id": "h7uz2PR7JsO2",
      "execution_count": 41,
      "outputs": [
        {
          "output_type": "stream",
          "name": "stdout",
          "text": [
            "Topic 0: 151 occurences\n",
            "Topic 1: 160 occurences\n",
            "Topic 2: 490 occurences\n",
            "Topic 3: 305 occurences\n",
            "Topic 4: 340 occurences\n",
            "Topic 5: 170 occurences\n",
            "Topic 6: 118 occurences\n",
            "Topic 7: 258 occurences\n",
            "Topic 8: 309 occurences\n",
            "Topic 9: 259 occurences\n",
            "Topic 10: 124 occurences\n",
            "Topic 11: 111 occurences\n",
            "Topic 12: 253 occurences\n",
            "Topic 13: 188 occurences\n",
            "Topic 14: 146 occurences\n"
          ]
        }
      ]
    },
    {
      "cell_type": "markdown",
      "id": "a77728e1-a20a-4a35-a525-592c1a4b5a89",
      "metadata": {
        "id": "a77728e1-a20a-4a35-a525-592c1a4b5a89"
      },
      "source": [
        "### *EDITING NEEDED HERE*"
      ]
    },
    {
      "cell_type": "code",
      "execution_count": null,
      "id": "a6091f5e-35f8-4ee8-9e9d-2cc07f8d560b",
      "metadata": {
        "id": "a6091f5e-35f8-4ee8-9e9d-2cc07f8d560b"
      },
      "outputs": [],
      "source": [
        "# #provide file path to monthly survey file\n",
        "# #you may have to change this file path to match your pathway.\n",
        "# excel_file_path = \"C:/Users/OITPUGClarkK/Desktop/Comment Analysis/Monthly/Monthly CX - September - Data Export.xlsx\"\n",
        "\n",
        "# #provide sheet name if multiple, e.g. below\n",
        "# # sheet_name = \"Data\"\n",
        "\n",
        "# #read data\n",
        "# df = pd.read_excel(excel_file_path) #add (or remove) following for sheet: , sheet_name=sheet_name)\n",
        "# df.head()"
      ]
    },
    {
      "cell_type": "code",
      "execution_count": null,
      "id": "20bc44ce-bc40-4b78-b308-663dfa8266de",
      "metadata": {
        "scrolled": true,
        "id": "20bc44ce-bc40-4b78-b308-663dfa8266de"
      },
      "outputs": [],
      "source": [
        "# #create new dataframe with just the NPS and comment columns\n",
        "# df = df.iloc[:, [3, 4, 5, 28, 43, 83, 87, 88, 94, 99, 102]]\n",
        "\n",
        "# #preview\n",
        "# df.head()"
      ]
    },
    {
      "cell_type": "code",
      "source": [
        "df.info()"
      ],
      "metadata": {
        "colab": {
          "base_uri": "https://localhost:8080/"
        },
        "id": "Rl3mmb1WMUaX",
        "outputId": "b62b4639-4834-4975-e737-b16977a047f2"
      },
      "id": "Rl3mmb1WMUaX",
      "execution_count": null,
      "outputs": [
        {
          "output_type": "stream",
          "name": "stdout",
          "text": [
            "<class 'pandas.core.frame.DataFrame'>\n",
            "RangeIndex: 1047 entries, 0 to 1046\n",
            "Data columns (total 2 columns):\n",
            " #   Column                Non-Null Count  Dtype \n",
            "---  ------                --------------  ----- \n",
            " 0   Comment               1047 non-null   object\n",
            " 1   Self-Identified Type  1047 non-null   object\n",
            "dtypes: object(2)\n",
            "memory usage: 16.5+ KB\n"
          ]
        }
      ]
    },
    {
      "cell_type": "code",
      "execution_count": null,
      "id": "e4e964df-3e05-4f0a-aff6-51fd8e065deb",
      "metadata": {
        "id": "e4e964df-3e05-4f0a-aff6-51fd8e065deb"
      },
      "outputs": [],
      "source": [
        "def convert_to_float(df, column):\n",
        "    df[column] = pd.to_numeric(df[column], errors='coerce')"
      ]
    },
    {
      "cell_type": "code",
      "execution_count": null,
      "id": "6d7e210d-e5cd-4250-8282-e76cd9be0e25",
      "metadata": {
        "scrolled": true,
        "id": "6d7e210d-e5cd-4250-8282-e76cd9be0e25"
      },
      "outputs": [],
      "source": [
        "promoter_df = promoter_df[promoter_df['NPS'] > 8]\n",
        "passive_df = passive_df[(passive_df['NPS'] > 6) & (passive_df['NPS'] < 9)]\n",
        "detractor_df = detractor_df[detractor_df['NPS'] < 7]\n",
        "euo_promoter_df = euo_promoter_df[euo_promoter_df['EUO Rating'] >= 8]\n",
        "euo_detractor_df = euo_detractor_df[euo_detractor_df['EUO Rating'] < 8]\n",
        "yourit_promoter_df = yourit_df[yourit_df['yourIT Rating'] >= 8]\n",
        "yourit_detractor_df = yourit_df[yourit_df['yourIT Rating'] < 8]"
      ]
    },
    {
      "cell_type": "code",
      "execution_count": null,
      "id": "be906df7-5ce2-426e-b5b3-05efd4c72b67",
      "metadata": {
        "id": "be906df7-5ce2-426e-b5b3-05efd4c72b67"
      },
      "outputs": [],
      "source": [
        "#refresh list of dfs for subsequent function\n",
        "df_list = [passive_df, euo_promoter_df, euo_detractor_df, yourit_df, yourit_promoter_df, yourit_detractor_df,\n",
        "           promoter_df, detractor_df, esd_promoter_df, esd_detractor_df]"
      ]
    },
    {
      "cell_type": "markdown",
      "id": "4dd8013f-99a6-4542-bd53-2801942e642a",
      "metadata": {
        "id": "4dd8013f-99a6-4542-bd53-2801942e642a"
      },
      "source": [
        "### **Processing and Visualizing Functions**"
      ]
    },
    {
      "cell_type": "code",
      "execution_count": null,
      "id": "7964017e-2dfd-4810-86a5-fb81995ca787",
      "metadata": {
        "id": "7964017e-2dfd-4810-86a5-fb81995ca787"
      },
      "outputs": [],
      "source": [
        "import nltk\n",
        "from nltk.tokenize import RegexpTokenizer\n",
        "from nltk.corpus import stopwords\n",
        "from nltk.probability import FreqDist\n",
        "from nltk.stem import PorterStemmer"
      ]
    },
    {
      "cell_type": "markdown",
      "id": "1849ec76-4941-4ac4-b8fd-1b833f9d641a",
      "metadata": {
        "id": "1849ec76-4941-4ac4-b8fd-1b833f9d641a"
      },
      "source": [
        "#### Process Dataframes Function (tokenizing, stemming, and removing stopwords)"
      ]
    },
    {
      "cell_type": "markdown",
      "id": "55cb9547-b9f9-4882-945f-681d076a83d9",
      "metadata": {
        "id": "55cb9547-b9f9-4882-945f-681d076a83d9"
      },
      "source": [
        "The main thing we need to do first is to process each of the dataframes by tokenizing each of the words in each comment, stemming them to reduce them down to their base form as much as possible for count consolidation, and remove unhelpful stopwords like \"at\" and \"and\".  We will make a function that can apply to all of these dataframes at once."
      ]
    },
    {
      "cell_type": "code",
      "execution_count": null,
      "id": "942b93ad-fc9e-497c-a173-f10bcddb03c5",
      "metadata": {
        "id": "942b93ad-fc9e-497c-a173-f10bcddb03c5"
      },
      "outputs": [],
      "source": [
        "#Create function for tokenizing, stemming, and removing stopwords from comments\n",
        "def process_dataframe(dataframe):\n",
        "    # Convert the 'comments' column to strings and handle NaN values\n",
        "    dataframe[dataframe.columns[-1]] = dataframe[dataframe.columns[-1]].astype(str).str.lower()\n",
        "    # dataframe[dataframe.columns[-1]].replace('nan', np.nan, inplace=True)\n",
        "    # dataframe[dataframe.columns[-1]].fillna('', inplace=True)\n",
        "\n",
        "    # Token pattern\n",
        "    basic_token_pattern = r\"(?u)\\b\\w\\w+\\b\"\n",
        "\n",
        "    # Tokenizer variable\n",
        "    tokenizer = RegexpTokenizer(basic_token_pattern)\n",
        "\n",
        "    # Tokenize the comments and create a new column 'comments_tokenized'\n",
        "    dataframe['comments_tokenized'] = dataframe[dataframe.columns[-1]].apply(lambda x: tokenizer.tokenize(str(x)))\n",
        "\n",
        "    # Download stopwords\n",
        "    nltk.download('stopwords', quiet=True)\n",
        "    stopwords_list = stopwords.words('english')\n",
        "    stopwords_list.remove('too')\n",
        "\n",
        "    # Function to remove stopwords from a list of tokens\n",
        "    def remove_stopwords(token_list):\n",
        "        return [token for token in token_list if token not in stopwords_list]\n",
        "\n",
        "    # Remove stopwords from 'comments_tokenized' column\n",
        "    dataframe['comments_tokenized'] = dataframe['comments_tokenized'].apply(remove_stopwords)\n",
        "\n",
        "    # Initialize the Porter stemmer\n",
        "    stemmer = PorterStemmer()\n",
        "\n",
        "    # Function to apply the stemmer to each word in a list\n",
        "    def stem_words(words):\n",
        "        stemmed_words = [stemmer.stem(word) for word in words]\n",
        "        return stemmed_words\n",
        "\n",
        "    # Apply the stem_words function to each list of words in the 'comments_tokenized' column\n",
        "    dataframe['comments_stemmed'] = dataframe['comments_tokenized'].apply(lambda x: stem_words(x))\n",
        "\n",
        "    return dataframe"
      ]
    },
    {
      "cell_type": "markdown",
      "id": "2b9277e8-8a6d-4a4b-a4c9-6280d8abd24b",
      "metadata": {
        "id": "2b9277e8-8a6d-4a4b-a4c9-6280d8abd24b"
      },
      "source": [
        "Great, the function is made, and now we need to loop through each dataframe and apply the function. We will also preview each dataframe to verify that a comments_tokenized and a comments_stemmed column was created for each one."
      ]
    },
    {
      "cell_type": "code",
      "execution_count": null,
      "id": "59606d82-fe3d-422e-8c6f-e01ea4d89180",
      "metadata": {
        "id": "59606d82-fe3d-422e-8c6f-e01ea4d89180"
      },
      "outputs": [],
      "source": [
        "# Loop through each DataFrame number and apply the function\n",
        "for df in df_list:\n",
        "    process_dataframe(df)"
      ]
    },
    {
      "cell_type": "code",
      "execution_count": null,
      "id": "0f417fcf-aea7-4d66-90ec-4478bb863b13",
      "metadata": {
        "scrolled": true,
        "id": "0f417fcf-aea7-4d66-90ec-4478bb863b13"
      },
      "outputs": [],
      "source": [
        "# Print the first few rows of each processed DataFrame\n",
        "for df in df_list:\n",
        "    second_column_name = df.columns[-3]\n",
        "    print(f'Processed DataFrame {second_column_name}:')\n",
        "    print(df.head(5))\n",
        "    print(\"\\n\" + \"=\" * 50 + \"\\n\") #separate each df with an extra line"
      ]
    },
    {
      "cell_type": "markdown",
      "id": "7d65e2f7-5fe9-4b07-8d79-d38bfad0673c",
      "metadata": {
        "id": "7d65e2f7-5fe9-4b07-8d79-d38bfad0673c"
      },
      "source": [
        "#### Add Stopwords Function (tokens)"
      ]
    },
    {
      "cell_type": "markdown",
      "id": "a1f0936e-5ce3-4ed5-b2f9-3e373be7e0da",
      "metadata": {
        "id": "a1f0936e-5ce3-4ed5-b2f9-3e373be7e0da"
      },
      "source": [
        "If we need to add additional stop words, the function below will add them"
      ]
    },
    {
      "cell_type": "code",
      "execution_count": null,
      "id": "2bc5509c-27c9-4ede-8214-22603d47dac0",
      "metadata": {
        "id": "2bc5509c-27c9-4ede-8214-22603d47dac0"
      },
      "outputs": [],
      "source": [
        "#Need to uncomment out the last lines to run function and add new words\n",
        "\n",
        "#create stopword list for function\n",
        "stopwords_list = stopwords.words('english')\n",
        "\n",
        "def add_custom_stopwords(new_words):\n",
        "    \"\"\"\n",
        "    Given a list of new words, add them to the stopwords_list.\n",
        "    \"\"\"\n",
        "    global stopwords_list  # Assuming stopwords_list is a global variable\n",
        "\n",
        "    # Confirm the length of the original stopword list\n",
        "    print(\"Original stopword list length:\", len(stopwords_list))\n",
        "\n",
        "    # Add new words to the stopwords_list\n",
        "    stopwords_list.extend(new_words)\n",
        "\n",
        "    # Confirm the new length\n",
        "    print(\"List length after adding custom words:\", len(stopwords_list))\n",
        "\n",
        "# Sample new words to add\n",
        "#new_words = ['aptive', 'work']  # Add your custom words here\n",
        "\n",
        "# Call the function to add the custom words\n",
        "#add_custom_stopwords(new_words)"
      ]
    },
    {
      "cell_type": "markdown",
      "id": "ca69ea72-05f4-4655-8167-2d6ab7be3e15",
      "metadata": {
        "id": "ca69ea72-05f4-4655-8167-2d6ab7be3e15"
      },
      "source": [
        "Now we can add new stopwords!  As one way to help us figure out which stopwords to add, let's visualize the top 30 stemmed words and see if there are any that are less helpful than others."
      ]
    },
    {
      "cell_type": "markdown",
      "id": "b68925e1-d64f-4de7-96e2-b174a3b9653f",
      "metadata": {
        "id": "b68925e1-d64f-4de7-96e2-b174a3b9653f"
      },
      "source": [
        "The function below takes in the comments_stemmed column of a dataframe, computes the frequency distribution of the stemmed words in the column, and then graphs the top 30 using Aptive colors."
      ]
    },
    {
      "cell_type": "markdown",
      "id": "72ca40e2-4af8-4a74-bd4e-4568aa03aabb",
      "metadata": {
        "id": "72ca40e2-4af8-4a74-bd4e-4568aa03aabb"
      },
      "source": [
        "Most of these look great and are in line with the top themes of previous analyses.  It looks like the stemmed words 'issu', 'get', and 'manner' though would not be particularly helpful, as they are all too generic.  Let's create a function to remove stopwords, combining it with our previous function for adding stopwords to the stopwords_list."
      ]
    },
    {
      "cell_type": "code",
      "execution_count": null,
      "id": "b30e9798-7680-4724-b1a0-87a6077b5aee",
      "metadata": {
        "id": "b30e9798-7680-4724-b1a0-87a6077b5aee",
        "outputId": "d8ff02d7-5646-4190-f98d-c068eba967d2"
      },
      "outputs": [
        {
          "name": "stdout",
          "output_type": "stream",
          "text": [
            "Original stopword list length: 179\n",
            "List length after adding custom words: 182\n"
          ]
        }
      ],
      "source": [
        "#If stopwords need to be removed, the below function combined witht the add_custom_stopwords function will do so\n",
        "\n",
        "#function to remove stopwrods from a list of tokens\n",
        "def remove_stopwords(token_list):\n",
        "    return [token for token in token_list if token not in stopwords_list]\n",
        "\n",
        "# Sample new words to add\n",
        "new_words = ['issu', 'get', 'manner']  # Add your custom words here\n",
        "\n",
        "# Call the previous add_custom_stopwords function to add the new_words above\n",
        "add_custom_stopwords(new_words)\n",
        "\n",
        "#Apply remove_stopwords function to 'comments_stemmed'\n",
        "promoter_df['comments_stemmed'] = promoter_df['comments_stemmed'].apply(remove_stopwords)\n"
      ]
    },
    {
      "cell_type": "markdown",
      "id": "f532b6ec-6aeb-4ac7-8aff-9b0d1e96f78d",
      "metadata": {
        "id": "f532b6ec-6aeb-4ac7-8aff-9b0d1e96f78d"
      },
      "source": [
        "Great, we can see that the three words were added to the stopword list.  If we want to remove these stopwords from all of the dfs at once after updating the stopwords_list by means of the add_custom_stopwords function, we can use the following function to do so.  We won't do that just yet, so the line to call the function has been commented out for now."
      ]
    },
    {
      "cell_type": "code",
      "execution_count": null,
      "id": "967ab618-359a-4b14-861d-d165cba0e31b",
      "metadata": {
        "id": "967ab618-359a-4b14-861d-d165cba0e31b"
      },
      "outputs": [],
      "source": [
        "#Function to remove stopwords with updated stopword list from all dfs at once\n",
        "def remove_stopwords_dfs(list, remove_stopwords_func):\n",
        "    # Loop through each DataFrame number and apply the desired operation\n",
        "    for df in list:\n",
        "        # Apply the remove_stopwords function to the 'comments_stemmed' column\n",
        "        df['comments_stemmed'] = df['comments_stemmed'].apply(remove_stopwords_func)\n",
        "\n",
        "#remove_stopwords_dfs(df_list, remove_stopwords)"
      ]
    },
    {
      "cell_type": "markdown",
      "id": "242bd102-c0e0-4cd7-8bd7-71e330e439a8",
      "metadata": {
        "id": "242bd102-c0e0-4cd7-8bd7-71e330e439a8"
      },
      "source": [
        "Now let's verify that those three stopword were in fact removed by calling our visualization function again."
      ]
    },
    {
      "cell_type": "code",
      "execution_count": null,
      "id": "86f6625d-0ed9-4a88-90f3-e5d124b37c27",
      "metadata": {
        "id": "86f6625d-0ed9-4a88-90f3-e5d124b37c27",
        "outputId": "987bea77-105e-46fa-e89e-a0d883ccbca5"
      },
      "outputs": [
        {
          "data": {
            "image/png": "[encoded data removed]",
            "text/plain": [
              "<Figure size 1000x600 with 1 Axes>"
            ]
          },
          "metadata": {},
          "output_type": "display_data"
        }
      ],
      "source": [
        "# Call the plot function to check for the removed stopwords\n",
        "plot_top_30(promoter_df)"
      ]
    },
    {
      "cell_type": "markdown",
      "id": "2e6dd2b8-23b6-4530-8e58-187cd87259d8",
      "metadata": {
        "id": "2e6dd2b8-23b6-4530-8e58-187cd87259d8"
      },
      "source": [
        "Perfect, those three stopwords have been removed and we can see a few others that are more relevant have moved up the line."
      ]
    },
    {
      "cell_type": "markdown",
      "id": "ca499d5d-346c-4e2c-a350-93e1b8340a27",
      "metadata": {
        "id": "ca499d5d-346c-4e2c-a350-93e1b8340a27"
      },
      "source": [
        "Another approach we can take for analysis and stopword removal is to generate a simple list of these frequencies.  Let's create a function to do just that."
      ]
    },
    {
      "cell_type": "markdown",
      "id": "b4379e3d-f031-48d4-b8e0-c2c3bd84ff88",
      "metadata": {
        "id": "b4379e3d-f031-48d4-b8e0-c2c3bd84ff88"
      },
      "source": [
        "#### Function for List of Stem Frequency"
      ]
    },
    {
      "cell_type": "code",
      "execution_count": null,
      "id": "b6a529f5-432d-4b15-a52e-e544b0474db8",
      "metadata": {
        "id": "b6a529f5-432d-4b15-a52e-e544b0474db8"
      },
      "outputs": [],
      "source": [
        "#function for providing most frequent stemmed words as list\n",
        "def stem_freq(dataframe):\n",
        "    # Tokenize words in the 'comments_stemmed' column and create a list of all tokens\n",
        "    all_tokens = [token for sublist in dataframe['comments_stemmed'] for token in sublist]\n",
        "\n",
        "    # Calculate frequency distribution for all tokens\n",
        "    freq_dist = FreqDist(all_tokens)\n",
        "\n",
        "    #create list of tuples containing frequency and token\n",
        "    token_freq_list = [(token, freq_dist[token]) for token in freq_dist]\n",
        "\n",
        "    #Sort the list based on frequency in descending order\n",
        "    sorted_token_freq_list = sorted(token_freq_list, key=lambda x: x[1], reverse=True)\n",
        "\n",
        "    #return sorted list\n",
        "    return sorted_token_freq_list"
      ]
    },
    {
      "cell_type": "code",
      "execution_count": null,
      "id": "73d87b19-c752-462f-911e-1c33855c0bff",
      "metadata": {
        "scrolled": true,
        "id": "73d87b19-c752-462f-911e-1c33855c0bff",
        "outputId": "201657f3-a167-465a-a4e8-3a6740017249"
      },
      "outputs": [
        {
          "data": {
            "text/plain": [
              "[('servic', 163),\n",
              " ('time', 139),\n",
              " ('custom', 136),\n",
              " ('respons', 105),\n",
              " ('help', 104),\n",
              " ('problem', 104),\n",
              " ('respond', 87),\n",
              " ('fix', 66),\n",
              " ('quick', 62),\n",
              " ('commun', 62),\n",
              " ('resolv', 57),\n",
              " ('work', 48),\n",
              " ('quickli', 48),\n",
              " ('need', 46),\n",
              " ('solv', 45),\n",
              " ('knowledg', 45),\n",
              " ('oit', 45),\n",
              " ('friendli', 43),\n",
              " ('alway', 41),\n",
              " ('great', 40),\n",
              " ('ticket', 38),\n",
              " ('provid', 37),\n",
              " ('request', 37),\n",
              " ('profession', 37),\n",
              " ('prompt', 32),\n",
              " ('assist', 32),\n",
              " ('equip', 29),\n",
              " ('good', 29),\n",
              " ('make', 28),\n",
              " ('process', 28),\n",
              " ('comput', 27),\n",
              " ('well', 27),\n",
              " ('answer', 25),\n",
              " ('patient', 24),\n",
              " ('everyth', 24),\n",
              " ('softwar', 24),\n",
              " ('job', 23),\n",
              " ('fast', 22),\n",
              " ('sure', 21),\n",
              " ('question', 21),\n",
              " ('staff', 21),\n",
              " ('address', 21),\n",
              " ('effici', 20),\n",
              " ('thing', 20),\n",
              " ('follow', 19),\n",
              " ('understand', 18),\n",
              " ('team', 18),\n",
              " ('excel', 18),\n",
              " ('explain', 17),\n",
              " ('done', 17),\n",
              " ('support', 17),\n",
              " ('promptli', 16),\n",
              " ('realli', 16),\n",
              " ('person', 16),\n",
              " ('care', 15),\n",
              " ('concern', 15),\n",
              " ('troubleshoot', 15),\n",
              " ('inform', 13),\n",
              " ('courteou', 13),\n",
              " ('correct', 13),\n",
              " ('solut', 13),\n",
              " ('call', 12),\n",
              " ('access', 12),\n",
              " ('listen', 12),\n",
              " ('take', 12),\n",
              " ('experi', 11),\n",
              " ('local', 11),\n",
              " ('va', 10),\n",
              " ('abl', 10),\n",
              " ('polit', 10),\n",
              " ('phone', 10),\n",
              " ('effect', 10),\n",
              " ('troubl', 9),\n",
              " ('top', 9),\n",
              " ('complet', 9),\n",
              " ('situat', 9),\n",
              " ('easi', 9),\n",
              " ('employe', 9),\n",
              " ('contact', 9),\n",
              " ('technic', 9),\n",
              " ('within', 8),\n",
              " ('respect', 8),\n",
              " ('keep', 8),\n",
              " ('new', 8),\n",
              " ('us', 8),\n",
              " ('back', 8),\n",
              " ('timeli', 8),\n",
              " ('know', 8),\n",
              " ('program', 8),\n",
              " ('tech', 8),\n",
              " ('fashion', 8),\n",
              " ('updat', 7),\n",
              " ('system', 7),\n",
              " ('feel', 7),\n",
              " ('like', 7),\n",
              " ('laptop', 7),\n",
              " ('tri', 7),\n",
              " ('anyth', 7),\n",
              " ('reach', 7),\n",
              " ('hour', 7),\n",
              " ('also', 7),\n",
              " ('10', 7),\n",
              " ('right', 7),\n",
              " ('step', 7),\n",
              " ('go', 7),\n",
              " ('usual', 7),\n",
              " ('way', 7),\n",
              " ('kind', 6),\n",
              " ('almost', 6),\n",
              " ('via', 6),\n",
              " ('got', 6),\n",
              " ('awesom', 6),\n",
              " ('identifi', 6),\n",
              " ('find', 6),\n",
              " ('talk', 5),\n",
              " ('resolut', 5),\n",
              " ('handl', 5),\n",
              " ('day', 5),\n",
              " ('everi', 5),\n",
              " ('around', 5),\n",
              " ('never', 5),\n",
              " ('start', 5),\n",
              " ('shoot', 5),\n",
              " ('veteran', 5),\n",
              " ('ye', 5),\n",
              " ('seem', 5),\n",
              " ('ever', 5),\n",
              " ('ask', 5),\n",
              " ('run', 5),\n",
              " ('clear', 5),\n",
              " ('matter', 5),\n",
              " ('everyon', 5),\n",
              " ('super', 5),\n",
              " ('past', 5),\n",
              " ('nice', 5),\n",
              " ('even', 5),\n",
              " ('desk', 5),\n",
              " ('give', 5),\n",
              " ('extrem', 5),\n",
              " ('say', 5),\n",
              " ('member', 4),\n",
              " ('notch', 4),\n",
              " ('task', 4),\n",
              " ('password', 4),\n",
              " ('end', 4),\n",
              " ('user', 4),\n",
              " ('use', 4),\n",
              " ('immedi', 4),\n",
              " ('place', 4),\n",
              " ('close', 4),\n",
              " ('touch', 4),\n",
              " ('log', 4),\n",
              " ('aspect', 4),\n",
              " ('amaz', 4),\n",
              " ('improv', 4),\n",
              " ('station', 4),\n",
              " ('thorough', 4),\n",
              " ('attent', 4),\n",
              " ('best', 4),\n",
              " ('set', 4),\n",
              " ('someth', 4),\n",
              " ('especi', 4),\n",
              " ('24', 4),\n",
              " ('profici', 4),\n",
              " ('gener', 4),\n",
              " ('thank', 4),\n",
              " ('patienc', 4),\n",
              " ('ensur', 4),\n",
              " ('depart', 4),\n",
              " ('show', 4),\n",
              " ('line', 4),\n",
              " ('stoppag', 4),\n",
              " ('someon', 4),\n",
              " ('pleasant', 3),\n",
              " ('manag', 3),\n",
              " ('submit', 3),\n",
              " ('qualiti', 3),\n",
              " ('necessari', 3),\n",
              " ('progress', 3),\n",
              " ('educ', 3),\n",
              " ('recent', 3),\n",
              " ('turn', 3),\n",
              " ('speak', 3),\n",
              " ('found', 3),\n",
              " ('offic', 3),\n",
              " ('connect', 3),\n",
              " ('avail', 3),\n",
              " ('case', 3),\n",
              " ('els', 3),\n",
              " ('courtesi', 3),\n",
              " ('replac', 3),\n",
              " ('group', 3),\n",
              " ('oper', 3),\n",
              " ('without', 3),\n",
              " ('abil', 3),\n",
              " ('instruct', 3),\n",
              " ('away', 3),\n",
              " ('one', 3),\n",
              " ('whenev', 3),\n",
              " ('figur', 3),\n",
              " ('rate', 3),\n",
              " ('level', 3),\n",
              " ('attitud', 3),\n",
              " ('track', 3),\n",
              " ('peopl', 3),\n",
              " ('part', 3),\n",
              " ('last', 3),\n",
              " ('ad', 3),\n",
              " ('overal', 3),\n",
              " ('claim', 3),\n",
              " ('could', 3),\n",
              " ('printer', 3),\n",
              " ('mani', 3),\n",
              " ('open', 3),\n",
              " ('repres', 3),\n",
              " ('regard', 3),\n",
              " ('etc', 3),\n",
              " ('outstand', 3),\n",
              " ('feedback', 3),\n",
              " ('technolog', 3),\n",
              " ('nurs', 3),\n",
              " ('expedi', 3),\n",
              " ('beyond', 3),\n",
              " ('stay', 3),\n",
              " ('facil', 3),\n",
              " ('technician', 3),\n",
              " ('possibl', 3),\n",
              " ('guidanc', 3),\n",
              " ('would', 3),\n",
              " ('deliveri', 3),\n",
              " ('direct', 3),\n",
              " ('readi', 3),\n",
              " ('walk', 3),\n",
              " ('went', 3),\n",
              " ('function', 3),\n",
              " ('stupid', 3),\n",
              " ('instal', 3),\n",
              " ('monitor', 3),\n",
              " ('escal', 3),\n",
              " ('come', 3),\n",
              " ('properli', 2),\n",
              " ('sometim', 2),\n",
              " ('frustrat', 2),\n",
              " ('made', 2),\n",
              " ('unknown', 2),\n",
              " ('individu', 2),\n",
              " ('product', 2),\n",
              " ('share', 2),\n",
              " ('email', 2),\n",
              " ('littl', 2),\n",
              " ('present', 2),\n",
              " ('minim', 2),\n",
              " ('deal', 2),\n",
              " ('reason', 2),\n",
              " ('clearli', 2),\n",
              " ('lock', 2),\n",
              " ('easier', 2),\n",
              " ('network', 2),\n",
              " ('applic', 2),\n",
              " ('desktop', 2),\n",
              " ('interrupt', 2),\n",
              " ('impact', 2),\n",
              " ('tool', 2),\n",
              " ('orient', 2),\n",
              " ('remot', 2),\n",
              " ('app', 2),\n",
              " ('repair', 2),\n",
              " ('acknowledg', 2),\n",
              " ('thru', 2),\n",
              " ('convers', 2),\n",
              " ('center', 2),\n",
              " ('pact', 2),\n",
              " ('see', 2),\n",
              " ('yourit', 2),\n",
              " ('speed', 2),\n",
              " ('navig', 2),\n",
              " ('root', 2),\n",
              " ('chat', 2),\n",
              " ('temp', 2),\n",
              " ('piv', 2),\n",
              " ('hand', 2),\n",
              " ('truli', 2),\n",
              " ('submiss', 2),\n",
              " ('activ', 2),\n",
              " ('sinc', 2),\n",
              " ('import', 2),\n",
              " ('explan', 2),\n",
              " ('sever', 2),\n",
              " ('month', 2),\n",
              " ('develop', 2),\n",
              " ('hardwar', 2),\n",
              " ('turnaround', 2),\n",
              " ('base', 2),\n",
              " ('rout', 2),\n",
              " ('much', 2),\n",
              " ('cannot', 2),\n",
              " ('hear', 2),\n",
              " ('data', 2),\n",
              " ('fairli', 2),\n",
              " ('eas', 2),\n",
              " ('requir', 2),\n",
              " ('savvi', 2),\n",
              " ('involv', 2),\n",
              " ('statu', 2),\n",
              " ('satisfact', 2),\n",
              " ('575', 2),\n",
              " ('concis', 2),\n",
              " ('variou', 2),\n",
              " ('worker', 2),\n",
              " ('smoothli', 2),\n",
              " ('given', 2),\n",
              " ('rapidli', 2),\n",
              " ('finish', 2),\n",
              " ('offer', 2),\n",
              " ('repli', 2),\n",
              " ('rep', 2),\n",
              " ('depend', 2),\n",
              " ('cpr', 2),\n",
              " ('still', 2),\n",
              " ('downtim', 2),\n",
              " ('accur', 2),\n",
              " ('action', 2),\n",
              " ('disconnect', 2),\n",
              " ('lag', 2),\n",
              " ('chief', 2),\n",
              " ('happen', 2),\n",
              " ('train', 2),\n",
              " ('willing', 2),\n",
              " ('practic', 2),\n",
              " ('outcom', 2),\n",
              " ('perform', 2),\n",
              " ('first', 2),\n",
              " ('attempt', 2),\n",
              " ('personnel', 2),\n",
              " ('readili', 2),\n",
              " ('receiv', 2),\n",
              " ('rel', 2),\n",
              " ('pc', 2),\n",
              " ('shift', 2),\n",
              " ('setup', 2),\n",
              " ('typic', 2),\n",
              " ('wonder', 2),\n",
              " ('stop', 2),\n",
              " ('flow', 2),\n",
              " ('aris', 2),\n",
              " ('act', 2),\n",
              " ('grant', 2),\n",
              " ('happi', 2),\n",
              " ('interact', 2),\n",
              " ('focus', 2),\n",
              " ('vamc', 2),\n",
              " ('fantast', 2),\n",
              " ('item', 2),\n",
              " ('hard', 2),\n",
              " ('detail', 2),\n",
              " ('number', 2),\n",
              " ('enter', 2),\n",
              " ('spoke', 2),\n",
              " ('continu', 2),\n",
              " ('effort', 2),\n",
              " ('order', 2),\n",
              " ('spontan', 1),\n",
              " ('util', 1),\n",
              " ('assement', 1),\n",
              " ('consist', 1),\n",
              " ('tm', 1),\n",
              " ('learn', 1),\n",
              " ('video', 1),\n",
              " ('devic', 1),\n",
              " ('stick', 1),\n",
              " ('timefram', 1),\n",
              " ('asham', 1),\n",
              " ('forget', 1),\n",
              " ('login', 1),\n",
              " ('file', 1),\n",
              " ('cloud', 1),\n",
              " ('guid', 1),\n",
              " ('kept', 1),\n",
              " ('caus', 1),\n",
              " ('took', 1),\n",
              " ('bath', 1),\n",
              " ('includ', 1),\n",
              " ('emerg', 1),\n",
              " ('assign', 1),\n",
              " ('specialist', 1),\n",
              " ('persist', 1),\n",
              " ('multipl', 1),\n",
              " ('didnt', 1),\n",
              " ('approach', 1),\n",
              " ('innov', 1),\n",
              " ('fill', 1),\n",
              " ('primari', 1),\n",
              " ('across', 1),\n",
              " ('site', 1),\n",
              " ('caribbean', 1),\n",
              " ('prior', 1),\n",
              " ('cooper', 1),\n",
              " ('reappear', 1),\n",
              " ('magic', 1),\n",
              " ('courteous', 1),\n",
              " ('particular', 1),\n",
              " ('judgement', 1),\n",
              " ('comment', 1),\n",
              " ('dismiss', 1),\n",
              " ('onlin', 1),\n",
              " ('capabl', 1),\n",
              " ('insid', 1),\n",
              " ('cowork', 1),\n",
              " ('wla', 1),\n",
              " ('robert', 1),\n",
              " ('benett', 1),\n",
              " ('meticul', 1),\n",
              " ('express', 1),\n",
              " ('better', 1),\n",
              " ('thought', 1),\n",
              " ('suppli', 1),\n",
              " ('front', 1),\n",
              " ('awri', 1),\n",
              " ('ot', 1),\n",
              " ('respondd', 1),\n",
              " ('exampl', 1),\n",
              " ('entir', 1),\n",
              " ('commit', 1),\n",
              " ('directli', 1),\n",
              " ('driven', 1),\n",
              " ('small', 1),\n",
              " ('pick', 1),\n",
              " ('graciou', 1),\n",
              " ('htm', 1),\n",
              " ('comm', 1),\n",
              " ('nation', 1),\n",
              " ('lingo', 1),\n",
              " ('cancel', 1),\n",
              " ('tell', 1),\n",
              " ('put', 1),\n",
              " ('bit', 1),\n",
              " ('serious', 1),\n",
              " ('rectifi', 1),\n",
              " ('joanna', 1),\n",
              " ('moran', 1),\n",
              " ('duplic', 1),\n",
              " ('deciph', 1),\n",
              " ('meet', 1),\n",
              " ('relat', 1),\n",
              " ('final', 1),\n",
              " ('live', 1),\n",
              " ('instantli', 1),\n",
              " ('increas', 1),\n",
              " ('credibl', 1),\n",
              " ('recommend', 1),\n",
              " ('rrespod', 1),\n",
              " ('passion', 1),\n",
              " ('specif', 1),\n",
              " ('cohes', 1),\n",
              " ('togeth', 1),\n",
              " ('transpar', 1),\n",
              " ('amongst', 1),\n",
              " ('unfortun', 1),\n",
              " ('experienc', 1),\n",
              " ('yet', 1),\n",
              " ('particularli', 1),\n",
              " ('challeng', 1),\n",
              " ('stump', 1),\n",
              " ('anoth', 1),\n",
              " ('teamwork', 1),\n",
              " ('malfunct', 1),\n",
              " ('whatev', 1),\n",
              " ('audiolog', 1),\n",
              " ('impress', 1),\n",
              " ('wyom', 1),\n",
              " ('fabul', 1),\n",
              " ('let', 1),\n",
              " ('area', 1),\n",
              " ('appreci', 1),\n",
              " ('streamlin', 1),\n",
              " ('adept', 1),\n",
              " ('welcom', 1),\n",
              " ('timelin', 1),\n",
              " ('servicenow', 1),\n",
              " ('platform', 1),\n",
              " ('gotten', 1),\n",
              " ('previous', 1),\n",
              " ('tact', 1),\n",
              " ('mind', 1),\n",
              " ('adher', 1),\n",
              " ('procedur', 1),\n",
              " ('exhibit', 1),\n",
              " ('demeanor', 1),\n",
              " ('easili', 1),\n",
              " ('busi', 1),\n",
              " ('reduc', 1),\n",
              " ('deliv', 1),\n",
              " ('taken', 1),\n",
              " ('oi', 1),\n",
              " ('dumb', 1),\n",
              " ('altern', 1),\n",
              " ('goe', 1),\n",
              " ('helpdesk', 1),\n",
              " ('result', 1),\n",
              " ('occur', 1),\n",
              " ('bring', 1),\n",
              " ('huddl', 1),\n",
              " ('2x', 1),\n",
              " ('half', 1),\n",
              " ('difficulti', 1),\n",
              " ('expediti', 1),\n",
              " ('amin', 1),\n",
              " ('mitesh', 1),\n",
              " ('flight', 1),\n",
              " ('occasion', 1),\n",
              " ('look', 1),\n",
              " ('lack', 1),\n",
              " ('initi', 1),\n",
              " ('forward', 1),\n",
              " ('colleagu', 1),\n",
              " ('tier', 1),\n",
              " ('responc', 1),\n",
              " ('id', 1),\n",
              " ('attend', 1),\n",
              " ('evryth', 1),\n",
              " ('inquiri', 1),\n",
              " ('posit', 1),\n",
              " ('short', 1),\n",
              " ('period', 1),\n",
              " ('longer', 1),\n",
              " ('expect', 1),\n",
              " ('swift', 1),\n",
              " ('ideal', 1),\n",
              " ('skill', 1),\n",
              " ('throughli', 1),\n",
              " ('bottom', 1),\n",
              " ('resourc', 1),\n",
              " ('charact', 1),\n",
              " ('limit', 1),\n",
              " ('box', 1),\n",
              " ('list', 1),\n",
              " ('love', 1),\n",
              " ('superb', 1),\n",
              " ('unsur', 1),\n",
              " ('spot', 1),\n",
              " ('brief', 1),\n",
              " ('hope', 1),\n",
              " ('dept', 1),\n",
              " ('info', 1),\n",
              " ('friend', 1),\n",
              " ('ej', 1),\n",
              " ('confirm', 1),\n",
              " ('occas', 1),\n",
              " ('appropri', 1),\n",
              " ('daniel', 1),\n",
              " ('johnson', 1),\n",
              " ('icon', 1),\n",
              " ('star', 1),\n",
              " ('locat', 1),\n",
              " ('rotat', 1),\n",
              " ('extra', 1),\n",
              " ('mile', 1),\n",
              " ('rest', 1),\n",
              " ('satisfi', 1),\n",
              " ('long', 1),\n",
              " ('wait', 1),\n",
              " ('undra', 1),\n",
              " ('matt', 1),\n",
              " ('noco', 1),\n",
              " ('sourc', 1),\n",
              " ('react', 1),\n",
              " ('came', 1),\n",
              " ('cheer', 1),\n",
              " ('ann', 1),\n",
              " ('sutney', 1),\n",
              " ('soon', 1),\n",
              " ('noth', 1),\n",
              " ('except', 1),\n",
              " ('normal', 1),\n",
              " ('wrong', 1),\n",
              " ('correctli', 1),\n",
              " ('lot', 1),\n",
              " ('900', 1),\n",
              " ('year', 1),\n",
              " ('chart', 1),\n",
              " ('leav', 1),\n",
              " ('certain', 1),\n",
              " ('current', 1),\n",
              " ('instrustcion', 1),\n",
              " ('reliabl', 1),\n",
              " ('focu', 1),\n",
              " ('vbm', 1),\n",
              " ('award', 1),\n",
              " ('ex', 1),\n",
              " ('guess', 1),\n",
              " ('orderli', 1),\n",
              " ('mr', 1),\n",
              " ('narayan', 1),\n",
              " ('huge', 1),\n",
              " ('kenneth', 1),\n",
              " ('lacroix', 1),\n",
              " ('telework', 1),\n",
              " ('joseph', 1),\n",
              " ('zurbano', 1),\n",
              " ('expedit', 1),\n",
              " ('want', 1),\n",
              " ('previou', 1),\n",
              " ('met', 1),\n",
              " ('either', 1),\n",
              " ('vet', 1),\n",
              " ('smooth', 1),\n",
              " ('unit', 1),\n",
              " ('silli', 1),\n",
              " ('mistak', 1),\n",
              " ('field', 1),\n",
              " ('proper', 1),\n",
              " ('point', 1),\n",
              " ('wilk', 1),\n",
              " ('barr', 1),\n",
              " ('onsit', 1),\n",
              " ('costum', 1),\n",
              " ('pretti', 1),\n",
              " ('execut', 1),\n",
              " ('convey', 1),\n",
              " ('avoid', 1),\n",
              " ('futur', 1),\n",
              " ('regardless', 1),\n",
              " ('favor', 1),\n",
              " ('messag', 1),\n",
              " ('sent', 1),\n",
              " ('contractor', 1),\n",
              " ('incorpor', 1),\n",
              " ('intern', 1),\n",
              " ('protect', 1),\n",
              " ('wouldnt', 1),\n",
              " ('stuff', 1),\n",
              " ('simpl', 1),\n",
              " ('term', 1),\n",
              " ('beckley', 1),\n",
              " ('gave', 1),\n",
              " ('prioriti', 1),\n",
              " ('remedi', 1),\n",
              " ('throughout', 1),\n",
              " ('empathi', 1),\n",
              " ('repond', 1),\n",
              " ('prompli', 1),\n",
              " ('pac', 1),\n",
              " ('total', 1),\n",
              " ('anyon', 1),\n",
              " ('rais', 1),\n",
              " ('suggest', 1),\n",
              " ('clarifi', 1),\n",
              " ('often', 1),\n",
              " ('struggl', 1),\n",
              " ('ish', 1),\n",
              " ('leadership', 1),\n",
              " ('dealt', 1),\n",
              " ('think', 1),\n",
              " ('stellar', 1),\n",
              " ('eager', 1),\n",
              " ('idea', 1),\n",
              " ('clinic', 1),\n",
              " ('schedul', 1),\n",
              " ('48', 1),\n",
              " ('rapport', 1),\n",
              " ('workstat', 1),\n",
              " ('scanner', 1),\n",
              " ('associ', 1),\n",
              " ('add', 1),\n",
              " ('chang', 1),\n",
              " ('upgrad', 1),\n",
              " ('tkt', 1),\n",
              " ('affect', 1),\n",
              " ('ecc', 1),\n",
              " ('transit', 1),\n",
              " ('ein', 1),\n",
              " ('appdyn', 1),\n",
              " ('dynatrac', 1),\n",
              " ('plan', 1),\n",
              " ('flawlessli', 1),\n",
              " ('msr', 1),\n",
              " ('expertis', 1),\n",
              " ('observ', 1),\n",
              " ('pleas', 1),\n",
              " ('adequ', 1),\n",
              " ('next', 1),\n",
              " ('report', 1),\n",
              " ('survey', 1),\n",
              " ('constant', 1),\n",
              " ('igiv', 1),\n",
              " ('mean', 1),\n",
              " ('implement', 1),\n",
              " ('less', 1),\n",
              " ('rec', 1),\n",
              " ('host', 1),\n",
              " ('agenc', 1),\n",
              " ('decad', 1),\n",
              " ('gov', 1),\n",
              " ('said', 1),\n",
              " ('multitud', 1),\n",
              " ('loaner', 1),\n",
              " ('staf', 1),\n",
              " ('move', 1),\n",
              " ('availabl', 1),\n",
              " ('ro', 1),\n",
              " ('327', 1),\n",
              " ('serv', 1),\n",
              " ('recept', 1),\n",
              " ('uniqu', 1),\n",
              " ('accuraci', 1),\n",
              " ('recur', 1),\n",
              " ('genuin', 1),\n",
              " ('draw', 1),\n",
              " ('accoplish', 1),\n",
              " ('duti', 1),\n",
              " ('trial', 1),\n",
              " ('error', 1),\n",
              " ('enterpris', 1),\n",
              " ('th', 1),\n",
              " ('proactiv', 1),\n",
              " ('friendliest', 1),\n",
              " ('client', 1),\n",
              " ('upon', 1),\n",
              " ('east', 1),\n",
              " ('orang', 1)]"
            ]
          },
          "execution_count": 54,
          "metadata": {},
          "output_type": "execute_result"
        }
      ],
      "source": [
        "stem_freq(promoter_df)"
      ]
    },
    {
      "cell_type": "markdown",
      "id": "aa1c0a99-294a-40a0-b69b-bf6682fef03d",
      "metadata": {
        "id": "aa1c0a99-294a-40a0-b69b-bf6682fef03d"
      },
      "source": [
        "As we can see, we have the same data as the visualization above with the same top stemmed words, but now we have a list and we can view all of the stemmed words in the promoter_df at once, should we so choose.  This is where we will identify the themes comprehensively.  This will likely require manual review for the most accuracy, but once these themes and their corresponding stemmed words are identified, it should take minimal effort for upkeep.  As we will see below, respondents discussing timeliness, for example, are likely to use certain words consistently to convey that idea of timeliness.  In short, the work to categorize these themes and group their stemmed words will be frontloaded- this workload will diminish over time because of the limitations of the English language and the verbal consistency with which respondents will discuss any given topic."
      ]
    },
    {
      "cell_type": "markdown",
      "id": "f93e16ef-024e-492a-9e5c-000ede533475",
      "metadata": {
        "id": "f93e16ef-024e-492a-9e5c-000ede533475"
      },
      "source": [
        "To aid with this process, it may be helpful to export the stem list as an excel document for easier searching. The below code provides this output."
      ]
    },
    {
      "cell_type": "code",
      "execution_count": null,
      "id": "0183e7ba-bdc6-43ba-abcc-d9d095a2c3d8",
      "metadata": {
        "id": "0183e7ba-bdc6-43ba-abcc-d9d095a2c3d8",
        "outputId": "63241ff6-cdce-41bd-e0b7-52b52ed039a9"
      },
      "outputs": [
        {
          "name": "stdout",
          "output_type": "stream",
          "text": [
            "List exported to promoter_stem_list.xlsx\n"
          ]
        }
      ],
      "source": [
        "def stem_list(df, title=None):\n",
        "    #convert function output to list\n",
        "    stem_list = stem_freq(df)\n",
        "\n",
        "    #convert list to DataFrame\n",
        "    stem_list_df = pd.DataFrame({'Stem Count': stem_list})\n",
        "\n",
        "    #assign title\n",
        "    df_name = title.lower()\n",
        "\n",
        "    #specify excel file path\n",
        "    excel_file_path = f'{df_name}.xlsx'\n",
        "\n",
        "    #export DataFrame to Excel\n",
        "    stem_list_df.to_excel(excel_file_path, index=False)\n",
        "\n",
        "    print(f\"List exported to {excel_file_path}\")\n",
        "\n",
        "stem_list(promoter_df, 'promoter_stem_list')"
      ]
    },
    {
      "cell_type": "markdown",
      "id": "ba9bdcce-67e7-49b1-ae1a-113088a89cb7",
      "metadata": {
        "id": "ba9bdcce-67e7-49b1-ae1a-113088a89cb7"
      },
      "source": [
        "We want to be able to see the actual comments for any given stemmed word to verify that we are categorizing the stemmed word correctly, to analyze the comments themselves, and to provide quotes for monthly briefings as summative examples.  Let's create a function to do that."
      ]
    },
    {
      "cell_type": "code",
      "execution_count": null,
      "id": "7f532ac9-8d8a-4fff-b0af-5d9fbc22aaf7",
      "metadata": {
        "id": "7f532ac9-8d8a-4fff-b0af-5d9fbc22aaf7"
      },
      "outputs": [],
      "source": [
        "# Function to get matching rows from list of stemmed words\n",
        "def get_matching_stem(dataframe, stemmed_words):\n",
        "    def check_match(comment):\n",
        "        for word in stemmed_words:\n",
        "            if isinstance(word, str): #check if single stem\n",
        "                if word in comment:\n",
        "                    return True\n",
        "            elif isinstance(word, tuple): #check if pair of words\n",
        "                if all(w in comment for w in word):\n",
        "                    return True\n",
        "        return False\n",
        "\n",
        "    filtered_df = dataframe[dataframe['comments_stemmed'].apply(check_match)]\n",
        "\n",
        "     # Set display option to show full content of columns\n",
        "    pd.set_option('display.max_colwidth', None)\n",
        "\n",
        "    result_df = filtered_df.iloc[:, -4:-2]\n",
        "\n",
        "    return result_df\n",
        "\n",
        "#Old, single stem function below:\n",
        "#\n",
        "# def get_matching_stem(dataframe, stemmed_words):\n",
        "#     # Filter the DataFrame based on the stemmed words\n",
        "#     filtered_df = dataframe[dataframe['comments_stemmed'].apply(lambda x: any(word in x for word in stemmed_words))]\n",
        "\n",
        "#     #Reset index to avoid issues with iloc\n",
        "#     filtered_df = filtered_df.reset_index(drop=True)\n",
        "\n",
        "#     # Set display option to show full content of columns\n",
        "#     pd.set_option('display.max_colwidth', None)\n",
        "\n",
        "#     # Output the location and comment columns of the matching rows\n",
        "#     result_df = filtered_df.iloc[:, -4:-2]\n",
        "\n",
        "#     return result_df"
      ]
    },
    {
      "cell_type": "code",
      "execution_count": null,
      "id": "94d04faf-655a-4985-8f49-06a87efe0da5",
      "metadata": {
        "id": "94d04faf-655a-4985-8f49-06a87efe0da5"
      },
      "outputs": [],
      "source": [
        "# Function to get matching rows from list of stemmed words number of words in comments\n",
        "def get_matching_stem_length(dataframe, stemmed_words, min_length):\n",
        "    def check_match(comment):\n",
        "        for word in stemmed_words:\n",
        "            if isinstance(word, str): #check if single stem\n",
        "                if word in comment:\n",
        "                    return True\n",
        "            elif isinstance(word, tuple): #check if pair of words\n",
        "                if all(w in comment for w in word):\n",
        "                    return True\n",
        "        return False\n",
        "\n",
        "    filtered_df = dataframe[dataframe['comments_stemmed'].apply(lambda x: check_match(x) and len(x) >= min_length)]\n",
        "\n",
        "     # Set display option to show full content of columns\n",
        "    pd.set_option('display.max_colwidth', None)\n",
        "\n",
        "    result_df = filtered_df.iloc[:, -4:-2]\n",
        "\n",
        "    return result_df\n",
        "\n",
        "\n",
        "# #former single-stem function below:\n",
        "# # Function to get matching rows from list of stemmed words\n",
        "# def get_matching_stem_length(dataframe, stemmed_words, min_length):\n",
        "#     # Filter the DataFrame based on the stemmed words\n",
        "#     filtered_df = dataframe[dataframe['comments_stemmed'].apply(lambda x: any(word in x for word in stemmed_words) and len(x) >= min_length)]\n",
        "\n",
        "#     #Reset index to avoid issues with iloc\n",
        "#     filtered_df = filtered_df.reset_index(drop=True)\n",
        "\n",
        "#     # Set display option to show full content of columns\n",
        "#     pd.set_option('display.max_colwidth', None)\n",
        "\n",
        "#     # Output the comment column of the matching rows\n",
        "#     result_df = filtered_df.iloc[:, -4:-2]\n",
        "\n",
        "#     return result_df"
      ]
    },
    {
      "cell_type": "code",
      "execution_count": null,
      "id": "aa5ded27-d02d-400e-a56c-a04d1e91800c",
      "metadata": {
        "id": "aa5ded27-d02d-400e-a56c-a04d1e91800c"
      },
      "outputs": [],
      "source": [
        "def get_matching_all(dataframe, stemmed_words):\n",
        "    # Filter the DataFrame based on the stemmed words\n",
        "    filtered_df = dataframe[dataframe['comments_stemmed'].apply(lambda x: all(word in x for word in stemmed_words))]\n",
        "\n",
        "    #Reset index to avoid issues with iloc\n",
        "    filtered_df = filtered_df.reset_index(drop=True)\n",
        "\n",
        "    # Set display option to show full content of columns\n",
        "    pd.set_option('display.max_colwidth', None)\n",
        "\n",
        "    # Output the location and comment columns of the matching rows\n",
        "    result_df = filtered_df.iloc[:, -4:-2]\n",
        "\n",
        "    return result_df"
      ]
    },
    {
      "cell_type": "code",
      "execution_count": null,
      "id": "ad8f1f96-5157-44f8-b962-a06f7f78bdf4",
      "metadata": {
        "id": "ad8f1f96-5157-44f8-b962-a06f7f78bdf4"
      },
      "outputs": [],
      "source": [
        "#Create function to get matching rows\n",
        "def get_matching_stem_exclude(dataframe, stemmed_words, exclusion_stems):\n",
        "    #set exclusion_stems to list of exclusion_stems in called function\n",
        "    exclusion_stems = exclusion_stems\n",
        "\n",
        "    # Filter the DataFrame based on the stemmed words\n",
        "    filtered_df = dataframe[dataframe['comments_stemmed'].apply(lambda x: any(word in x for word in stemmed_words))]\n",
        "\n",
        "    #Exclude rows based on exclusion_stems\n",
        "    filtered_df = filtered_df[~filtered_df['comments_stemmed'].apply(lambda x: any(word in x for word in exclusion_stems))]\n",
        "\n",
        "    #Reset index to avoid issues with iloc\n",
        "    filtered_df = filtered_df.reset_index(drop=True)\n",
        "\n",
        "    # Set display option to show full content of columns\n",
        "    pd.set_option('display.max_colwidth', None)\n",
        "\n",
        "    # Output the first two columns of the matching rows\n",
        "    result_df = filtered_df.iloc[:, 1:3]\n",
        "\n",
        "    return result_df"
      ]
    },
    {
      "cell_type": "code",
      "execution_count": null,
      "id": "de9d2b0e-94c2-46c6-8229-0717c408f40b",
      "metadata": {
        "id": "de9d2b0e-94c2-46c6-8229-0717c408f40b"
      },
      "outputs": [],
      "source": [
        "def get_excel(output_function, *args, excel_filename=None, **kwargs):\n",
        "    #Call provided function with given argument\n",
        "    output_data = output_function(*args, **kwargs)\n",
        "\n",
        "    #Determine the Excel filename\n",
        "    if excel_filename is None:\n",
        "        excel_filename = 'output.xlsx'\n",
        "\n",
        "    #check if the filename has the .xlsx extension\n",
        "    if not excel_filename.lower().endswith('.xlsx'):\n",
        "        excel_filename += '.xlsx'\n",
        "\n",
        "    #write the dataframe to Excel fil\n",
        "    output_data.to_excel(excel_filename, index=False, engine='xlsxwriter')\n",
        "    print(f\"Excel file '{excel_filename}' created successfully.\")"
      ]
    },
    {
      "cell_type": "code",
      "execution_count": null,
      "id": "3db3a42e-471a-4601-8266-0b360658203c",
      "metadata": {
        "id": "3db3a42e-471a-4601-8266-0b360658203c"
      },
      "outputs": [],
      "source": [
        "def get_excel_length(output_function, *args, excel_filename=None, min_length, **kwargs):\n",
        "    #Call provided function with given argument\n",
        "    output_data = output_function(*args, min_length, **kwargs)\n",
        "\n",
        "    #Determine the Excel filename\n",
        "    if excel_filename is None:\n",
        "        excel_filename = 'output.xlsx'\n",
        "\n",
        "    #check if the filename has the .xlsx extension\n",
        "    if not excel_filename.lower().endswith('.xlsx'):\n",
        "        excel_filename += '.xlsx'\n",
        "\n",
        "    #write the dataframe to Excel fil\n",
        "    output_data.to_excel(excel_filename, index=False, engine='xlsxwriter')\n",
        "    print(f\"Excel file '{excel_filename}' created successfully.\")"
      ]
    },
    {
      "cell_type": "code",
      "execution_count": null,
      "id": "e0bc899c-39bc-495a-b13d-876994f40296",
      "metadata": {
        "id": "e0bc899c-39bc-495a-b13d-876994f40296"
      },
      "outputs": [],
      "source": [
        "#Extend display to see all rows\n",
        "pd.set_option('display.max_rows', None)\n",
        "pd.set_option('display.max_columns', None)"
      ]
    },
    {
      "cell_type": "markdown",
      "id": "bf3f5b7a-89f0-42a9-ba85-7a800add8e03",
      "metadata": {
        "id": "bf3f5b7a-89f0-42a9-ba85-7a800add8e03"
      },
      "source": [
        "### **Category Comment Analysis**\n",
        "\n",
        "*   Stemmed word lists for each of the 19 categories\n",
        "*   The variable names are\n",
        "\n",
        "```\n",
        "accountability\n",
        "career_advancement\n",
        "communication\n",
        "idea\n",
        "employee_engagement\n",
        "leadership\n",
        "meaningful_change\n",
        "ode\n",
        "performance_management\n",
        "position_management\n",
        "process_improvement\n",
        "recognition\n",
        "resources\n",
        "staffing\n",
        "succession_planning\n",
        "strategy\n",
        "technology\n",
        "telework\n",
        "positive_comments\n",
        "```\n",
        "\n",
        "\n",
        "\n"
      ]
    },
    {
      "cell_type": "markdown",
      "source": [
        "Accountability"
      ],
      "metadata": {
        "id": "3cdBx4h63FvQ"
      },
      "id": "3cdBx4h63FvQ"
    },
    {
      "cell_type": "code",
      "source": [
        "accountability = ['respons', 'ownership', 'self-account', 'leadership', 'decision-mak', 'integr', 'transpar', 'self-disciplin', 'commit', 'answer', 'perform', 'expect', 'standard', 'evalu', 'feedback', 'consequ', 'improv', 'compli', 'monitor', 'supervis', 'teamwork', 'collabor', 'mutual account', 'peer review', 'support', 'trust', 'commun', 'shared goal', 'cooper']\n"
      ],
      "metadata": {
        "id": "ez1mvD7s3Dx6"
      },
      "id": "ez1mvD7s3Dx6",
      "execution_count": null,
      "outputs": []
    },
    {
      "cell_type": "markdown",
      "source": [
        "Career Advancement"
      ],
      "metadata": {
        "id": "yYNS_G5b3Lb_"
      },
      "id": "yYNS_G5b3Lb_"
    },
    {
      "cell_type": "code",
      "source": [
        "career_advancement = ['advanc', 'promot', 'opportun', 'growth', 'career ladder', 'recognit', 'merit', 'progress', 'rais', 'promotion criteria', 'train', 'cours', 'certif', 'professional develop', 'cross-train', 'workshop', 'skill-build', 'learn', 'educ', 'development program', 'career path', 'development track', 'roadmap', 'progress plan', 'career goal', 'mentor', 'guid', 'career plan', 'succession plan', 'long-term goal']\n"
      ],
      "metadata": {
        "id": "bDj2OiqP3KU5"
      },
      "id": "bDj2OiqP3KU5",
      "execution_count": null,
      "outputs": []
    },
    {
      "cell_type": "markdown",
      "source": [
        "Communication"
      ],
      "metadata": {
        "id": "SL0X3IwJ3OD3"
      },
      "id": "SL0X3IwJ3OD3"
    },
    {
      "cell_type": "code",
      "source": [
        "communication = ['open', 'honest', 'clar', 'trust', 'disclos', 'candor', 'integr', 'straightforward', 'account', 'visibil', 'verbal', 'written', 'email', 'meet', 'team', 'chat', 'video call', 'present', 'report', 'announc', 'overcommun', 'undercommun', 'frequenc', 'volum', 'balanc', 'suffici', 'excess', 'inadequ', 'consist', 'information overload']\n"
      ],
      "metadata": {
        "id": "oT4OCWIh3T0w"
      },
      "id": "oT4OCWIh3T0w",
      "execution_count": null,
      "outputs": []
    },
    {
      "cell_type": "markdown",
      "source": [
        "Inclusion, Diversity, Equity, and Accessibility (IDEA)"
      ],
      "metadata": {
        "id": "iVYdH3iG3QqI"
      },
      "id": "iVYdH3iG3QqI"
    },
    {
      "cell_type": "code",
      "source": [
        "idea = ['divers', 'inclus', 'represent', 'equal opportun', 'diverse workforce', 'recruit', 'hiring practic', 'affirmative action', 'minor', 'underrepresent group', 'discrimin', 'bias', 'prejudic', 'harass', 'inequal', 'unfair treat', 'racism', 'sexism', 'exclus', 'microaggress']\n"
      ],
      "metadata": {
        "id": "JFpaGyqO3Vqp"
      },
      "id": "JFpaGyqO3Vqp",
      "execution_count": null,
      "outputs": []
    },
    {
      "cell_type": "markdown",
      "source": [
        "Employee Engagement"
      ],
      "metadata": {
        "id": "2LDPG0me3W53"
      },
      "id": "2LDPG0me3W53"
    },
    {
      "cell_type": "code",
      "source": [
        "employee_engagement = ['moral', 'engag', 'motiv', 'enthusi', 'job satisfact', 'commit', 'energi', 'positiv', 'disengag', 'burnout', 'leadership', 'support', 'guid', 'feedback', 'recognit', 'encourag', 'influenc', 'relationship', 'trust', 'manag', 'eecc', 'connection call', 'engagement call', 'employee check-in', 'commun', 'interact', 'feedback session', 'engagement meet', 'employee discuss', 'connection session', 'teamwork', 'collabor', 'cooper', 'camaraderi', 'trust', 'relationship-build', 'team bond', 'unit']\n"
      ],
      "metadata": {
        "id": "u1HSk4wA3aQ_"
      },
      "id": "u1HSk4wA3aQ_",
      "execution_count": null,
      "outputs": []
    },
    {
      "cell_type": "markdown",
      "source": [
        "Leadership"
      ],
      "metadata": {
        "id": "uLdpt0Vi3a9A"
      },
      "id": "uLdpt0Vi3a9A"
    },
    {
      "cell_type": "code",
      "source": [
        "leadership = ['feedback', 'input', 'suggest', 'opinion', 'commun', 'ignor', 'overlook', 'unheard', 'dismiss', 'engag', 'ethic', 'integr', 'honest', 'fair', 'transpar', 'account', 'corrupt', 'misconduct', 'unethic', 'trustworthi', 'direct', 'guid', 'strategi', 'vision', 'priorit', 'goal', 'leadership', 'plan', 'discontent', 'misalign', 'servant leadership', 'empat', 'support', 'priorit', 'selfless', 'employee-focus', 'care', 'nurtur', 'empower', 'advocaci', 'trust', 'confid', 'reliabl', 'depend', 'credibil', 'faith', 'assur', 'loyalti', 'respect', 'belief']\n"
      ],
      "metadata": {
        "id": "RLlObpfF3dHx"
      },
      "id": "RLlObpfF3dHx",
      "execution_count": null,
      "outputs": []
    },
    {
      "cell_type": "markdown",
      "source": [
        "Meaningful Change"
      ],
      "metadata": {
        "id": "NHeMrya63eC4"
      },
      "id": "NHeMrya63eC4"
    },
    {
      "cell_type": "code",
      "source": [
        "meaningful_change = ['repeat', 'unchang', 'stagnant', 'ignor', 'overlook', 'unaddress', 'unresolv', 'inaction', 'frustrat', 'disregard', 'futil', 'pointless', 'hopeless', 'ineffect', 'dishearten', 'discourag', 'unheard', 'neglect', 'waste of time', 'skeptic', 'privaci', 'confidenti', 'anonym', 'secur', 'trust', 'protect', 'sensit inform', 'data breach', 'concern', 'safeguard']\n"
      ],
      "metadata": {
        "id": "fMSi4QJG3f7O"
      },
      "id": "fMSi4QJG3f7O",
      "execution_count": null,
      "outputs": []
    },
    {
      "cell_type": "markdown",
      "source": [
        "ODE"
      ],
      "metadata": {
        "id": "C2D4ZsLG3hAI"
      },
      "id": "C2D4ZsLG3hAI"
    },
    {
      "cell_type": "code",
      "source": [
        "ode = ['ode', 'aes', 'ees', 'survey', 'feedback', 'assess', 'evalu', 'metric', 'data collect', 'organizational develop', 'eecc', 'connection call', 'engagement call', '6 essential question', 'performance consultant', 'pc work', 'workshop', 'train session', 'development program', 'employee engag']\n"
      ],
      "metadata": {
        "id": "Jp7z-jNr3inn"
      },
      "id": "Jp7z-jNr3inn",
      "execution_count": null,
      "outputs": []
    },
    {
      "cell_type": "markdown",
      "source": [
        "Performance Management"
      ],
      "metadata": {
        "id": "p0-t_drh3jWT"
      },
      "id": "p0-t_drh3jWT"
    },
    {
      "cell_type": "code",
      "source": [
        "performance_management = ['performance review', 'apprais', 'evalu', 'feedback', 'goal', 'object', 'achiev', 'improv', 'assess', 'develop', 'fair', 'impartial', 'unbias', 'equit', 'just', 'honest', 'transpar', 'object', 'balanc', 'accur']\n"
      ],
      "metadata": {
        "id": "S9K3HzKY3moi"
      },
      "id": "S9K3HzKY3moi",
      "execution_count": null,
      "outputs": []
    },
    {
      "cell_type": "markdown",
      "source": [
        "Position Management"
      ],
      "metadata": {
        "id": "fI6DKEDA5EvR"
      },
      "id": "fI6DKEDA5EvR"
    },
    {
      "cell_type": "code",
      "source": [
        "position_management = ['position descript', 'job role', 'respons', 'duti', 'task', 'accur', 'represent', 'job analys', 'role clar', 'job specific', 'align', 'skillset', 'competenc', 'qualif', 'expertis', 'match', 'fit', 'workforce plan', 'role suit', 'talent manag']\n"
      ],
      "metadata": {
        "id": "YPfUAyfM5Hux"
      },
      "id": "YPfUAyfM5Hux",
      "execution_count": null,
      "outputs": []
    },
    {
      "cell_type": "markdown",
      "source": [
        "Process Improvement"
      ],
      "metadata": {
        "id": "tgFP_EuY3nTE"
      },
      "id": "tgFP_EuY3nTE"
    },
    {
      "cell_type": "code",
      "source": [
        "process_improvement = ['workflow', 'effici', 'optim', 'streamlin', 'automat', 'tool integr', 'process enhanc', 'improv', 'product', 'simplif']\n"
      ],
      "metadata": {
        "id": "GShrIKry3pEX"
      },
      "id": "GShrIKry3pEX",
      "execution_count": null,
      "outputs": []
    },
    {
      "cell_type": "markdown",
      "source": [
        "Recognition"
      ],
      "metadata": {
        "id": "4-SzmYsa3qyf"
      },
      "id": "4-SzmYsa3qyf"
    },
    {
      "cell_type": "code",
      "source": [
        "recognition = ['bonus', 'incent', 'reward', 'performance bonus', 'achiev', 'recognit', 'extra pay', 'financial reward', 'merit pay', 'gratific', 'qsi', 'quality step increas', 'step increas', 'pay rais', 'salary adjust', 'performance-based increas', 'promot', 'increm', 'compens', 'pay scale', 'salary', 'pay', 'compens', 'wage', 'earn', 'competit pay', 'industry standard', 'remuner', 'incom', 'financial compens']\n"
      ],
      "metadata": {
        "id": "GdTey1fR3sof"
      },
      "id": "GdTey1fR3sof",
      "execution_count": null,
      "outputs": []
    },
    {
      "cell_type": "markdown",
      "source": [
        "Resources\n"
      ],
      "metadata": {
        "id": "QCuX6RQc3tYi"
      },
      "id": "QCuX6RQc3tYi"
    },
    {
      "cell_type": "code",
      "source": [
        "resources = ['tool', 'applic', 'softwar', 'equip', 'resourc', 'technolog', 'instrument', 'util', 'devic', 'solut', 'access', 'permiss', 'administr right', 'system access', 'user privileg', 'author', 'secur clear', 'credential', 'access control', 'account manag']\n"
      ],
      "metadata": {
        "id": "L0_gxx5131Hg"
      },
      "id": "L0_gxx5131Hg",
      "execution_count": null,
      "outputs": []
    },
    {
      "cell_type": "markdown",
      "source": [
        "Staffing"
      ],
      "metadata": {
        "id": "HoLEGqOs30dY"
      },
      "id": "HoLEGqOs30dY"
    },
    {
      "cell_type": "code",
      "source": [
        "staffing = ['staffing level', 'workforc', 'augment', 'headcount', 'personnel', 'team size', 'recruit', 'hir', 'expans', 'capac', 'workload', 'overburden', 'stress', 'burnout', 'overwork', 'task load', 'operational issu', 'capac', 'product', 'effici', 'hir', 'recruit', 'unethic', 'unfair', 'slow process', 'bias', 'discrimin', 'delay', 'ineffici', 'transpar', 'engag', 'motiv', 'commit', 'enthusi', 'job satisfact', 'involv', 'particip', 'dedic', 'moral', 'product']\n"
      ],
      "metadata": {
        "id": "vWcQSGHs3zvs"
      },
      "id": "vWcQSGHs3zvs",
      "execution_count": null,
      "outputs": []
    },
    {
      "cell_type": "markdown",
      "source": [
        "Strategy\n"
      ],
      "metadata": {
        "id": "7tJbLAwU3-2p"
      },
      "id": "7tJbLAwU3-2p"
    },
    {
      "cell_type": "code",
      "source": [
        "strategy = ['reorganiz', 'realign', 'structural chang', 'organizational chang', 'restructur', 'transit', 'adapt', 'uncertain', 'stabil', 'adjust', 'cloud strategi', 'cloud adopt', 'cloud migrat', 'cloud servic', 'cloud comput', 'scalabil', 'flexibil', 'innovat', 'cloud infrastructur', 'cloud solut', 'polici', 'compli', 'regul', 'guidelin', 'standard', 'procedur', 'adher', 'govern', 'protocol', 'rule']\n"
      ],
      "metadata": {
        "id": "h6OyGwuS4FD1"
      },
      "id": "h6OyGwuS4FD1",
      "execution_count": null,
      "outputs": []
    },
    {
      "cell_type": "markdown",
      "source": [
        "Succession Planning"
      ],
      "metadata": {
        "id": "_Zc1Ox8Y4F1S"
      },
      "id": "_Zc1Ox8Y4F1S"
    },
    {
      "cell_type": "code",
      "source": [
        "succession_planning = ['success', 'successor', 'knowledge transfer', 'mentor', 'train', 'develop', 'continu', 'leadership pipelin', 'skill develop', 'prepar', 'coach', 'transit', 'future leader', 'talent manag', 'knowledge shar']\n"
      ],
      "metadata": {
        "id": "dlkpZeZ-4G0I"
      },
      "id": "dlkpZeZ-4G0I",
      "execution_count": null,
      "outputs": []
    },
    {
      "cell_type": "markdown",
      "source": [
        "Technology"
      ],
      "metadata": {
        "id": "YTuP55-J4HuI"
      },
      "id": "YTuP55-J4HuI"
    },
    {
      "cell_type": "code",
      "source": [
        "technology = ['vista', 'vmware', 'system', 'softwar', 'applic', 'platform', 'technolog', 'it system', 'infrastructur', 'solut', 'connection issu', 'network problem', 'connect', 'downtim', 'latenc', 'access issu', 'system outag', 'technical difficulti', 'network failur', 'disrupt', 'cerner', 'ehr', 'electronic health record', 'health it', 'medical record', 'patient data', 'health inform', 'digital record', 'health system', 'clinical document', 'microsoft team', 'collabor tool', 'commun platform', 'video conferenc', 'chat', 'virtual meet', 'technical support',"
      ],
      "metadata": {
        "id": "b-0zrK-h4Ih7"
      },
      "id": "b-0zrK-h4Ih7",
      "execution_count": null,
      "outputs": []
    },
    {
      "cell_type": "markdown",
      "source": [
        "Telework"
      ],
      "metadata": {
        "id": "0GXtwsNf4kAQ"
      },
      "id": "0GXtwsNf4kAQ"
    },
    {
      "cell_type": "code",
      "source": [
        "telework = ['telework', 'remote work', 'work from home', 'flexibil', 'telecommut', 'virtual work', 'remote opportun', 'wfh', 'home offic', 'flexible schedul', 'remote option']\n"
      ],
      "metadata": {
        "id": "VNrbP0o04ZwB"
      },
      "id": "VNrbP0o04ZwB",
      "execution_count": null,
      "outputs": []
    },
    {
      "cell_type": "markdown",
      "source": [
        "Positive Comments"
      ],
      "metadata": {
        "id": "7yW3Eavl4naN"
      },
      "id": "7yW3Eavl4naN"
    },
    {
      "cell_type": "code",
      "source": [
        "positive_comments = ['appreci', 'satisfact', 'enjoy', 'positive experienc', 'gratitud', 'motiv', 'encourag', 'fulfil', 'pride', 'happi', 'support', 'team spirit', 'collabor', 'innovat', 'achiev', 'recognit', 'growth', 'develop', 'success', 'positive feedback']\n"
      ],
      "metadata": {
        "id": "oh2Ar4EU4qn7"
      },
      "id": "oh2Ar4EU4qn7",
      "execution_count": null,
      "outputs": []
    },
    {
      "cell_type": "markdown",
      "source": [],
      "metadata": {
        "id": "01UuAiz4H3EI"
      },
      "id": "01UuAiz4H3EI"
    },
    {
      "cell_type": "markdown",
      "source": [
        "Matching Stem Collections:"
      ],
      "metadata": {
        "id": "KJhp3RvJ4Y8A"
      },
      "id": "KJhp3RvJ4Y8A"
    },
    {
      "cell_type": "code",
      "source": [
        "\n",
        "get_matching_stem(promoter_df, accountability)"
      ],
      "metadata": {
        "id": "Efaqs-68H5j_"
      },
      "id": "Efaqs-68H5j_",
      "execution_count": null,
      "outputs": []
    },
    {
      "cell_type": "code",
      "source": [
        "get_matching_stem(promoter_df, career_advancement)"
      ],
      "metadata": {
        "id": "1mA1EdFCINzE"
      },
      "id": "1mA1EdFCINzE",
      "execution_count": null,
      "outputs": []
    },
    {
      "cell_type": "code",
      "source": [
        "get_matching_stem(promoter_df, communication)"
      ],
      "metadata": {
        "id": "pAGjKtZ7IM86"
      },
      "id": "pAGjKtZ7IM86",
      "execution_count": null,
      "outputs": []
    },
    {
      "cell_type": "code",
      "source": [
        "get_matching_stem(promoter_df, idea)"
      ],
      "metadata": {
        "id": "Za-f7QEyIL_h"
      },
      "id": "Za-f7QEyIL_h",
      "execution_count": null,
      "outputs": []
    },
    {
      "cell_type": "code",
      "source": [
        "get_matching_stem(promoter_df, employee_engagement)"
      ],
      "metadata": {
        "id": "ZpMbhBevIK_8"
      },
      "id": "ZpMbhBevIK_8",
      "execution_count": null,
      "outputs": []
    },
    {
      "cell_type": "code",
      "source": [
        "get_matching_stem(promoter_df, idea)"
      ],
      "metadata": {
        "id": "Y4t_tomTIdHR"
      },
      "id": "Y4t_tomTIdHR",
      "execution_count": null,
      "outputs": []
    },
    {
      "cell_type": "code",
      "source": [
        "get_matching_stem(promoter_df, employee_engagement)"
      ],
      "metadata": {
        "id": "t-1_2xKDIqw4"
      },
      "id": "t-1_2xKDIqw4",
      "execution_count": null,
      "outputs": []
    },
    {
      "cell_type": "code",
      "source": [
        "get_matching_stem(promoter_df, leadership)"
      ],
      "metadata": {
        "id": "3A2Pf3ysIpnu"
      },
      "id": "3A2Pf3ysIpnu",
      "execution_count": null,
      "outputs": []
    },
    {
      "cell_type": "code",
      "source": [
        "get_matching_stem(promoter_df, meaningful_change)"
      ],
      "metadata": {
        "id": "355xl4hkIov8"
      },
      "id": "355xl4hkIov8",
      "execution_count": null,
      "outputs": []
    },
    {
      "cell_type": "code",
      "source": [
        "get_matching_stem(promoter_df, ode)"
      ],
      "metadata": {
        "id": "Yk-wRgBWInu_"
      },
      "id": "Yk-wRgBWInu_",
      "execution_count": null,
      "outputs": []
    },
    {
      "cell_type": "code",
      "source": [
        "get_matching_stem(promoter_df, performance_management)"
      ],
      "metadata": {
        "id": "X4y_xo-PImje"
      },
      "id": "X4y_xo-PImje",
      "execution_count": null,
      "outputs": []
    },
    {
      "cell_type": "code",
      "source": [
        "get_matching_stem(promoter_df, position_management)"
      ],
      "metadata": {
        "id": "HCtG5x1TI4gw"
      },
      "id": "HCtG5x1TI4gw",
      "execution_count": null,
      "outputs": []
    },
    {
      "cell_type": "code",
      "source": [
        "get_matching_stem(promoter_df, position_management)"
      ],
      "metadata": {
        "id": "gxTAazBEI7R5"
      },
      "id": "gxTAazBEI7R5",
      "execution_count": null,
      "outputs": []
    },
    {
      "cell_type": "code",
      "source": [
        "get_matching_stem(promoter_df, process_improvement)"
      ],
      "metadata": {
        "id": "a21ojhyOI6EH"
      },
      "id": "a21ojhyOI6EH",
      "execution_count": null,
      "outputs": []
    },
    {
      "cell_type": "code",
      "source": [
        "get_matching_stem(promoter_df, recognition)"
      ],
      "metadata": {
        "id": "JM22UqgZJNVK"
      },
      "id": "JM22UqgZJNVK",
      "execution_count": null,
      "outputs": []
    },
    {
      "cell_type": "code",
      "source": [
        "get_matching_stem(promoter_df, resources)"
      ],
      "metadata": {
        "id": "AhEIJqgMJMDb"
      },
      "id": "AhEIJqgMJMDb",
      "execution_count": null,
      "outputs": []
    },
    {
      "cell_type": "code",
      "source": [
        "get_matching_stem(promoter_df, staffing)"
      ],
      "metadata": {
        "id": "9ivVbf_BJKpo"
      },
      "id": "9ivVbf_BJKpo",
      "execution_count": null,
      "outputs": []
    },
    {
      "cell_type": "code",
      "source": [
        "get_matching_stem(promoter_df, succession_planning)"
      ],
      "metadata": {
        "id": "0a971ablJG-x"
      },
      "id": "0a971ablJG-x",
      "execution_count": null,
      "outputs": []
    },
    {
      "cell_type": "code",
      "source": [],
      "metadata": {
        "id": "VDdcdvI1Jd6j"
      },
      "id": "VDdcdvI1Jd6j",
      "execution_count": null,
      "outputs": []
    },
    {
      "cell_type": "code",
      "source": [],
      "metadata": {
        "id": "rAyvMUaUJc4R"
      },
      "id": "rAyvMUaUJc4R",
      "execution_count": null,
      "outputs": []
    },
    {
      "cell_type": "markdown",
      "id": "6ab89f24-59c0-4f35-a859-0abc04a62be9",
      "metadata": {
        "id": "6ab89f24-59c0-4f35-a859-0abc04a62be9"
      },
      "source": [
        "Te#### Customer Service Theme"
      ]
    },
    {
      "cell_type": "code",
      "execution_count": null,
      "id": "e2cc1834-a688-406f-9aef-5a0d1337f85b",
      "metadata": {
        "scrolled": true,
        "id": "e2cc1834-a688-406f-9aef-5a0d1337f85b"
      },
      "outputs": [],
      "source": [
        "#Create list for Customer Service stems\n",
        "#('stem1', 'stem2') for pairs, otherwise just 'stem'\n",
        "#To add to this list, follow the same format for stems or pairs of stems.  In order to know what stem format a word will take, look at the stem list\n",
        "#exports and search using the first few letters of the word you are looking for.\n",
        "\n",
        "#cust_serv = [('servic', 'custom'), ('servic', 'great'), ('servic', 'poor'), ('servic', 'bad'), ('servic', 'badli'), ('servic', 'excellent'),\n",
        "#             ('servic', 'receiv'), ('servic', 'reciev'), ('servic', 'good'), ('servic', 'terribl'), ('servic', 'outstand'), ('servic', 'horribl'),\n",
        "#             ('servic', 'better'), ('servic', 'improv'), ('servic', 'declin'), ('servic', 'provid'),\n",
        "#             'support', 'nice', 'kind', 'kindli', 'friendli', 'respect', 'helpful', 'understand', 'empathi', 'empathet', ('good', 'listen'), 'helpful',\n",
        "#             'care', 'profession', 'professionali', 'attent', 'attentit',\n",
        "#             'rude', 'rudest', 'disrespect', 'arrog', 'irrit', 'burden', 'burdensom', 'yell', 'shout', 'condescend', 'condecend', 'condescens',\n",
        "#             'swear', 'curs', ('under', 'breath')]\n",
        "\n",
        "#Previous list in this script below, in case it is helpful\n",
        "# cust_serv = [('servic', 'custom'), 'custom', 'support', 'nice', 'kind', 'kindli', 'friendli', 'respect', 'helpful', 'understand', 'empathi', 'empathet',\n",
        "#              'care', 'profession', 'professionali', 'attent', 'attentit', 'happi', 'felt',\n",
        "#              'rude', 'rudest', 'disrespect', 'arrog', 'irrit', 'burden', 'burdensom', 'condescend', 'condecend', 'condescens', 'stupid',\n",
        "#              'yell', 'frustrat', 'attitud', 'behavior', 'moral', 'inappropri']\n",
        "\n",
        "#General Customer Service tags used by CFI:\n",
        "#The following are all captured in the Python with the stem 'servic'. For the promoter and detractor dfs, 'servic' is enough, but for the other\n",
        "#dataframes like the passives where we may need to parse out the proporation of positive and negative comments related to customer service, the secondary\n",
        "#stems attached to 'servic' below may be a helfpul place to start.\n",
        "#\"\\\"customer service\\\" OR \\\"great service\\\" OR \\\"poor service\\\" OR \\\"bad service\\\" OR \\\"excellent service\\\" OR \\\"service I received\\\"\n",
        "#OR \\\"service I receive\\\" OR \\\"good service\\\" OR \\\"terrible service\\\" OR \\\"outstanding service\\\" OR \\\"horrible service\\\" OR\n",
        "#\\\"better service\\\" OR \\\"improve service\\\" OR \\\"declined service\\\" OR \\\"declining service\\\" OR \\\"improved service\\\" OR \\\"improving service\\\"\n",
        "#OR \\\"service they provide\\\" OR \\\"service they provided\\\"\n",
        "\n",
        "#General Customer Service tags used by CFI without the term 'service':\n",
        "#OR support or rude or nice or kind or disrespect or arrogant or irritated or burden\n",
        "#or nice or friendly or respect or helpful or understanding or empathetic or \\\"good listener\\\" or yell or shout or condescending or swear or\n",
        "#curse or (under breath)~2 or helpful or caring or \\\"care about\\\" or \\\"cares about\\\" or professional or professionalism or attentive\"\n",
        "\n",
        "\n",
        "#Pull rows for the cust_serv stem list above, aka \"Customer Service\" comments\n",
        "#get_matching_stem(promoter_df, cust_serv)"
      ]
    },
    {
      "cell_type": "markdown",
      "id": "e7e2e37f-d1ed-4324-a59f-711ce5c909bd",
      "metadata": {
        "id": "e7e2e37f-d1ed-4324-a59f-711ce5c909bd"
      },
      "source": [
        "A quick glance at these show that this method has provided accurate results.  The vast majority of these comments discuss elements of customer service with very few exceptions."
      ]
    },
    {
      "cell_type": "markdown",
      "id": "7a5434e3-761a-400f-95bc-e56bf69cbb5b",
      "metadata": {
        "id": "7a5434e3-761a-400f-95bc-e56bf69cbb5b"
      },
      "source": [
        "If we need to check other stems, below is the get_matching_stem function"
      ]
    },
    {
      "cell_type": "code",
      "execution_count": null,
      "id": "90fbfebe-d3b8-4018-899e-41b1f09ffeac",
      "metadata": {
        "scrolled": true,
        "id": "90fbfebe-d3b8-4018-899e-41b1f09ffeac"
      },
      "outputs": [],
      "source": [
        "#call function to pull rows for given stem\n",
        "get_matching_stem_length(promoter_df, cust_serv, 10)"
      ]
    },
    {
      "cell_type": "markdown",
      "id": "2c0eecfd-a8c7-4fec-91d0-0fdf6b53c1d9",
      "metadata": {
        "id": "2c0eecfd-a8c7-4fec-91d0-0fdf6b53c1d9"
      },
      "source": [
        "##### Converting to Excel Output"
      ]
    },
    {
      "cell_type": "code",
      "execution_count": null,
      "id": "207f1852-d8ff-4d8b-86ad-c7f7cdfa44b1",
      "metadata": {
        "id": "207f1852-d8ff-4d8b-86ad-c7f7cdfa44b1",
        "outputId": "44f668bb-d309-4219-fc13-e2cb66bd299d"
      },
      "outputs": [
        {
          "name": "stdout",
          "output_type": "stream",
          "text": [
            "Excel file 'Promoter Customer Service Comments.xlsx' created successfully.\n"
          ]
        }
      ],
      "source": [
        "get_excel(get_matching_stem, promoter_df, cust_serv, excel_filename='Promoter Customer Service Comments')"
      ]
    },
    {
      "cell_type": "code",
      "execution_count": null,
      "id": "69308e27-9d39-4d97-98d4-fd3b4467ad7f",
      "metadata": {
        "id": "69308e27-9d39-4d97-98d4-fd3b4467ad7f",
        "outputId": "c355ec0c-cbc5-4185-e4a7-401fea86f931"
      },
      "outputs": [
        {
          "name": "stdout",
          "output_type": "stream",
          "text": [
            "Excel file 'Promoter Customer Service Comments 10 Or More Words.xlsx' created successfully.\n"
          ]
        }
      ],
      "source": [
        "get_excel_length(get_matching_stem_length, promoter_df, cust_serv, min_length=10, excel_filename='Promoter Customer Service Comments 10 Or More Words')"
      ]
    },
    {
      "cell_type": "markdown",
      "id": "bf0218ef-a48a-4fd5-95bf-4e328e7c6097",
      "metadata": {
        "id": "bf0218ef-a48a-4fd5-95bf-4e328e7c6097"
      },
      "source": [
        "A quick glance at these show that this method has provided accurate results.  The vast majority of these comments discuss elements of customer service with very few exceptions.\n",
        "\n",
        "If we need to check other stems, below is the get_matching_stem function"
      ]
    },
    {
      "cell_type": "code",
      "execution_count": null,
      "id": "444b00c1-32e5-4fff-bae9-963b254fb51a",
      "metadata": {
        "id": "444b00c1-32e5-4fff-bae9-963b254fb51a",
        "outputId": "4895c0ea-9ea4-4dad-b12f-ea7944a4eab4"
      },
      "outputs": [
        {
          "data": {
            "text/html": [
              "<div>\n",
              "<style scoped>\n",
              "    .dataframe tbody tr th:only-of-type {\n",
              "        vertical-align: middle;\n",
              "    }\n",
              "\n",
              "    .dataframe tbody tr th {\n",
              "        vertical-align: top;\n",
              "    }\n",
              "\n",
              "    .dataframe thead th {\n",
              "        text-align: right;\n",
              "    }\n",
              "</style>\n",
              "<table border=\"1\" class=\"dataframe\">\n",
              "  <thead>\n",
              "    <tr style=\"text-align: right;\">\n",
              "      <th></th>\n",
              "      <th>Location</th>\n",
              "      <th>Promoter Comments</th>\n",
              "    </tr>\n",
              "  </thead>\n",
              "  <tbody>\n",
              "    <tr>\n",
              "      <th>101</th>\n",
              "      <td>TN - Nashville VA Medical Center (626)</td>\n",
              "      <td>speak clearly and respectfully.  never make me feel like i should be ashamed of getting locked out of the system or forgetting passwords.</td>\n",
              "    </tr>\n",
              "    <tr>\n",
              "      <th>544</th>\n",
              "      <td>MT - Fort Harrison VA Medical Center (436)</td>\n",
              "      <td>i feel response time is great and many things can be done over the phone instantly. it increases my credibility when i recommend it and it works!</td>\n",
              "    </tr>\n",
              "    <tr>\n",
              "      <th>750</th>\n",
              "      <td>NJ - East Orange VA Medical Center (561)</td>\n",
              "      <td>good equipment, quick troubleshooting, never makes me feel dumb</td>\n",
              "    </tr>\n",
              "    <tr>\n",
              "      <th>998</th>\n",
              "      <td>CA - Los Angeles, Greater Los Angeles Healthcare System (691)</td>\n",
              "      <td>they fix things immediately on the phone if they can. if they can't, i feel like it's not that long a wait before i hear from someone local who gets on my computer and helps me.</td>\n",
              "    </tr>\n",
              "    <tr>\n",
              "      <th>1029</th>\n",
              "      <td>IL - Marion VA Medical Center (657A5)</td>\n",
              "      <td>i know almost nothing about computers except how to work the programs when everything is functioning normally.  when things go wrong or i am just not doing something correctly, they never make me feel stupid.  they have been super in person, teams, or via the phone.  i have worked lots of places in my 900 years of nursing and this group at the va are off the charts!!</td>\n",
              "    </tr>\n",
              "    <tr>\n",
              "      <th>1123</th>\n",
              "      <td>OK - Muskogee, Jack C. Montgomery VA Medical Center (623)</td>\n",
              "      <td>they are friendly, helpful and prompt -- and they don't make you feel stupid while doing it.</td>\n",
              "    </tr>\n",
              "    <tr>\n",
              "      <th>1281</th>\n",
              "      <td>ND - Fargo VA Medical Center (437)</td>\n",
              "      <td>i feel like they are responsive and address issues quickly which minimizes downtime etc.</td>\n",
              "    </tr>\n",
              "  </tbody>\n",
              "</table>\n",
              "</div>"
            ],
            "text/plain": [
              "                                                           Location  \\\n",
              "101                          TN - Nashville VA Medical Center (626)   \n",
              "544                      MT - Fort Harrison VA Medical Center (436)   \n",
              "750                        NJ - East Orange VA Medical Center (561)   \n",
              "998   CA - Los Angeles, Greater Los Angeles Healthcare System (691)   \n",
              "1029                          IL - Marion VA Medical Center (657A5)   \n",
              "1123      OK - Muskogee, Jack C. Montgomery VA Medical Center (623)   \n",
              "1281                             ND - Fargo VA Medical Center (437)   \n",
              "\n",
              "                                                                                                                                                                                                                                                                                                                                                                      Promoter Comments  \n",
              "101                                                                                                                                                                                                                                         speak clearly and respectfully.  never make me feel like i should be ashamed of getting locked out of the system or forgetting passwords.    \n",
              "544                                                                                                                                                                                                                                   i feel response time is great and many things can be done over the phone instantly. it increases my credibility when i recommend it and it works!  \n",
              "750                                                                                                                                                                                                                                                                                                                     good equipment, quick troubleshooting, never makes me feel dumb  \n",
              "998                                                                                                                                                                                                   they fix things immediately on the phone if they can. if they can't, i feel like it's not that long a wait before i hear from someone local who gets on my computer and helps me.  \n",
              "1029  i know almost nothing about computers except how to work the programs when everything is functioning normally.  when things go wrong or i am just not doing something correctly, they never make me feel stupid.  they have been super in person, teams, or via the phone.  i have worked lots of places in my 900 years of nursing and this group at the va are off the charts!!  \n",
              "1123                                                                                                                                                                                                                                                                                     they are friendly, helpful and prompt -- and they don't make you feel stupid while doing it.    \n",
              "1281                                                                                                                                                                                                                                                                                           i feel like they are responsive and address issues quickly which minimizes downtime etc.  "
            ]
          },
          "execution_count": 67,
          "metadata": {},
          "output_type": "execute_result"
        }
      ],
      "source": [
        "#call function to pull rows for given stem\n",
        "get_matching_stem(promoter_df, ['feel'])"
      ]
    },
    {
      "cell_type": "markdown",
      "id": "0ec64b89-4162-48c0-9760-c7fe14d82acc",
      "metadata": {
        "id": "0ec64b89-4162-48c0-9760-c7fe14d82acc"
      },
      "source": [
        "Let's check how many respondents there are here."
      ]
    },
    {
      "cell_type": "code",
      "execution_count": null,
      "id": "e1555a96-8762-48c3-8b2f-177f4482496c",
      "metadata": {
        "id": "e1555a96-8762-48c3-8b2f-177f4482496c",
        "outputId": "2335e661-9e27-4f20-fbda-90863d112b18"
      },
      "outputs": [
        {
          "data": {
            "text/plain": [
              "247"
            ]
          },
          "execution_count": 68,
          "metadata": {},
          "output_type": "execute_result"
        }
      ],
      "source": [
        "#call length of promoter respondents mentioning customer service\n",
        "len(get_matching_stem(promoter_df, cust_serv))"
      ]
    },
    {
      "cell_type": "markdown",
      "id": "ebb72d5e-91ed-4af3-bb7f-cc669636b25c",
      "metadata": {
        "id": "ebb72d5e-91ed-4af3-bb7f-cc669636b25c"
      },
      "source": [
        "And let's check the total number of promoter respondents."
      ]
    },
    {
      "cell_type": "code",
      "execution_count": null,
      "id": "c66d01c2-080b-4800-bae5-4b3180a9874b",
      "metadata": {
        "id": "c66d01c2-080b-4800-bae5-4b3180a9874b",
        "outputId": "ea8e871c-f98f-4df6-b705-5fda65bd9cf6"
      },
      "outputs": [
        {
          "data": {
            "text/plain": [
              "805"
            ]
          },
          "execution_count": 69,
          "metadata": {},
          "output_type": "execute_result"
        }
      ],
      "source": [
        "len(promoter_df)"
      ]
    },
    {
      "cell_type": "markdown",
      "id": "5f8cb775-7681-4821-a231-162c6b40b405",
      "metadata": {
        "id": "5f8cb775-7681-4821-a231-162c6b40b405"
      },
      "source": [
        "Now let's calculate the percentage of promoter respondents that mention customer service."
      ]
    },
    {
      "cell_type": "markdown",
      "id": "947dd723-122d-489c-8a3e-ea9040c3742b",
      "metadata": {
        "id": "947dd723-122d-489c-8a3e-ea9040c3742b"
      },
      "source": [
        "# **Customer Service Promoter Percentage HERE**"
      ]
    },
    {
      "cell_type": "code",
      "execution_count": null,
      "id": "7810b37b-27ca-4417-9c0b-caac22e10a97",
      "metadata": {
        "scrolled": true,
        "id": "7810b37b-27ca-4417-9c0b-caac22e10a97",
        "outputId": "2ad825d8-05e8-4b70-b0d2-1a7a605201e0"
      },
      "outputs": [
        {
          "data": {
            "text/plain": [
              "30.683229813664596"
            ]
          },
          "execution_count": 70,
          "metadata": {},
          "output_type": "execute_result"
        }
      ],
      "source": [
        "#call length of promoter respondents mentioning customer service and divide by total promoter respondents\n",
        "(len(get_matching_stem(promoter_df, cust_serv)) / len(promoter_df)) * 100"
      ]
    },
    {
      "cell_type": "markdown",
      "id": "29f75ae3-7694-4499-9c9f-71320a06ee25",
      "metadata": {
        "id": "29f75ae3-7694-4499-9c9f-71320a06ee25"
      },
      "source": [
        "Excellent.  So above is the percentage of promoter respondents who mention Customer service.  This statistic, combined with an example quote from above can be used in the creation of our briefing decks."
      ]
    },
    {
      "cell_type": "markdown",
      "id": "9f1858c2-3e68-491d-9456-304a9c7d23a3",
      "metadata": {
        "id": "9f1858c2-3e68-491d-9456-304a9c7d23a3"
      },
      "source": [
        "Let's make a function for this percentage output, as we will be utilizing this data for the other dataframes too.  "
      ]
    },
    {
      "cell_type": "code",
      "execution_count": null,
      "id": "01c40c9e-4566-4c2a-8853-e20786d0acde",
      "metadata": {
        "id": "01c40c9e-4566-4c2a-8853-e20786d0acde"
      },
      "outputs": [],
      "source": [
        "#Create function for percentage of total respondents who included list of stems\n",
        "def percentage(df, list):\n",
        "    print((len(get_matching_stem(df, list)) / len(df)) * 100)\n",
        "\n",
        "percentage(promoter_df, cust_serv)"
      ]
    },
    {
      "cell_type": "markdown",
      "id": "fcf633ea-5c40-4ec5-aabc-d7ec3925fa3b",
      "metadata": {
        "id": "fcf633ea-5c40-4ec5-aabc-d7ec3925fa3b"
      },
      "source": [
        "#### Timeliness Theme"
      ]
    },
    {
      "cell_type": "code",
      "execution_count": null,
      "id": "b620aae9-2eaa-4bdb-8595-f7b10fa4ca45",
      "metadata": {
        "scrolled": true,
        "id": "b620aae9-2eaa-4bdb-8595-f7b10fa4ca45"
      },
      "outputs": [],
      "source": [
        "#create list of Timeliness stems\n",
        "#('stem1', 'stem2') for pairs, otherwise just 'stem'\n",
        "#To add to this list, follow the same format for stems or pairs of stems.  In order to know what stem format a word will take, look at the stem list\n",
        "#exports and search using the first few letters of the word you are looking for.\n",
        "\n",
        "#time = [('too', 'long'), ('long', 'resolv'), ('too', 'slow'), ('slow', 'fix'), ('long', 'fix'), ('slow', 'resolv'), 'timeli', ('took', 'forev'),\n",
        "#       ('wait', 'long'), ('long', 'time'), ('wait', 'time'), ('slow', 'address'), ('hold', 'time'), 'quick', 'quickli', 'quicker', 'immedi',\n",
        "#        'fast', 'faster', 'shorter', 'shorten', ('take', 'long'), ('taken', 'long'), 'prioriti', 'urgent', 'urgenci', 'haste']\n",
        "\n",
        "\n",
        "#Timeliness tags used in this script previously:\n",
        "# time = ['time', 'quick', 'quickli', 'quicker', 'prompt', 'fast', 'faster', 'promptli', 'timeli', 'immedi', 'soon', 'asap', 'expedit',\n",
        "#         'expediti', 'expedi', 'delay', 'turnaround', 'speed', 'speedi', 'urgent', 'rapid', 'rapidli', 'swift', 'swiftli', 'timefram',\n",
        "#         'readili', 'effici',\n",
        "#         'wait', 'slow', 'wast', 'shorter', 'shorten']\n",
        "\n",
        "#Timeliness tags used by CFI:\n",
        "#The following are generally negative with few stems related to positive timeliness.  MAny of these will be more useful for the detractor_df.\n",
        "# \"\\\"too long\\\" OR \\\"to long\\\" OR \\\"too long to resolve\\\" OR \\\"to long to resolve\\\" OR \\\"too slow to fix\\\"\n",
        "# OR \\\"to slow to fix\\\" OR \\\"too long to fix\\\" OR \\\"to long to fix\\\" OR \\\"too slow to resolve\\\" OR \\\"to slow to resolve\\\"\n",
        "# OR \\\"took too long\\\" OR \\\"took to long\\\" OR \\\"was not timely\\\" OR \\\"is not timely\\\" OR \\\"took forever\\\" OR \\\"wait a long time\\\"\n",
        "# OR \\\"slow to address\\\" OR \\\"wait time\\\" OR \\\"hold time\\\" OR \\\"not quick\\\" OR \\\"should be immediate\\\" OR \\\"should be fast\\\" OR\n",
        "# \\\"should be faster\\\" OR \\\"shorten\\\" OR \\\"shortened\\\" OR \\\"should not take so long\\\" OR \\\"should not take as long\\\" OR \\\"should not be so slow\\\"\n",
        "# OR timeliness OR timely OR \\\"long time\\\" or wait time or priority or urgency or haste\"\n",
        "\n",
        "#call function to pull rows for Timeliness and Speed\n",
        "#get_matching_stem(promoter_df, time)"
      ]
    },
    {
      "cell_type": "markdown",
      "id": "e767dad9-90e4-40da-af22-921dfcbd73fa",
      "metadata": {
        "id": "e767dad9-90e4-40da-af22-921dfcbd73fa"
      },
      "source": [
        "Excellent. Now, we can see how the stemming separated out 'time' from 'timeli', though they really share the same stem.  There are ways to consolidate these stems, but for now we can simply add them to our Timeliness list above, which will become more accurate with the more relevant stemmed words we add.  It will be necessary to systematically scan the stem_freq(promoter_df) output to verify if any other terms may be relevant for these theme of 'timeliness' and other similar themes where multiple stemmed words may be relevant.    "
      ]
    },
    {
      "cell_type": "markdown",
      "id": "a1ef5897-7a8e-4294-83e3-ef264f5bb728",
      "metadata": {
        "id": "a1ef5897-7a8e-4294-83e3-ef264f5bb728"
      },
      "source": [
        "To help with this, we scan stem_freq(promoter_df) output, and then we can use the cell below to preview the rows of specific stemmed words to see if that word is relevant for adding in this theme.  Here is the stem_freq(promoter_df) output again for convenience."
      ]
    },
    {
      "cell_type": "code",
      "execution_count": null,
      "id": "ee0f21aa-4c9e-4312-b631-68b82ef8f4a5",
      "metadata": {
        "scrolled": true,
        "id": "ee0f21aa-4c9e-4312-b631-68b82ef8f4a5",
        "outputId": "c4e1b3d7-3592-4418-8682-3aa85ca3a89a"
      },
      "outputs": [
        {
          "data": {
            "text/html": [
              "<div>\n",
              "<style scoped>\n",
              "    .dataframe tbody tr th:only-of-type {\n",
              "        vertical-align: middle;\n",
              "    }\n",
              "\n",
              "    .dataframe tbody tr th {\n",
              "        vertical-align: top;\n",
              "    }\n",
              "\n",
              "    .dataframe thead th {\n",
              "        text-align: right;\n",
              "    }\n",
              "</style>\n",
              "<table border=\"1\" class=\"dataframe\">\n",
              "  <thead>\n",
              "    <tr style=\"text-align: right;\">\n",
              "      <th></th>\n",
              "      <th>Location</th>\n",
              "      <th>Promoter Comments</th>\n",
              "    </tr>\n",
              "  </thead>\n",
              "  <tbody>\n",
              "    <tr>\n",
              "      <th>1253</th>\n",
              "      <td>OK - Muskogee, Jack C. Montgomery VA Medical Center (623)</td>\n",
              "      <td>staff is very knowledgeable and they have great customer service.  when there is a job stop, they make the ticket a priority and it shows in the timeliness of the response.</td>\n",
              "    </tr>\n",
              "  </tbody>\n",
              "</table>\n",
              "</div>"
            ],
            "text/plain": [
              "                                                       Location  \\\n",
              "1253  OK - Muskogee, Jack C. Montgomery VA Medical Center (623)   \n",
              "\n",
              "                                                                                                                                                                 Promoter Comments  \n",
              "1253  staff is very knowledgeable and they have great customer service.  when there is a job stop, they make the ticket a priority and it shows in the timeliness of the response.  "
            ]
          },
          "execution_count": 73,
          "metadata": {},
          "output_type": "execute_result"
        }
      ],
      "source": [
        "#call function to pull rows for given stem\n",
        "get_matching_stem(promoter_df, ['prioriti'])"
      ]
    },
    {
      "cell_type": "markdown",
      "id": "e0b0d60e-4495-4c58-8f51-4bb3b1106343",
      "metadata": {
        "id": "e0b0d60e-4495-4c58-8f51-4bb3b1106343"
      },
      "source": [
        "##### Converting to Excel Output"
      ]
    },
    {
      "cell_type": "code",
      "execution_count": null,
      "id": "c3a368cb-be55-4673-802c-4b2880621fd0",
      "metadata": {
        "id": "c3a368cb-be55-4673-802c-4b2880621fd0",
        "outputId": "c2332cb0-7698-4512-aaee-b5fd2eb2984b"
      },
      "outputs": [
        {
          "name": "stdout",
          "output_type": "stream",
          "text": [
            "Excel file 'Promoter Timeliness Comments.xlsx' created successfully.\n"
          ]
        }
      ],
      "source": [
        "get_excel(get_matching_stem, promoter_df, time, excel_filename='Promoter Timeliness Comments')"
      ]
    },
    {
      "cell_type": "code",
      "execution_count": null,
      "id": "3ff69da1-7a75-4be7-9c92-cc22e189267b",
      "metadata": {
        "id": "3ff69da1-7a75-4be7-9c92-cc22e189267b",
        "outputId": "0a23ebed-fc27-49b1-93cc-76c606542da1"
      },
      "outputs": [
        {
          "name": "stdout",
          "output_type": "stream",
          "text": [
            "Excel file 'Promoter Timeliness Comments 10 Or More Words.xlsx' created successfully.\n"
          ]
        }
      ],
      "source": [
        "get_excel_length(get_matching_stem_length, promoter_df, time, min_length=10, excel_filename='Promoter Timeliness Comments 10 Or More Words')"
      ]
    },
    {
      "cell_type": "markdown",
      "id": "0c0661bd-3090-4742-8916-da1fed3a12a4",
      "metadata": {
        "id": "0c0661bd-3090-4742-8916-da1fed3a12a4"
      },
      "source": [
        "# **Timeliness Promoter Percentage HERE**"
      ]
    },
    {
      "cell_type": "markdown",
      "id": "a424bec7-2f6b-41c6-bfed-8a703b370690",
      "metadata": {
        "id": "a424bec7-2f6b-41c6-bfed-8a703b370690"
      },
      "source": [
        "##### **Timeliness Promoter Percentage**"
      ]
    },
    {
      "cell_type": "code",
      "execution_count": null,
      "id": "ae09a91b-7e4b-4318-a79c-106872027508",
      "metadata": {
        "scrolled": true,
        "id": "ae09a91b-7e4b-4318-a79c-106872027508",
        "outputId": "2293d30a-c711-4c96-d8bd-d6c9b30e7d02"
      },
      "outputs": [
        {
          "name": "stdout",
          "output_type": "stream",
          "text": [
            "17.763975155279503\n"
          ]
        }
      ],
      "source": [
        "#call length of of promoter respondents mentioning Timeliness divided by total respondents\n",
        "percentage(promoter_df, time)"
      ]
    },
    {
      "cell_type": "markdown",
      "id": "d0b8ec5d-31d9-4e8a-bf82-89a926474544",
      "metadata": {
        "id": "d0b8ec5d-31d9-4e8a-bf82-89a926474544"
      },
      "source": [
        "#### Communication and Responsiveness Theme"
      ]
    },
    {
      "cell_type": "code",
      "execution_count": null,
      "id": "746ed897-894e-42a3-bd61-9badfc62dffd",
      "metadata": {
        "scrolled": true,
        "id": "746ed897-894e-42a3-bd61-9badfc62dffd"
      },
      "outputs": [],
      "source": [
        "#create list of Communication and Responsiveness stems\n",
        "#('stem1', 'stem2') for pairs, otherwise just 'stem'\n",
        "#To add to this list, follow the same format for stems or pairs of stems.  In order to know what stem format a word will take, look at the stem list\n",
        "#exports and search using the first few letters of the word you are looking for.\n",
        "\n",
        "comm_resp = ['commun', 'followup', 'follow', 'respons', 'respond', 'responc', 'respon', 'process', 'instruct', 'step', 'repli', 'listen', 'convey',\n",
        "             ('IT', 'lingo'), ('IT', 'jargon'), ('IT', 'languag'), ('IT', 'term'), ('IT', 'terminolog'), ('IT', 'speech'),\n",
        "             ('tech', 'lingo'), ('tech', 'jargon'), ('tech', 'languag'), ('tech', 'term'), ('tech', 'terminolog'), ('tech', 'speech'),\n",
        "             ('technician', 'lingo'), ('technician', 'jargon'), ('technician', 'languag'), ('technician', 'term'), ('technician', 'terminolog'),\n",
        "             ('technician', 'speech'), 'attent', 'hear', 'heard', 'prompt', 'promptli']\n",
        "\n",
        "# comm_resp = ['commun', 'follow', 'followup', 'instruct', 'step', 'repli,' 'listen', 'convers', 'conver', 'convey', 'languag', 'term',\n",
        "#              'terminolog', 'speak', 'contact', 'email', 'answer', 'explain', 'explan', 'clear', 'clearli', 'process', 'told', 'tell', 'talk',\n",
        "#              'address', 'explain', 'ignor', 'interact', 'remark',\n",
        "#              'respons', 'respond', 'responc', 'respon', 'correspond']\n",
        "\n",
        "#Communication tags used by CFI:\n",
        "# Communication or communicate or \\\"follow up\\\" or \\\"follow-up\\\" or follow or response or respond or process or instructions or\n",
        "# steps or \\\"back to you\\\" or \\\"respond back\\\" or \\\"reply back\\\" or (follow up response)~5 or \\\"listen to\\\" or\n",
        "# \\\"listened to\\\" or understand or convey or ((IT| tech) and (lingo| jargon| language| terms| speech)) or attentive\",\n",
        "\n",
        "#Responsiveness tags used by CFI, two lists, undetermined which one or both used:\n",
        "\n",
        "#\"respond or response or responsive or \\\"pick up\\\" or (answer and (phone or call or request or ticket))\"\n",
        "\n",
        "# \"\\\"not responsive\\\" OR \\\"very responsive\\\" OR \\\"not at all responsive\\\" OR \\\"did not hear\\\" OR \\\"didn't hear\\\" OR\n",
        "# \\\"delayed response\\\" OR \\\"slow response\\\" OR \\\"no response\\\" OR \\\"slow to respond\\\" OR response OR \\\"quick to respond\\\"\n",
        "# OR \\\"good response\\\" OR \\\"bad response\\\" OR \\\"faster response\\\" OR \\\"response time\\\" OR responsiveness OR responsive OR\n",
        "# \\\"rapid response\\\" OR \\\"fast to respond\\\" OR \\\"timeliness of response\\\" OR \\\"ineffective response\\\" or\n",
        "# ((fast| quick| speed| short| slow| long| time) and response) or respond or reply or response or\n",
        "# ((fast| quick| speed| short| slow| long| time) and reply) or ((fast| quick| speed| short| slow| long| time) and respond) or prompt\",\n",
        "\n",
        "#\"Understand\" is already listed under Customer Service cust_serv list above, so I have not included it here.\n",
        "#Many of the tags under Responsiveness are more about Timeliness.  Potentially something to consider in the future.\n",
        "\n",
        "\n",
        "#call function to pull rows for Communication/Responsiveness\n",
        "get_matching_stem(promoter_df, comm_resp)"
      ]
    },
    {
      "cell_type": "code",
      "execution_count": null,
      "id": "59f51629-c9ad-4fd8-a829-b32ad5a06d1b",
      "metadata": {
        "scrolled": true,
        "id": "59f51629-c9ad-4fd8-a829-b32ad5a06d1b",
        "outputId": "d0da993f-2c93-469c-871c-50f36ed56e50"
      },
      "outputs": [
        {
          "data": {
            "text/html": [
              "<div>\n",
              "<style scoped>\n",
              "    .dataframe tbody tr th:only-of-type {\n",
              "        vertical-align: middle;\n",
              "    }\n",
              "\n",
              "    .dataframe tbody tr th {\n",
              "        vertical-align: top;\n",
              "    }\n",
              "\n",
              "    .dataframe thead th {\n",
              "        text-align: right;\n",
              "    }\n",
              "</style>\n",
              "<table border=\"1\" class=\"dataframe\">\n",
              "  <thead>\n",
              "    <tr style=\"text-align: right;\">\n",
              "      <th></th>\n",
              "      <th>Location</th>\n",
              "      <th>Promoter Comments</th>\n",
              "    </tr>\n",
              "  </thead>\n",
              "  <tbody>\n",
              "    <tr>\n",
              "      <th>49</th>\n",
              "      <td>CO - Aurora, Rocky Mountain Regional VA Medical Center (554)</td>\n",
              "      <td>fix my issues and always respectful of my knowledge of devices, which is minimal.  they always explain so i understand!</td>\n",
              "    </tr>\n",
              "    <tr>\n",
              "      <th>97</th>\n",
              "      <td>FL - Tampa, James A. Haley Veterans' Hospital (673)</td>\n",
              "      <td>explain what problem and solution are</td>\n",
              "    </tr>\n",
              "    <tr>\n",
              "      <th>103</th>\n",
              "      <td>UT - Salt Lake City, George E. Wahlen VA Medical Center (660)</td>\n",
              "      <td>in my experience they try to do everything really well.  i have found them timely, willing to explain things and helpful in guiding me through processes.</td>\n",
              "    </tr>\n",
              "    <tr>\n",
              "      <th>200</th>\n",
              "      <td>AL - Birmingham VA Medical Center (521)</td>\n",
              "      <td>very patient with employees who have problems explaining their issues.</td>\n",
              "    </tr>\n",
              "    <tr>\n",
              "      <th>395</th>\n",
              "      <td></td>\n",
              "      <td>responds quickly and in a friendly manner. explains necessary steps to complete requested process.</td>\n",
              "    </tr>\n",
              "    <tr>\n",
              "      <th>783</th>\n",
              "      <td>MI - Detroit, John D. Dingell VA Medical Center (553)</td>\n",
              "      <td>they are polite, acknowledge the problem, explain the process, and then assist as they can.</td>\n",
              "    </tr>\n",
              "    <tr>\n",
              "      <th>785</th>\n",
              "      <td>GA - Augusta VA Medical Center, Uptown (509A0)</td>\n",
              "      <td>show up and fix things. explain things to you so that you can understand. fix  problems expeditiously.</td>\n",
              "    </tr>\n",
              "    <tr>\n",
              "      <th>837</th>\n",
              "      <td>Office of Acquisition, Logistics, and Construction (OALC)</td>\n",
              "      <td>they have been really responsive to resolve my it problems. each time the outcome has been positive with quick response and issues fixed and if not fixed in a short period they explain the issue and why it would take longer than expected.</td>\n",
              "    </tr>\n",
              "    <tr>\n",
              "      <th>867</th>\n",
              "      <td>KY - Lexington VA Medical Center, Troy Bowling Campus (596A4)</td>\n",
              "      <td>customer service - they are really caring about the workers and fix problems promptly and throughly explain</td>\n",
              "    </tr>\n",
              "    <tr>\n",
              "      <th>1041</th>\n",
              "      <td>CO - Grand Junction VA Medical Center (575)</td>\n",
              "      <td>they are always willing to answer a question or explain anything. they never act like any question is stupid.</td>\n",
              "    </tr>\n",
              "    <tr>\n",
              "      <th>1131</th>\n",
              "      <td>OK - Oklahoma City VA Medical Center (635)</td>\n",
              "      <td>once i'm able to talk to someone to explain my issue, oit does a great job of either resolving the issue or helping me resolve it.</td>\n",
              "    </tr>\n",
              "    <tr>\n",
              "      <th>1161</th>\n",
              "      <td>TX - Houston, Michael E. DeBakey VA Medical Center (580)</td>\n",
              "      <td>explained the proper use of equipment.</td>\n",
              "    </tr>\n",
              "    <tr>\n",
              "      <th>1196</th>\n",
              "      <td>NM - Albuquerque, Raymond G. Murphy VA Medical Center (501)</td>\n",
              "      <td>when i get in touch with someone who can help me with something they've always done a good job of explaining it to me in a way i can understand and they're pretty timely in execution.</td>\n",
              "    </tr>\n",
              "    <tr>\n",
              "      <th>1238</th>\n",
              "      <td>WA - Walla Walla, Jonathan M. Wainwright Memorial VA Medical Center (687)</td>\n",
              "      <td>knowledgeable about what they are working on and willing to help explain things in simple terms to help you understand.</td>\n",
              "    </tr>\n",
              "    <tr>\n",
              "      <th>1307</th>\n",
              "      <td>AZ - Phoenix Regional Benefit Office</td>\n",
              "      <td>i think communication is great and willingness to explain.</td>\n",
              "    </tr>\n",
              "    <tr>\n",
              "      <th>1404</th>\n",
              "      <td>KY - Louisville Regional Benefit Office</td>\n",
              "      <td>take care of the issue in a timely way. very easy to talk to and explain the situation.</td>\n",
              "    </tr>\n",
              "    <tr>\n",
              "      <th>1415</th>\n",
              "      <td>OR - Portland VA Medical Center (648)</td>\n",
              "      <td>the employees are always really helpful and knowledgeable. they do a great job of explaining the problems in a way that those of us with less tech knowledge can still understand.</td>\n",
              "    </tr>\n",
              "  </tbody>\n",
              "</table>\n",
              "</div>"
            ],
            "text/plain": [
              "                                                                       Location  \\\n",
              "49                 CO - Aurora, Rocky Mountain Regional VA Medical Center (554)   \n",
              "97                          FL - Tampa, James A. Haley Veterans' Hospital (673)   \n",
              "103               UT - Salt Lake City, George E. Wahlen VA Medical Center (660)   \n",
              "200                                     AL - Birmingham VA Medical Center (521)   \n",
              "395                                                                               \n",
              "783                       MI - Detroit, John D. Dingell VA Medical Center (553)   \n",
              "785                              GA - Augusta VA Medical Center, Uptown (509A0)   \n",
              "837                   Office of Acquisition, Logistics, and Construction (OALC)   \n",
              "867               KY - Lexington VA Medical Center, Troy Bowling Campus (596A4)   \n",
              "1041                                CO - Grand Junction VA Medical Center (575)   \n",
              "1131                                 OK - Oklahoma City VA Medical Center (635)   \n",
              "1161                   TX - Houston, Michael E. DeBakey VA Medical Center (580)   \n",
              "1196                NM - Albuquerque, Raymond G. Murphy VA Medical Center (501)   \n",
              "1238  WA - Walla Walla, Jonathan M. Wainwright Memorial VA Medical Center (687)   \n",
              "1307                                       AZ - Phoenix Regional Benefit Office   \n",
              "1404                                    KY - Louisville Regional Benefit Office   \n",
              "1415                                      OR - Portland VA Medical Center (648)   \n",
              "\n",
              "                                                                                                                                                                                                                                    Promoter Comments  \n",
              "49                                                                                                                            fix my issues and always respectful of my knowledge of devices, which is minimal.  they always explain so i understand!  \n",
              "97                                                                                                                                                                                                             explain what problem and solution are   \n",
              "103                                                                                         in my experience they try to do everything really well.  i have found them timely, willing to explain things and helpful in guiding me through processes.  \n",
              "200                                                                                                                                                                            very patient with employees who have problems explaining their issues.  \n",
              "395                                                                                                                                                responds quickly and in a friendly manner. explains necessary steps to complete requested process.  \n",
              "783                                                                                                                                                       they are polite, acknowledge the problem, explain the process, and then assist as they can.  \n",
              "785                                                                                                                                            show up and fix things. explain things to you so that you can understand. fix  problems expeditiously.  \n",
              "837   they have been really responsive to resolve my it problems. each time the outcome has been positive with quick response and issues fixed and if not fixed in a short period they explain the issue and why it would take longer than expected.   \n",
              "867                                                                                                                                      customer service - they are really caring about the workers and fix problems promptly and throughly explain   \n",
              "1041                                                                                                                                    they are always willing to answer a question or explain anything. they never act like any question is stupid.  \n",
              "1131                                                                                                               once i'm able to talk to someone to explain my issue, oit does a great job of either resolving the issue or helping me resolve it.  \n",
              "1161                                                                                                                                                                                                           explained the proper use of equipment.  \n",
              "1196                                                          when i get in touch with someone who can help me with something they've always done a good job of explaining it to me in a way i can understand and they're pretty timely in execution.  \n",
              "1238                                                                                                                          knowledgeable about what they are working on and willing to help explain things in simple terms to help you understand.  \n",
              "1307                                                                                                                                                                                       i think communication is great and willingness to explain.  \n",
              "1404                                                                                                                                                         take care of the issue in a timely way. very easy to talk to and explain the situation.   \n",
              "1415                                                               the employees are always really helpful and knowledgeable. they do a great job of explaining the problems in a way that those of us with less tech knowledge can still understand.  "
            ]
          },
          "execution_count": 78,
          "metadata": {},
          "output_type": "execute_result"
        }
      ],
      "source": [
        "#call function to pull rows for given stem\n",
        "get_matching_stem(promoter_df, ['explain'])"
      ]
    },
    {
      "cell_type": "markdown",
      "id": "fb5ef168-cc38-4017-8347-7a4d15eac0a9",
      "metadata": {
        "id": "fb5ef168-cc38-4017-8347-7a4d15eac0a9"
      },
      "source": [
        "##### Converting to Excel Output"
      ]
    },
    {
      "cell_type": "code",
      "execution_count": null,
      "id": "949a5211-689a-4779-8108-d3511e019979",
      "metadata": {
        "id": "949a5211-689a-4779-8108-d3511e019979",
        "outputId": "c142db3e-8cf8-4511-d514-4860b8a08c86"
      },
      "outputs": [
        {
          "name": "stdout",
          "output_type": "stream",
          "text": [
            "Excel file 'Promoter Communication Responsiveness Comments.xlsx' created successfully.\n"
          ]
        }
      ],
      "source": [
        "get_excel(get_matching_stem, promoter_df, comm_resp, excel_filename='Promoter Communication Responsiveness Comments')"
      ]
    },
    {
      "cell_type": "code",
      "execution_count": null,
      "id": "7a7a410a-448c-479f-bea3-53e820c598bd",
      "metadata": {
        "id": "7a7a410a-448c-479f-bea3-53e820c598bd",
        "outputId": "8b1d1e2e-e913-4ac8-b296-52603fa5de2b"
      },
      "outputs": [
        {
          "name": "stdout",
          "output_type": "stream",
          "text": [
            "Excel file 'Promoter Communication Responsiveness Comments 10 Or More Words.xlsx' created successfully.\n"
          ]
        }
      ],
      "source": [
        "get_excel_length(get_matching_stem_length, promoter_df, comm_resp, min_length=10, excel_filename='Promoter Communication Responsiveness Comments 10 Or More Words')"
      ]
    },
    {
      "cell_type": "markdown",
      "id": "d4dea636-01a8-4e17-b820-a58be32c13e0",
      "metadata": {
        "id": "d4dea636-01a8-4e17-b820-a58be32c13e0"
      },
      "source": [
        "# **Communication and Responsiveness Promoter Percentage HERE**"
      ]
    },
    {
      "cell_type": "markdown",
      "id": "c8277d7a-17f9-4a1a-8d4f-fed05b51e9b6",
      "metadata": {
        "id": "c8277d7a-17f9-4a1a-8d4f-fed05b51e9b6"
      },
      "source": [
        "##### **Communication and Responsiveness Promoter Percentage**"
      ]
    },
    {
      "cell_type": "code",
      "execution_count": null,
      "id": "cdb5fc18-c1de-4859-96d9-d73367aaa75c",
      "metadata": {
        "id": "cdb5fc18-c1de-4859-96d9-d73367aaa75c",
        "outputId": "ad704a7f-2de5-40e6-a014-17f1afd5b209"
      },
      "outputs": [
        {
          "name": "stdout",
          "output_type": "stream",
          "text": [
            "39.62732919254658\n"
          ]
        }
      ],
      "source": [
        "#call length of promoter respondents mentioning Communication/Responsivess and divide by total respondents\n",
        "percentage(promoter_df, comm_resp)"
      ]
    },
    {
      "cell_type": "markdown",
      "id": "17055c85-badd-45e4-8326-7751c4ce970d",
      "metadata": {
        "id": "17055c85-badd-45e4-8326-7751c4ce970d"
      },
      "source": [
        "Above is the percentage of promoter respondents who mention Communication/Responsiveness.  As I'm looking at the above responses, I also see there is significant overlap between these comments and the Timeliness theme."
      ]
    },
    {
      "cell_type": "markdown",
      "id": "e0d9175d-4df6-4336-abd7-e7b8d5c5ef67",
      "metadata": {
        "id": "e0d9175d-4df6-4336-abd7-e7b8d5c5ef67"
      },
      "source": [
        "Let's take a look to see the specific overlap here."
      ]
    },
    {
      "cell_type": "markdown",
      "id": "62a6d535-3475-46e9-aa80-8858835276b4",
      "metadata": {
        "id": "62a6d535-3475-46e9-aa80-8858835276b4"
      },
      "source": [
        "#### Overlap with Positive Feedback and Accountability"
      ]
    },
    {
      "cell_type": "code",
      "execution_count": null,
      "id": "544e5a3d-7eee-4254-ac28-b7ab17eaccf8",
      "metadata": {
        "id": "544e5a3d-7eee-4254-ac28-b7ab17eaccf8",
        "outputId": "e63e33d7-af1b-4fb9-bfd1-fd8f14b483d0"
      },
      "outputs": [
        {
          "name": "stdout",
          "output_type": "stream",
          "text": [
            "46.45962732919255\n"
          ]
        }
      ],
      "source": [
        "#join the time and comm_resp lists\n",
        "time_comm_resp = time + comm_resp\n",
        "\n",
        "#Run function to pull percentage of respondents\n",
        "time_comm_percent = (len(get_matching_stem(promoter_df, time_comm_resp)) / len(promoter_df)) * 100\n",
        "\n",
        "#print percentage\n",
        "print(time_comm_percent)"
      ]
    },
    {
      "cell_type": "markdown",
      "id": "f5839ece-ea2a-4b0b-bccf-b842e3caa362",
      "metadata": {
        "id": "f5839ece-ea2a-4b0b-bccf-b842e3caa362"
      },
      "source": [
        "This is the percentage of respondents who discuss any and all of the stemmed words from both the Timeliness and Communication and Responsiveness themes."
      ]
    },
    {
      "cell_type": "markdown",
      "id": "88985aaa-4b12-4ccb-b43b-98e5cc83c14d",
      "metadata": {
        "id": "88985aaa-4b12-4ccb-b43b-98e5cc83c14d"
      },
      "source": [
        "To separate out these two themes from each other, we'll need to use the other function that includes a list of stems to exclude."
      ]
    },
    {
      "cell_type": "code",
      "execution_count": null,
      "id": "7a77d12d-db53-42ec-a36d-e3fb6bf1b058",
      "metadata": {
        "scrolled": true,
        "id": "7a77d12d-db53-42ec-a36d-e3fb6bf1b058"
      },
      "outputs": [],
      "source": [
        "get_matching_stem_exclude(promoter_df, comm_resp, time)"
      ]
    },
    {
      "cell_type": "markdown",
      "id": "4d0407a2-ff2b-4357-89cd-80585b3ba396",
      "metadata": {
        "id": "4d0407a2-ff2b-4357-89cd-80585b3ba396"
      },
      "source": [
        "This shows Communication and Responsiveness comments that do not reference the stems used in Timeliness.  We can do the same for the reverse, if we want to, but for now let's move on.  "
      ]
    },
    {
      "cell_type": "markdown",
      "id": "73525384-5c7d-497d-bcf3-215a635a70ec",
      "metadata": {
        "id": "73525384-5c7d-497d-bcf3-215a635a70ec"
      },
      "source": [
        "Now let's check the percentages."
      ]
    },
    {
      "cell_type": "code",
      "execution_count": null,
      "id": "4efba8aa-e38d-4de6-a5ee-21ab008b5670",
      "metadata": {
        "id": "4efba8aa-e38d-4de6-a5ee-21ab008b5670",
        "outputId": "49ba297d-8c12-4796-8fbb-8624bd48e65f"
      },
      "outputs": [
        {
          "name": "stdout",
          "output_type": "stream",
          "text": [
            "28.695652173913043\n"
          ]
        }
      ],
      "source": [
        "#assign variable to length of promoter respondents mentioning Responsiveness/Communication only (not Timeliness) divided by total respondents\n",
        "communication = (len(get_matching_stem_exclude(promoter_df, comm_resp, time)) / len(promoter_df)) * 100\n",
        "print(communication)"
      ]
    },
    {
      "cell_type": "markdown",
      "id": "dc49bf77-e457-4079-aa48-813e47092a8b",
      "metadata": {
        "id": "dc49bf77-e457-4079-aa48-813e47092a8b"
      },
      "source": [
        "This is the percentage of promoter respondents who reference Communication and Responsiveness without referencing Timeliness"
      ]
    },
    {
      "cell_type": "code",
      "execution_count": null,
      "id": "292fa3ff-1c12-42c8-b902-8a4643b45a05",
      "metadata": {
        "id": "292fa3ff-1c12-42c8-b902-8a4643b45a05",
        "outputId": "2421a8d1-8a74-45f6-a5d4-f005850c3435"
      },
      "outputs": [
        {
          "name": "stdout",
          "output_type": "stream",
          "text": [
            "6.832298136645963\n"
          ]
        }
      ],
      "source": [
        "#assign variable to length of promoter respondents mentioning Timeliness only (not Responsiveness/Communication) divided by total respondents\n",
        "timeliness = (len(get_matching_stem_exclude(promoter_df, time, comm_resp)) / len(promoter_df)) * 100\n",
        "print(timeliness)"
      ]
    },
    {
      "cell_type": "markdown",
      "id": "2afda3e3-0a68-454e-b463-5244a8e773a9",
      "metadata": {
        "id": "2afda3e3-0a68-454e-b463-5244a8e773a9"
      },
      "source": [
        "This is the perecentage of promoter respondents who reference Timeliness without Communication/Responsiveness"
      ]
    },
    {
      "cell_type": "code",
      "execution_count": null,
      "id": "b0705c38-06ff-4efb-b9a3-ef047a8e0d0e",
      "metadata": {
        "id": "b0705c38-06ff-4efb-b9a3-ef047a8e0d0e",
        "outputId": "294242fc-738f-40b2-a5cc-522d1ddb2551"
      },
      "outputs": [
        {
          "data": {
            "text/plain": [
              "10.931677018633543"
            ]
          },
          "execution_count": 86,
          "metadata": {},
          "output_type": "execute_result"
        }
      ],
      "source": [
        "#subtract sum of communication and timeliness percentages from combined percentage\n",
        "time_comm_percent - (communication + timeliness)"
      ]
    },
    {
      "cell_type": "markdown",
      "id": "b2afbfe8-a3c9-42de-87ff-643a0041712a",
      "metadata": {
        "id": "b2afbfe8-a3c9-42de-87ff-643a0041712a"
      },
      "source": [
        "This is the percentage of promoter respondents who reference both Timeliness and Communication/Responsiveness."
      ]
    },
    {
      "cell_type": "markdown",
      "id": "94812723-4dda-42f5-ab6a-dbe0698d352e",
      "metadata": {
        "id": "94812723-4dda-42f5-ab6a-dbe0698d352e"
      },
      "source": [
        "Now I'm curious as to the total number of NPS respondents (promoters, detractors, and passives), so let's create a function that will take in dataframes and add their number of responses together."
      ]
    },
    {
      "cell_type": "code",
      "execution_count": null,
      "id": "727faa6c-a939-415e-8864-cfb7eead73c5",
      "metadata": {
        "id": "727faa6c-a939-415e-8864-cfb7eead73c5",
        "outputId": "f651380d-7348-423e-89fd-563721d75d16"
      },
      "outputs": [
        {
          "data": {
            "text/plain": [
              "1193"
            ]
          },
          "execution_count": 87,
          "metadata": {},
          "output_type": "execute_result"
        }
      ],
      "source": [
        "#create function to add rows of dataframes together\n",
        "def get_total_rows(df1, df2, df3):\n",
        "    total_rows = len(df1) + len(df2) + len(df3)\n",
        "    return total_rows\n",
        "\n",
        "#call function on NPS-related comment columns\n",
        "get_total_rows(promoter_df, passive_df, detractor_df)"
      ]
    },
    {
      "cell_type": "code",
      "execution_count": null,
      "id": "bcf1d767-ff2f-4ed7-9c0c-8791519c71f1",
      "metadata": {
        "id": "bcf1d767-ff2f-4ed7-9c0c-8791519c71f1",
        "outputId": "7eb8e78d-66c0-4475-aab9-af12209db60f"
      },
      "outputs": [
        {
          "data": {
            "text/plain": [
              "805"
            ]
          },
          "execution_count": 88,
          "metadata": {},
          "output_type": "execute_result"
        }
      ],
      "source": [
        "len(promoter_df)"
      ]
    },
    {
      "cell_type": "markdown",
      "id": "1c96af37-aa07-4a38-9398-0263ad798abb",
      "metadata": {
        "id": "1c96af37-aa07-4a38-9398-0263ad798abb"
      },
      "source": [
        "Oh, interesting, so out of the total number of NPS respondents in the first output above, the second output is the total number of promoter respondents."
      ]
    },
    {
      "cell_type": "markdown",
      "id": "256fc3ee-f73f-49b1-8d9e-aa5b7e0d64d8",
      "metadata": {
        "id": "256fc3ee-f73f-49b1-8d9e-aa5b7e0d64d8"
      },
      "source": [
        "Let's assign that to a variable in case we need it before getting back to our promoter analysis."
      ]
    },
    {
      "cell_type": "code",
      "execution_count": null,
      "id": "d1c095f7-393b-45ac-a430-d0cec4c0e5c1",
      "metadata": {
        "id": "d1c095f7-393b-45ac-a430-d0cec4c0e5c1"
      },
      "outputs": [],
      "source": [
        "#assign total respondents number to a variable\n",
        "total_NPS_respondents = get_total_rows(promoter_df, passive_df, detractor_df)"
      ]
    },
    {
      "cell_type": "markdown",
      "id": "2a7dace9-ce43-431c-8e74-a7614ee800e7",
      "metadata": {
        "id": "2a7dace9-ce43-431c-8e74-a7614ee800e7"
      },
      "source": [
        "### **Detractor Comment Analysis**"
      ]
    },
    {
      "cell_type": "markdown",
      "id": "00436573-9584-42cb-905b-42836a1c27ce",
      "metadata": {
        "id": "00436573-9584-42cb-905b-42836a1c27ce"
      },
      "source": [
        "Before we get into the detractor comment analysis, let's remind ourselves of our dataframelist and all of our functions to keep track of them.\n",
        "\n",
        "First, I'll create one more function to pull up our dataframe list down the line for future analyses.  "
      ]
    },
    {
      "cell_type": "code",
      "execution_count": null,
      "id": "8e4a8809-7355-41fb-b1ec-faf33659b343",
      "metadata": {
        "id": "8e4a8809-7355-41fb-b1ec-faf33659b343",
        "outputId": "1fbd1662-42bb-4d36-8daa-6b6a5acbf8e3"
      },
      "outputs": [
        {
          "name": "stdout",
          "output_type": "stream",
          "text": [
            "passive_df\n",
            "euo_promoter_df\n",
            "euo_detractor_df\n",
            "yourit_df\n",
            "yourit_promoter_df\n",
            "yourit_detractor_df\n",
            "promoter_df\n",
            "detractor_df\n",
            "esd_promoter_df\n",
            "df\n"
          ]
        }
      ],
      "source": [
        "def get_df_list(list):\n",
        "    for df in list:\n",
        "        variable_name = [name for name, var in globals().items() if var is df][0]\n",
        "        print(variable_name)\n",
        "\n",
        "get_df_list(df_list)"
      ]
    },
    {
      "cell_type": "markdown",
      "id": "1db4d0d4-8329-44d5-b22b-2ba32ff5fc0b",
      "metadata": {
        "id": "1db4d0d4-8329-44d5-b22b-2ba32ff5fc0b"
      },
      "source": [
        "Great, now let's create a list of our functions, in including this latest one."
      ]
    },
    {
      "cell_type": "code",
      "execution_count": null,
      "id": "bb3ff08e-f1af-47da-8a06-23467077993b",
      "metadata": {
        "id": "bb3ff08e-f1af-47da-8a06-23467077993b",
        "outputId": "4982886a-376c-40e1-92f4-2d942c0a0ae6"
      },
      "outputs": [
        {
          "data": {
            "text/plain": [
              "['plot_top_30(df)',\n",
              " 'stem_freq(df)',\n",
              " 'stem_list(df, title)',\n",
              " 'get_matching_stem(df, list of stems)',\n",
              " 'percentage(df, list of stems)',\n",
              " 'get_matching_stem_exclude(df, list of stems to include, list of stems to exclude)',\n",
              " 'get_df_list(df_list)']"
            ]
          },
          "execution_count": 91,
          "metadata": {},
          "output_type": "execute_result"
        }
      ],
      "source": [
        "function_list = ['plot_top_30(df)', 'stem_freq(df)', 'stem_list(df, title)', 'get_matching_stem(df, list of stems)',\n",
        "                  'percentage(df, list of stems)', 'get_matching_stem_exclude(df, list of stems to include, list of stems to exclude)',\n",
        "                  'get_df_list(df_list)']\n",
        "\n",
        "function_list"
      ]
    },
    {
      "cell_type": "markdown",
      "id": "fc74394f-1ce2-4cbd-ae7b-e983dafb2dcc",
      "metadata": {
        "id": "fc74394f-1ce2-4cbd-ae7b-e983dafb2dcc"
      },
      "source": [
        "Let's start with the visualization of the detractors top 30 stems"
      ]
    },
    {
      "cell_type": "code",
      "execution_count": null,
      "id": "a3290fe8-5179-4b2b-a465-bd16f229aadd",
      "metadata": {
        "id": "a3290fe8-5179-4b2b-a465-bd16f229aadd",
        "outputId": "553d9e4e-f186-4de7-e7c1-198cdea9f5ef"
      },
      "outputs": [
        {
          "data": {
            "image/png": "[encoded data removed]",
            "text/plain": [
              "<Figure size 1000x600 with 1 Axes>"
            ]
          },
          "metadata": {},
          "output_type": "display_data"
        }
      ],
      "source": [
        "plot_top_30(detractor_df)"
      ]
    },
    {
      "cell_type": "markdown",
      "id": "242f0c5e-b91d-4c25-b8fa-d8e12ec4e771",
      "metadata": {
        "id": "242f0c5e-b91d-4c25-b8fa-d8e12ec4e771"
      },
      "source": [
        "A lot of overlap with the promoter_df, it looks like.  Below is a reminder cell for adding new stopwords and removing them from the results.  But let's move on past that for now and take a look at the list."
      ]
    },
    {
      "cell_type": "code",
      "execution_count": null,
      "id": "cdd6a6f8-ccfc-4702-ba58-ce13960b3f15",
      "metadata": {
        "id": "cdd6a6f8-ccfc-4702-ba58-ce13960b3f15"
      },
      "outputs": [],
      "source": [
        "# # Sample new words to add\n",
        "# new_words = ['issu', 'get', 'manner']  # Add your custom words here\n",
        "\n",
        "# # Call the previous add_custom_stopwords function to add the new_words above\n",
        "# add_custom_stopwords(new_words)\n",
        "\n",
        "# #Apply remove_stopwords function to 'comments_stemmed'\n",
        "# promoter_df['comments_stemmed'] = promoter_df['comments_stemmed'].apply(remove_stopwords)"
      ]
    },
    {
      "cell_type": "markdown",
      "id": "aaa8f93a-c879-48f4-ac3f-1c4e92601463",
      "metadata": {
        "id": "aaa8f93a-c879-48f4-ac3f-1c4e92601463"
      },
      "source": [
        "Right off the bat, we see the numbers are lower, as there are less detractors than promoters overall.  Let's export this to an excel document as before for easier searching."
      ]
    },
    {
      "cell_type": "code",
      "execution_count": null,
      "id": "5d7a2663-3216-4225-b369-e9b56fb6be05",
      "metadata": {
        "scrolled": true,
        "id": "5d7a2663-3216-4225-b369-e9b56fb6be05"
      },
      "outputs": [],
      "source": [
        "get_matching_stem(detractor_df, ['rude'])"
      ]
    },
    {
      "cell_type": "code",
      "execution_count": null,
      "id": "a734cdb7-4ef6-4ce4-b686-6426ac2712b7",
      "metadata": {
        "scrolled": true,
        "id": "a734cdb7-4ef6-4ce4-b686-6426ac2712b7"
      },
      "outputs": [],
      "source": [
        "get_matching_stem_exclude(detractor_df, ['servic'], ['custom'])"
      ]
    },
    {
      "cell_type": "markdown",
      "id": "d9e5ac18-aaf3-447e-b7d2-df8d6d7867e9",
      "metadata": {
        "id": "d9e5ac18-aaf3-447e-b7d2-df8d6d7867e9"
      },
      "source": [
        "##### Converting to Excel Output"
      ]
    },
    {
      "cell_type": "code",
      "execution_count": null,
      "id": "0c0c2886-f568-4103-9427-bd2c683f39f3",
      "metadata": {
        "id": "0c0c2886-f568-4103-9427-bd2c683f39f3",
        "outputId": "011cb0df-4ae9-494d-b7cb-74add832e103"
      },
      "outputs": [
        {
          "name": "stdout",
          "output_type": "stream",
          "text": [
            "Excel file 'Detractor Customer Service Comments.xlsx' created successfully.\n"
          ]
        }
      ],
      "source": [
        "get_excel(get_matching_stem, detractor_df, cust_serv2, excel_filename='Detractor Customer Service Comments')"
      ]
    },
    {
      "cell_type": "markdown",
      "id": "c4cf6362-454c-4ec1-b017-ea9d16ff3e66",
      "metadata": {
        "id": "c4cf6362-454c-4ec1-b017-ea9d16ff3e66"
      },
      "source": [
        "##### **Customer Service Detractor Percentage**"
      ]
    },
    {
      "cell_type": "code",
      "execution_count": null,
      "id": "f534d6ad-7dd9-492e-9106-94e123f51f0f",
      "metadata": {
        "id": "f534d6ad-7dd9-492e-9106-94e123f51f0f",
        "outputId": "80d8399c-ac7b-461d-b3ba-e3c1ae987dfd"
      },
      "outputs": [
        {
          "name": "stdout",
          "output_type": "stream",
          "text": [
            "23.737373737373737\n"
          ]
        }
      ],
      "source": [
        "percentage(detractor_df, cust_serv2)"
      ]
    },
    {
      "cell_type": "markdown",
      "id": "8ced8de9-4fe5-4dcf-9175-b5d97760d572",
      "metadata": {
        "id": "8ced8de9-4fe5-4dcf-9175-b5d97760d572"
      },
      "source": [
        "Above is the percentage of detractor comments that mention Customer Service."
      ]
    },
    {
      "cell_type": "markdown",
      "id": "21d82dbf-58f8-49c5-9645-0926010627b7",
      "metadata": {
        "id": "21d82dbf-58f8-49c5-9645-0926010627b7"
      },
      "source": [
        "#### Accountability"
      ]
    },
    {
      "cell_type": "code",
      "execution_count": null,
      "id": "1da2d071-d69d-43da-8258-eba49dfa6dbc",
      "metadata": {
        "id": "1da2d071-d69d-43da-8258-eba49dfa6dbc"
      },
      "outputs": [],
      "source": [
        "#create list of Timeliness stems\n",
        "# account =\n",
        "\n",
        "# Accountability\n"
      ]
    },
    {
      "cell_type": "code",
      "execution_count": null,
      "id": "c66c49e2-876d-4aa0-a7c3-d67676dac658",
      "metadata": {
        "scrolled": true,
        "id": "c66c49e2-876d-4aa0-a7c3-d67676dac658"
      },
      "outputs": [],
      "source": [
        "get_matching_stem(time2)"
      ]
    },
    {
      "cell_type": "markdown",
      "id": "42794485-66f0-4024-bbda-c50a67e500d3",
      "metadata": {
        "id": "42794485-66f0-4024-bbda-c50a67e500d3"
      },
      "source": [
        "##### Converting to Excel Output"
      ]
    },
    {
      "cell_type": "code",
      "execution_count": null,
      "id": "fa594365-4025-450a-99c3-29562b91eb3b",
      "metadata": {
        "id": "fa594365-4025-450a-99c3-29562b91eb3b",
        "outputId": "bf46f2ec-7285-4368-a18f-787ff4d56527"
      },
      "outputs": [
        {
          "name": "stdout",
          "output_type": "stream",
          "text": [
            "Excel file 'Detractor Timeliness Comments.xlsx' created successfully.\n"
          ]
        }
      ],
      "source": [
        "get_excel(get_matching_stem, detractor_df, time2, excel_filename='Detractor Timeliness Comments')"
      ]
    },
    {
      "cell_type": "markdown",
      "id": "cbb35a0a-6521-4ddb-8dae-5a2bcdcca30c",
      "metadata": {
        "id": "cbb35a0a-6521-4ddb-8dae-5a2bcdcca30c"
      },
      "source": [
        "#### Communication and Responsiveness Theme"
      ]
    },
    {
      "cell_type": "code",
      "execution_count": null,
      "id": "ba7986a6-5635-41f1-af19-d6d66ad703a2",
      "metadata": {
        "id": "ba7986a6-5635-41f1-af19-d6d66ad703a2"
      },
      "outputs": [],
      "source": [
        "#create list of Communication and Responsiveness stems\n",
        "comm_resp2 = comm_resp\n",
        "\n",
        "# #Communication tags used previously:\n",
        "# # Communication or communicate or \\\"follow up\\\" or \\\"follow-up\\\" or follow or response or respond or process or instructions or\n",
        "# # steps or \\\"back to you\\\" or \\\"respond back\\\" or \\\"reply back\\\" or (follow up response)~5 or \\\"listen to\\\" or\n",
        "# # \\\"listened to\\\" or understand or convey or ((IT| tech) and (lingo| jargon| language| terms| speech)) or attentive\",\n",
        "\n",
        "# #Responsiveness tags used previously:\n",
        "# # \"\\\"not responsive\\\" OR \\\"very responsive\\\" OR \\\"not at all responsive\\\" OR \\\"did not hear\\\" OR \\\"didn't hear\\\" OR\n",
        "# # \\\"delayed response\\\" OR \\\"slow response\\\" OR \\\"no response\\\" OR \\\"slow to respond\\\" OR response OR \\\"quick to respond\\\"\n",
        "# # OR \\\"good response\\\" OR \\\"bad response\\\" OR \\\"faster response\\\" OR \\\"response time\\\" OR responsiveness OR responsive OR\n",
        "# # \\\"rapid response\\\" OR \\\"fast to respond\\\" OR \\\"timeliness of response\\\" OR \\\"ineffective response\\\" or\n",
        "# # ((fast| quick| speed| short| slow| long| time) and response) or respond or reply or response or\n",
        "# # ((fast| quick| speed| short| slow| long| time) and reply) or ((fast| quick| speed| short| slow| long| time) and respond) or prompt\",\n",
        "\n",
        "# #\"Understand\" is already listed under Customer Service cust_serv list above.\n",
        "# #Many of the tags under Responsiveness are more about Timeliness.\n",
        "\n",
        "comms ="
      ]
    },
    {
      "cell_type": "markdown",
      "id": "77e20142-b1b0-4ede-9834-c71eed55695e",
      "metadata": {
        "id": "77e20142-b1b0-4ede-9834-c71eed55695e"
      },
      "source": [
        "##### Converting to Excel Output"
      ]
    },
    {
      "cell_type": "code",
      "execution_count": null,
      "id": "71fabf46-f112-4ea8-9afb-4c6314264499",
      "metadata": {
        "id": "71fabf46-f112-4ea8-9afb-4c6314264499",
        "outputId": "0418604e-08c9-4317-f1b4-aafbbc394ffc"
      },
      "outputs": [
        {
          "name": "stdout",
          "output_type": "stream",
          "text": [
            "Excel file 'Detractor Communication Responsiveness Comments.xlsx' created successfully.\n"
          ]
        }
      ],
      "source": [
        "get_excel(get_matching_stem, detractor_df, comm_resp2, excel_filename='Detractor Communication Responsiveness Comments')"
      ]
    },
    {
      "cell_type": "markdown",
      "id": "860bb945-5f0b-458e-af93-1139917b7867",
      "metadata": {
        "id": "860bb945-5f0b-458e-af93-1139917b7867"
      },
      "source": [
        "##### **Communication and Responsivness Detractor Percentage**"
      ]
    },
    {
      "cell_type": "code",
      "execution_count": null,
      "id": "27e74f81-6b96-4aa1-be67-9f03e28b7dd1",
      "metadata": {
        "id": "27e74f81-6b96-4aa1-be67-9f03e28b7dd1",
        "outputId": "71a63759-7bc2-48c7-9aa6-8491be37be04"
      },
      "outputs": [
        {
          "name": "stdout",
          "output_type": "stream",
          "text": [
            "23.737373737373737\n"
          ]
        }
      ],
      "source": [
        "percentage(detractor_df, comm_resp2)"
      ]
    },
    {
      "cell_type": "markdown",
      "id": "547895d5-0afa-46c1-a01f-020c81de4d77",
      "metadata": {
        "id": "547895d5-0afa-46c1-a01f-020c81de4d77"
      },
      "source": [
        "Above is the percentage of detractor comments that mention Communication and Responsiveness"
      ]
    },
    {
      "cell_type": "markdown",
      "id": "44b91874-8641-4f53-a8be-8805b2e00b5b",
      "metadata": {
        "id": "44b91874-8641-4f53-a8be-8805b2e00b5b"
      },
      "source": [
        "### Technology Theme"
      ]
    },
    {
      "cell_type": "code",
      "execution_count": null,
      "id": "5c2873e3-f196-4dfc-8ab7-d7cceff3dead",
      "metadata": {
        "scrolled": true,
        "id": "5c2873e3-f196-4dfc-8ab7-d7cceff3dead"
      },
      "outputs": [],
      "source": [
        "#hardware equipment tag list\n",
        "equip_hard = ['hardwar', 'comput', 'computer', 'devic', 'laptop', 'desktop', 'screen', 'keyboard', 'mous', 'monitor', 'cord', 'cow',\n",
        "             ('telemetry', 'board'), ('telemetri', 'board'), ('signatur', 'pad'), 'tablet', 'ipad', 'page', 'drive', 'cell', 'cellphone',\n",
        "              ('phone', 'call'), 'dock', 'mic', 'microphon', 'touchpad', 'trackpad', 'cable', 'cabl', 'fax', 'printer', 'scanner',\n",
        "              'gfe', 'ram', 'machine', 'machineri', 'machin', 'repair']\n",
        "\n",
        "# #Hardware tags in this script previously\n",
        "# equip_hard = ['equip', 'comput', 'computer', 'laptop', 'printer', 'monitor', 'hardwar', 'desktop', 'keyboard', 'mous', 'cow', 'wheel', 'telemetry',\n",
        "#               'telemetri', 'tablet', 'ipad',  'page', 'signatur', 'devic', 'screen', 'cell', 'gfe', 'drive', 'repair', 'ram', 'driver', 'bcma',\n",
        "#              'cellphon', 'microphon', 'mic', 'touchpad', 'trackpad', 'cable', 'cabl', 'fax', 'scanner', 'ram', 'machine', 'machineri', 'machin',\n",
        "#              ]\n",
        "\n",
        "#Hardware tags provided:\n",
        "#\"hardware or computer or device or laptop or desktop or screen or keyboard or mouse or monitor or cord or COW or COW's\n",
        "#or \\\"computer on wheels\\\" or \\\"telemetry board\\\" or \\\"signature pad\\\" or tablet or ipad or pager or drive or cellphone\n",
        "#or (phone && call) or dock or mic or microphone or touchpad or trackpad or cable or fax or printer or scanner or GFE or RAM or machine or repair\",\n",
        "\n",
        "#software equipment tag list\n",
        "equip_soft = ['softwar', 'program', 'programm', 'app', 'application', 'bdn', 'boss-e', 'boss', 'chi', 'cag', 'ctx', 'citrix', 'ht', 'jvl',\n",
        "              '0365', 'rescue', 'tic', 'vatas', 'vbms', 'vcl', 'vista', 'v-cprs', 'cprs' 'v-comp', 'comp', 'vpn', 'lynx', 'glitch', 'glitchi', 'lag',\n",
        "              'crash', 'freez', 'bug', 'boot', 'drop', 'laten', 'leaf', 'snow', 'outdat', 'yourit', 'network', 'internet', 'password', 'portal', 'wifi',\n",
        "              'http' ]\n",
        "\n",
        "# #Software tags om this script previously:\n",
        "# equip_soft = ['softwar', 'program', 'programm', 'app', 'application', 'bdn', 'boss-e', 'boss', 'chi', 'cag', 'ctx', 'citrix', 'ht', 'jvl',\n",
        "#               '0365', 'rescue', 'tic', 'vatas', 'vbms', 'vcl', 'vista', 'v-cprs', 'cprs' 'v-comp', 'vpn', 'lynx', 'glitch', 'glitchi', 'lag',\n",
        "#               'crash', 'freez', 'bug', 'boot', 'laten', 'leaf', 'snow', 'dragon', 'capri', 'bcma']\n",
        "\n",
        "#software tags provided:\n",
        "#\"software  or program or app or application or BDN or BOSS-E or BOSS or CHI or CAG or CTX or Citrix or HT or JVL or O365 or RESCUE\n",
        "#or TIC or VATAS or VBMS or VCL or VistA or V-CPRS or CPRS or V-COMP or COMP or VPN or lynx or glitch or lag or crash or freeze\n",
        "#or bug or(black screen)~2 or (blue screen)~2 or (white screen)~2 or boot or drop or laten or LEAF or SNOW”\n",
        "\n",
        "#consider how to incorporate 'screen', and 'black', 'blue', 'white'. None of these showed up as pairs, and most references to\n",
        "#screens were about screen-sharing, none about screen crashes.\n",
        "\n",
        "\n",
        "tech = equip_hard + equip_soft"
      ]
    },
    {
      "cell_type": "code",
      "execution_count": null,
      "id": "b05da0d7-aa6d-40aa-905b-13aedccedfa8",
      "metadata": {
        "id": "b05da0d7-aa6d-40aa-905b-13aedccedfa8",
        "outputId": "f3b5b934-3fd8-47a8-ad30-86e561192db7"
      },
      "outputs": [
        {
          "data": {
            "text/html": [
              "<div>\n",
              "<style scoped>\n",
              "    .dataframe tbody tr th:only-of-type {\n",
              "        vertical-align: middle;\n",
              "    }\n",
              "\n",
              "    .dataframe tbody tr th {\n",
              "        vertical-align: top;\n",
              "    }\n",
              "\n",
              "    .dataframe thead th {\n",
              "        text-align: right;\n",
              "    }\n",
              "</style>\n",
              "<table border=\"1\" class=\"dataframe\">\n",
              "  <thead>\n",
              "    <tr style=\"text-align: right;\">\n",
              "      <th></th>\n",
              "      <th>Location</th>\n",
              "      <th>Detractor Comments</th>\n",
              "    </tr>\n",
              "  </thead>\n",
              "  <tbody>\n",
              "    <tr>\n",
              "      <th>304</th>\n",
              "      <td>TX - Houston, Michael E. DeBakey VA Medical Center (580)</td>\n",
              "      <td>computers on medication carts and desks routinely malfunction by getting stuck on screens and have to be restarted, take a long time to sign you in, card readers stop working, scanners stop working, and sometimes wifi drops off, keyboards stop working. many of the carts for the respiratory department are old and need to be replaced.</td>\n",
              "    </tr>\n",
              "    <tr>\n",
              "      <th>1058</th>\n",
              "      <td>CA - Palo Alto VA Medical Center (640)</td>\n",
              "      <td>decreasing vpn load times and drop off</td>\n",
              "    </tr>\n",
              "  </tbody>\n",
              "</table>\n",
              "</div>"
            ],
            "text/plain": [
              "                                                      Location  \\\n",
              "304   TX - Houston, Michael E. DeBakey VA Medical Center (580)   \n",
              "1058                    CA - Palo Alto VA Medical Center (640)   \n",
              "\n",
              "                                                                                                                                                                                                                                                                                                                                  Detractor Comments  \n",
              "304   computers on medication carts and desks routinely malfunction by getting stuck on screens and have to be restarted, take a long time to sign you in, card readers stop working, scanners stop working, and sometimes wifi drops off, keyboards stop working. many of the carts for the respiratory department are old and need to be replaced.  \n",
              "1058                                                                                                                                                                                                                                                                                                          decreasing vpn load times and drop off  "
            ]
          },
          "execution_count": 113,
          "metadata": {},
          "output_type": "execute_result"
        }
      ],
      "source": [
        "get_matching_stem(detractor_df, ['drop'])"
      ]
    },
    {
      "cell_type": "markdown",
      "id": "2e258377-e28b-4f77-b221-6917dd8cf60b",
      "metadata": {
        "id": "2e258377-e28b-4f77-b221-6917dd8cf60b"
      },
      "source": [
        "##### Converting to Excel Output"
      ]
    },
    {
      "cell_type": "code",
      "execution_count": null,
      "id": "7bf32f71-01bd-432d-87dc-077281b1e53f",
      "metadata": {
        "id": "7bf32f71-01bd-432d-87dc-077281b1e53f",
        "outputId": "8a4d2a02-a72b-4ba4-b1ac-33e102de96f9"
      },
      "outputs": [
        {
          "name": "stdout",
          "output_type": "stream",
          "text": [
            "Excel file 'Detractor Customer Service Comments.xlsx' created successfully.\n"
          ]
        }
      ],
      "source": [
        "get_excel(get_matching_stem, tech, excel_filename='Technology Customer Service Comments')"
      ]
    },
    {
      "cell_type": "code",
      "execution_count": null,
      "id": "b9f047ea-3108-4b45-9747-64ea620dd5d2",
      "metadata": {
        "scrolled": true,
        "id": "b9f047ea-3108-4b45-9747-64ea620dd5d2",
        "outputId": "310fbd30-1644-41c9-e192-7f1a7e60f43b"
      },
      "outputs": [
        {
          "name": "stdout",
          "output_type": "stream",
          "text": [
            "10.1010101010101\n"
          ]
        }
      ],
      "source": [
        "#percentage of technology comments\n",
        "percentage(tech)"
      ]
    },
    {
      "cell_type": "markdown",
      "id": "a001fbe8-5bb1-4452-b538-e9b2684ab899",
      "metadata": {
        "id": "a001fbe8-5bb1-4452-b538-e9b2684ab899"
      },
      "source": [
        "#### Overlap with Detractor Communication/Responsiveness and Timeliness Themes"
      ]
    },
    {
      "cell_type": "code",
      "execution_count": null,
      "id": "b63d0e68-8855-4b77-9d46-49b5ee59f44e",
      "metadata": {
        "id": "b63d0e68-8855-4b77-9d46-49b5ee59f44e",
        "outputId": "0f57f3b9-693e-4459-99a1-e01ce0ee9453"
      },
      "outputs": [
        {
          "name": "stdout",
          "output_type": "stream",
          "text": [
            "30.808080808080806\n"
          ]
        }
      ],
      "source": [
        "#join the time and comm_resp lists\n",
        "time_comm_resp2 = time2 + comm_resp2\n",
        "\n",
        "#Run function to pull percentage of respondents\n",
        "time_comm_percent2 = (len(get_matching_stem(detractor_df, time_comm_resp2)) / len(detractor_df)) * 100\n",
        "\n",
        "#print percentage\n",
        "print(time_comm_percent2)"
      ]
    },
    {
      "cell_type": "markdown",
      "id": "b24e0c1a-196d-4eb0-a989-1d4465ad93ce",
      "metadata": {
        "id": "b24e0c1a-196d-4eb0-a989-1d4465ad93ce"
      },
      "source": [
        "This is the percentage of respondents who discuss any and all of the stemmed words from both the Timeliness and Communication and Responsiveness themes."
      ]
    },
    {
      "cell_type": "markdown",
      "id": "d43adbf3-d91f-4122-b1a8-d03d5cff2a23",
      "metadata": {
        "id": "d43adbf3-d91f-4122-b1a8-d03d5cff2a23"
      },
      "source": [
        "Again, we will divide this out to see more precisely the percentages."
      ]
    },
    {
      "cell_type": "code",
      "execution_count": null,
      "id": "6d22567a-3bae-4414-aea9-6f9359ef7ba6",
      "metadata": {
        "id": "6d22567a-3bae-4414-aea9-6f9359ef7ba6",
        "outputId": "6bc372e5-0603-4d32-9d97-3251ff6e3ca3"
      },
      "outputs": [
        {
          "name": "stdout",
          "output_type": "stream",
          "text": [
            "18.68686868686869\n"
          ]
        }
      ],
      "source": [
        "#assign variable to length of promoter respondents mentioning Responsiveness/Communication only (not Timeliness) divided by total respondents\n",
        "communication2 = (len(get_matching_stem_exclude(detractor_df, comm_resp2, time2)) / len(detractor_df)) * 100\n",
        "print(communication2)"
      ]
    },
    {
      "cell_type": "markdown",
      "id": "832e19e9-34de-4b71-9ebc-30ffb13a3ba2",
      "metadata": {
        "id": "832e19e9-34de-4b71-9ebc-30ffb13a3ba2"
      },
      "source": [
        "This is the percentage of detractor respondents who reference Communication and Responsiveness without referencing Timeliness"
      ]
    },
    {
      "cell_type": "code",
      "execution_count": null,
      "id": "ce3bdd7b-50d1-494d-9962-cef01bf6a05e",
      "metadata": {
        "id": "ce3bdd7b-50d1-494d-9962-cef01bf6a05e",
        "outputId": "1f634469-0f73-48f1-c471-ae43da083475"
      },
      "outputs": [
        {
          "name": "stdout",
          "output_type": "stream",
          "text": [
            "4.545454545454546\n"
          ]
        }
      ],
      "source": [
        "#assign variable to length of promoter respondents mentioning Timeliness only (not Responsiveness/Communication) divided by total respondents\n",
        "timeliness2 = (len(get_matching_stem_exclude(detractor_df, time2, comm_resp2)) / len(detractor_df)) * 100\n",
        "print(timeliness2)"
      ]
    },
    {
      "cell_type": "markdown",
      "id": "48e8aeb6-b30e-4b15-8ea6-ab6cf0e29b95",
      "metadata": {
        "id": "48e8aeb6-b30e-4b15-8ea6-ab6cf0e29b95"
      },
      "source": [
        "This is the perecentage of detractor respondents who reference Timeliness without Communication/Responsiveness"
      ]
    },
    {
      "cell_type": "code",
      "execution_count": null,
      "id": "5418f187-d258-4294-9bd8-9601256ea60b",
      "metadata": {
        "id": "5418f187-d258-4294-9bd8-9601256ea60b",
        "outputId": "990d5d6e-6d73-4f95-a315-15e0b44a4223"
      },
      "outputs": [
        {
          "data": {
            "text/plain": [
              "7.575757575757571"
            ]
          },
          "execution_count": 126,
          "metadata": {},
          "output_type": "execute_result"
        }
      ],
      "source": [
        "#subtract sum of communication and timeliness percentages from combined percentage\n",
        "time_comm_percent2 - (communication2 + timeliness2)"
      ]
    },
    {
      "cell_type": "markdown",
      "id": "2cf5b730-b457-418c-a333-964dbd07c383",
      "metadata": {
        "id": "2cf5b730-b457-418c-a333-964dbd07c383"
      },
      "source": [
        "This is the percentage of detractor respondents who reference both Timeliness and Communication/Responsiveness."
      ]
    },
    {
      "cell_type": "markdown",
      "id": "969f1985-755f-4b3f-b8d6-428691592771",
      "metadata": {
        "id": "969f1985-755f-4b3f-b8d6-428691592771"
      },
      "source": [
        "### **Passive Comment Analysis**"
      ]
    },
    {
      "cell_type": "code",
      "execution_count": null,
      "id": "8a85952e-cb14-4e9f-afce-b161eccf4b55",
      "metadata": {
        "id": "8a85952e-cb14-4e9f-afce-b161eccf4b55",
        "outputId": "2c37a7f6-caa8-41bc-da54-97b145f1e144"
      },
      "outputs": [
        {
          "name": "stdout",
          "output_type": "stream",
          "text": [
            "passive_df\n",
            "euo_promoter_df\n",
            "euo_detractor_df\n",
            "yourit_df\n",
            "yourit_promoter_df\n",
            "yourit_detractor_df\n",
            "promoter_df\n",
            "detractor_df\n",
            "esd_promoter_df\n",
            "df\n"
          ]
        }
      ],
      "source": [
        "get_df_list(df_list)"
      ]
    },
    {
      "cell_type": "code",
      "execution_count": null,
      "id": "1be179a4-67f9-4fa2-af9e-7303c99373da",
      "metadata": {
        "id": "1be179a4-67f9-4fa2-af9e-7303c99373da",
        "outputId": "f6c7c9af-e318-47a2-dd59-c68660bb320f"
      },
      "outputs": [
        {
          "data": {
            "text/plain": [
              "['plot_top_30(df)',\n",
              " 'stem_freq(df)',\n",
              " 'stem_list(df, title)',\n",
              " 'get_matching_stem(df, list of stems)',\n",
              " 'percentage(df, list of stems)',\n",
              " 'get_matching_stem_exclude(df, list of stems to include, list of stems to exclude)',\n",
              " 'get_df_list(df_list)']"
            ]
          },
          "execution_count": 128,
          "metadata": {},
          "output_type": "execute_result"
        }
      ],
      "source": [
        "function_list"
      ]
    },
    {
      "cell_type": "code",
      "execution_count": null,
      "id": "9b825c7e-5664-4e84-98b3-fbf42c633583",
      "metadata": {
        "id": "9b825c7e-5664-4e84-98b3-fbf42c633583",
        "outputId": "06b898e1-ec41-4b95-8092-6b5bbf4fcae8"
      },
      "outputs": [
        {
          "data": {
            "image/png": "[encoded data removed]",
            "text/plain": [
              "<Figure size 1000x600 with 1 Axes>"
            ]
          },
          "metadata": {},
          "output_type": "display_data"
        }
      ],
      "source": [
        "plot_top_30(passive_df)"
      ]
    },
    {
      "cell_type": "markdown",
      "id": "6f54c809-080b-4702-8d1b-538917075032",
      "metadata": {
        "id": "6f54c809-080b-4702-8d1b-538917075032"
      },
      "source": [
        "Again, a lot of overlap in terms here.  Since the passives will be in between the promoters and the detractors, and since the question for this dataframe is about areas of improvement, it will make sense to reuse the stem lists we created for the Detractor Comment Analysis above."
      ]
    },
    {
      "cell_type": "code",
      "execution_count": null,
      "id": "1607bb44-c0a5-4a46-a59d-280049346ea4",
      "metadata": {
        "scrolled": true,
        "id": "1607bb44-c0a5-4a46-a59d-280049346ea4",
        "outputId": "ce1fcac2-643e-4714-e297-6ee23cc929fb"
      },
      "outputs": [
        {
          "data": {
            "text/plain": [
              "[('ticket', 31),\n",
              " ('time', 25),\n",
              " ('servic', 25),\n",
              " ('issu', 25),\n",
              " ('better', 23),\n",
              " ('oit', 21),\n",
              " ('respons', 19),\n",
              " ('equip', 18),\n",
              " ('work', 17),\n",
              " ('help', 16),\n",
              " ('need', 15),\n",
              " ('process', 15),\n",
              " ('would', 14),\n",
              " ('comput', 14),\n",
              " ('none', 13),\n",
              " ('local', 13),\n",
              " ('commun', 12),\n",
              " ('system', 12),\n",
              " ('faster', 12),\n",
              " ('get', 12),\n",
              " ('softwar', 11),\n",
              " ('resolv', 11),\n",
              " ('custom', 10),\n",
              " ('know', 10),\n",
              " ('fix', 10),\n",
              " ('staff', 9),\n",
              " ('new', 9),\n",
              " ('station', 8),\n",
              " ('noth', 8),\n",
              " ('problem', 8),\n",
              " ('call', 8),\n",
              " ('contact', 8),\n",
              " ('chang', 8),\n",
              " ('understand', 7),\n",
              " ('quicker', 7),\n",
              " ('request', 7),\n",
              " ('could', 7),\n",
              " ('use', 7),\n",
              " ('wait', 7),\n",
              " ('thing', 7),\n",
              " ('one', 7),\n",
              " ('updat', 7),\n",
              " ('complet', 7),\n",
              " ('day', 7),\n",
              " ('improv', 6),\n",
              " ('assist', 6),\n",
              " ('instead', 6),\n",
              " ('due', 6),\n",
              " ('depart', 6),\n",
              " ('person', 6),\n",
              " ('offic', 6),\n",
              " ('think', 6),\n",
              " ('abl', 6),\n",
              " ('way', 6),\n",
              " ('see', 6),\n",
              " ('mani', 5),\n",
              " ('team', 5),\n",
              " ('provid', 5),\n",
              " ('requir', 5),\n",
              " ('avail', 5),\n",
              " ('laptop', 5),\n",
              " ('facil', 5),\n",
              " ('sometim', 5),\n",
              " ('tri', 5),\n",
              " ('close', 5),\n",
              " ('like', 5),\n",
              " ('nice', 5),\n",
              " ('go', 5),\n",
              " ('relat', 5),\n",
              " ('phone', 5),\n",
              " ('make', 5),\n",
              " ('desk', 4),\n",
              " ('support', 4),\n",
              " ('check', 4),\n",
              " ('monitor', 4),\n",
              " ('access', 4),\n",
              " ('train', 4),\n",
              " ('other', 4),\n",
              " ('site', 4),\n",
              " ('alway', 4),\n",
              " ('sure', 4),\n",
              " ('good', 4),\n",
              " ('timeli', 4),\n",
              " ('still', 4),\n",
              " ('set', 4),\n",
              " ('put', 4),\n",
              " ('na', 4),\n",
              " ('address', 4),\n",
              " ('va', 4),\n",
              " ('peopl', 4),\n",
              " ('given', 4),\n",
              " ('frustrat', 4),\n",
              " ('user', 4),\n",
              " ('level', 4),\n",
              " ('speed', 4),\n",
              " ('streamlin', 3),\n",
              " ('function', 3),\n",
              " ('platform', 3),\n",
              " ('front', 3),\n",
              " ('send', 3),\n",
              " ('cpr', 3),\n",
              " ('someon', 3),\n",
              " ('seem', 3),\n",
              " ('wast', 3),\n",
              " ('come', 3),\n",
              " ('find', 3),\n",
              " ('easier', 3),\n",
              " ('ask', 3),\n",
              " ('done', 3),\n",
              " ('differ', 3),\n",
              " ('eas', 3),\n",
              " ('stoppag', 3),\n",
              " ('long', 3),\n",
              " ('patient', 3),\n",
              " ('health', 3),\n",
              " ('first', 3),\n",
              " ('answer', 3),\n",
              " ('inform', 3),\n",
              " ('mobil', 3),\n",
              " ('actual', 3),\n",
              " ('took', 3),\n",
              " ('realli', 3),\n",
              " ('great', 3),\n",
              " ('connect', 3),\n",
              " ('delay', 3),\n",
              " ('may', 3),\n",
              " ('even', 3),\n",
              " ('excel', 3),\n",
              " ('power', 3),\n",
              " ('knowledg', 3),\n",
              " ('experi', 3),\n",
              " ('program', 3),\n",
              " ('area', 3),\n",
              " ('carrier', 3),\n",
              " ('locat', 3),\n",
              " ('us', 3),\n",
              " ('higher', 3),\n",
              " ('gap', 3),\n",
              " ('mid', 3),\n",
              " ('well', 3),\n",
              " ('consum', 2),\n",
              " ('product', 2),\n",
              " ('job', 2),\n",
              " ('separ', 2),\n",
              " ('unit', 2),\n",
              " ('medic', 2),\n",
              " ('nurs', 2),\n",
              " ('email', 2),\n",
              " ('etc', 2),\n",
              " ('replac', 2),\n",
              " ('run', 2),\n",
              " ('mayb', 2),\n",
              " ('lot', 2),\n",
              " ('turn', 2),\n",
              " ('back', 2),\n",
              " ('right', 2),\n",
              " ('multipl', 2),\n",
              " ('unsur', 2),\n",
              " ('virtual', 2),\n",
              " ('enter', 2),\n",
              " ('reach', 2),\n",
              " ('perhap', 2),\n",
              " ('form', 2),\n",
              " ('usual', 2),\n",
              " ('file', 2),\n",
              " ('timeless', 2),\n",
              " ('staf', 2),\n",
              " ('tech', 2),\n",
              " ('special', 2),\n",
              " ('keep', 2),\n",
              " ('shut', 2),\n",
              " ('clinician', 2),\n",
              " ('vha', 2),\n",
              " ('care', 2),\n",
              " ('appropri', 2),\n",
              " ('question', 2),\n",
              " ('clarifi', 2),\n",
              " ('friendli', 2),\n",
              " ('pleas', 2),\n",
              " ('recent', 2),\n",
              " ('prioriti', 2),\n",
              " ('statu', 2),\n",
              " ('order', 2),\n",
              " ('made', 2),\n",
              " ('everyth', 2),\n",
              " ('appreci', 2),\n",
              " ('enterpris', 2),\n",
              " ('often', 2),\n",
              " ('fall', 2),\n",
              " ('talk', 2),\n",
              " ('scan', 2),\n",
              " ('build', 2),\n",
              " ('told', 2),\n",
              " ('consid', 2),\n",
              " ('whole', 2),\n",
              " ('hold', 2),\n",
              " ('lack', 2),\n",
              " ('honestli', 2),\n",
              " ('probabl', 2),\n",
              " ('limit', 2),\n",
              " ('allow', 2),\n",
              " ('hour', 2),\n",
              " ('reset', 2),\n",
              " ('includ', 2),\n",
              " ('download', 2),\n",
              " ('everi', 2),\n",
              " ('occasion', 2),\n",
              " ('week', 2),\n",
              " ('feedback', 2),\n",
              " ('despit', 2),\n",
              " ('manag', 2),\n",
              " ('daili', 2),\n",
              " ('repli', 2),\n",
              " ('reason', 2),\n",
              " ('vpn', 2),\n",
              " ('reliabl', 2),\n",
              " ('less', 2),\n",
              " ('give', 2),\n",
              " ('abil', 2),\n",
              " ('cancel', 2),\n",
              " ('option', 2),\n",
              " ('longer', 2),\n",
              " ('without', 2),\n",
              " ('risk', 2),\n",
              " ('within', 2),\n",
              " ('next', 2),\n",
              " ('senior', 2),\n",
              " ('approv', 2),\n",
              " ('key', 2),\n",
              " ('primari', 2),\n",
              " ('place', 2),\n",
              " ('say', 2),\n",
              " ('remot', 2),\n",
              " ('employe', 2),\n",
              " ('track', 2),\n",
              " ('number', 2),\n",
              " ('bcma', 2),\n",
              " ('show', 2),\n",
              " ('restart', 2),\n",
              " ('qualiti', 2),\n",
              " ('consult', 2),\n",
              " ('much', 2),\n",
              " ('repair', 2),\n",
              " ('best', 2),\n",
              " ('howev', 2),\n",
              " ('attempt', 2),\n",
              " ('backup', 2),\n",
              " ('cboc', 2),\n",
              " ('design', 2),\n",
              " ('manpow', 1),\n",
              " ('enough', 1),\n",
              " ('accommod', 1),\n",
              " ('redund', 1),\n",
              " ('take', 1),\n",
              " ('away', 1),\n",
              " ('regular', 1),\n",
              " ('suggest', 1),\n",
              " ('integr', 1),\n",
              " ('current', 1),\n",
              " ('rather', 1),\n",
              " ('workflow', 1),\n",
              " ('interfac', 1),\n",
              " ('across', 1),\n",
              " ('cpu', 1),\n",
              " ('databas', 1),\n",
              " ('veteran', 1),\n",
              " ('alert', 1),\n",
              " ('insur', 1),\n",
              " ('problemat', 1),\n",
              " ('broken', 1),\n",
              " ('can', 1),\n",
              " ('taken', 1),\n",
              " ('que', 1),\n",
              " ('hope', 1),\n",
              " ('data', 1),\n",
              " ('cabl', 1),\n",
              " ('els', 1),\n",
              " ('rate', 1),\n",
              " ('non', 1),\n",
              " ('complex', 1),\n",
              " ('respond', 1),\n",
              " ('quickli', 1),\n",
              " ('solv', 1),\n",
              " ('easi', 1),\n",
              " ('direct', 1),\n",
              " ('faq', 1),\n",
              " ('section', 1),\n",
              " ('weekend', 1),\n",
              " ('horribl', 1),\n",
              " ('until', 1),\n",
              " ('communion', 1),\n",
              " ('end', 1),\n",
              " ('start', 1),\n",
              " ('physic', 1),\n",
              " ('bring', 1),\n",
              " ('gfe', 1),\n",
              " ('lead', 1),\n",
              " ('hardwar', 1),\n",
              " ('oi', 1),\n",
              " ('item', 1),\n",
              " ('guid', 1),\n",
              " ('procur', 1),\n",
              " ('yourit', 1),\n",
              " ('confus', 1),\n",
              " ('fast', 1),\n",
              " ('applic', 1),\n",
              " ('addit', 1),\n",
              " ('clinic', 1),\n",
              " ('informat', 1),\n",
              " ('troubleshoot', 1),\n",
              " ('defer', 1),\n",
              " ('languag', 1),\n",
              " ('explain', 1),\n",
              " ('util', 1),\n",
              " ('network', 1),\n",
              " ('transfer', 1),\n",
              " ('save', 1),\n",
              " ('role', 1),\n",
              " ('period', 1),\n",
              " ('short', 1),\n",
              " ('import', 1),\n",
              " ('convey', 1),\n",
              " ('previou', 1),\n",
              " ('concern', 1),\n",
              " ('overnight', 1),\n",
              " ('slow', 1),\n",
              " ('stall', 1),\n",
              " ('queue', 1),\n",
              " ('urgenc', 1),\n",
              " ('tip', 1),\n",
              " ('puget', 1),\n",
              " ('sound', 1),\n",
              " ('healthcar', 1),\n",
              " ('spear', 1),\n",
              " ('appoint', 1),\n",
              " ('understaf', 1),\n",
              " ('model', 1),\n",
              " ('felt', 1),\n",
              " ('space', 1),\n",
              " ('super', 1),\n",
              " ('report', 1),\n",
              " ('clariti', 1),\n",
              " ('savvi', 1),\n",
              " ('jut', 1),\n",
              " ('name', 1),\n",
              " ('review', 1),\n",
              " ('misrout', 1),\n",
              " ('open', 1),\n",
              " ('rerout', 1),\n",
              " ('correct', 1),\n",
              " ('low', 1),\n",
              " ('follow', 1),\n",
              " ('devic', 1),\n",
              " ('assess', 1),\n",
              " ('unavail', 1),\n",
              " ('cow', 1),\n",
              " ('duti', 1),\n",
              " ('got', 1),\n",
              " ('10', 1),\n",
              " ('extrem', 1),\n",
              " ('pleasant', 1),\n",
              " ('clearer', 1),\n",
              " ('offer', 1),\n",
              " ('sunder', 1),\n",
              " ('guidelin', 1),\n",
              " ('directli', 1),\n",
              " ('shorter', 1),\n",
              " ('piv', 1),\n",
              " ('fulli', 1),\n",
              " ('cannot', 1),\n",
              " ('room', 1),\n",
              " ('contract', 1),\n",
              " ('timefram', 1),\n",
              " ('complic', 1),\n",
              " ('attend', 1),\n",
              " ('self', 1),\n",
              " ('102', 1),\n",
              " ('folk', 1),\n",
              " ('abras', 1),\n",
              " ('speak', 1),\n",
              " ('neg', 1),\n",
              " ('mix', 1),\n",
              " ('perfectli', 1),\n",
              " ('pipe', 1),\n",
              " ('dream', 1),\n",
              " ('though', 1),\n",
              " ('pass', 1),\n",
              " ('small', 1),\n",
              " ('log', 1),\n",
              " ('larger', 1),\n",
              " ('group', 1),\n",
              " ('budget', 1),\n",
              " ('restor', 1),\n",
              " ('spend', 1),\n",
              " ('littl', 1),\n",
              " ('submit', 1),\n",
              " ('later', 1),\n",
              " ('relev', 1),\n",
              " ('anymor', 1),\n",
              " ('member', 1),\n",
              " ('profession', 1),\n",
              " ('deterr', 1),\n",
              " ('stuck', 1),\n",
              " ('undo', 1),\n",
              " ('arbitrarili', 1),\n",
              " ('clear', 1),\n",
              " ('peer', 1),\n",
              " ('becom', 1),\n",
              " ('readili', 1),\n",
              " ('2nd', 1),\n",
              " ('hospit', 1),\n",
              " ('coordin', 1),\n",
              " ('ie', 1),\n",
              " ('regard', 1),\n",
              " ('resolut', 1),\n",
              " ('declin', 1),\n",
              " ('difficult', 1),\n",
              " ('lag', 1),\n",
              " ('also', 1),\n",
              " ('sharepoint', 1),\n",
              " ('older', 1),\n",
              " ('version', 1),\n",
              " ('dial', 1),\n",
              " ('button', 1),\n",
              " ('mistak', 1),\n",
              " ('edit', 1),\n",
              " ('crr', 1),\n",
              " ('specif', 1),\n",
              " ('remedi', 1),\n",
              " ('leader', 1),\n",
              " ('reduc', 1),\n",
              " ('threat', 1),\n",
              " ('stop', 1),\n",
              " ('present', 1),\n",
              " ('final', 1),\n",
              " ('leadership', 1),\n",
              " ('singl', 1),\n",
              " ('point', 1),\n",
              " ('red', 1),\n",
              " ('river', 1),\n",
              " ('figur', 1),\n",
              " ('link', 1),\n",
              " ('sync', 1),\n",
              " ('recept', 1),\n",
              " ('ground', 1),\n",
              " ('floor', 1),\n",
              " ('around', 1),\n",
              " ('associ', 1),\n",
              " ('simpl', 1),\n",
              " ('task', 1),\n",
              " ('imperson', 1),\n",
              " ('timelin', 1),\n",
              " ('receiv', 1),\n",
              " ('deal', 1),\n",
              " ('unabl', 1),\n",
              " ('almost', 1),\n",
              " ('technician', 1),\n",
              " ('hire', 1),\n",
              " ('cord', 1),\n",
              " ('rest', 1),\n",
              " ('board', 1),\n",
              " ('dock', 1),\n",
              " ('mous', 1),\n",
              " ('action', 1),\n",
              " ('solut', 1),\n",
              " ('sent', 1),\n",
              " ('wrong', 1),\n",
              " ('obviou', 1),\n",
              " ('select', 1),\n",
              " ('nearest', 1),\n",
              " ('assign', 1),\n",
              " ('packag', 1),\n",
              " ('keyboard', 1),\n",
              " ('never', 1),\n",
              " ('hous', 1),\n",
              " ('went', 1),\n",
              " ('technolog', 1),\n",
              " ('recommend', 1),\n",
              " ('toledo', 1),\n",
              " ('size', 1),\n",
              " ('home', 1),\n",
              " ('accomod', 1),\n",
              " ('rectifi', 1),\n",
              " ('lost', 1),\n",
              " ('document', 1),\n",
              " ('middl', 1),\n",
              " ('type', 1),\n",
              " ('redo', 1),\n",
              " ('extran', 1),\n",
              " ('fault', 1),\n",
              " ('govern', 1),\n",
              " ('centerfug', 1),\n",
              " ('vista', 1),\n",
              " ('note', 1),\n",
              " ('initi', 1),\n",
              " ('sdsdvsdgvdfv', 1),\n",
              " ('freez', 1),\n",
              " ('uninstal', 1),\n",
              " ('increas', 1),\n",
              " ('environ', 1),\n",
              " ('effect', 1),\n",
              " ('busi', 1),\n",
              " ('per', 1),\n",
              " ('chat', 1),\n",
              " ('stronger', 1),\n",
              " ('mindset', 1),\n",
              " ('educ', 1),\n",
              " ('sme', 1),\n",
              " ('oppos', 1),\n",
              " ('conveni', 1),\n",
              " ('past', 1),\n",
              " ('flex', 1),\n",
              " ('posit', 1),\n",
              " ('14', 1),\n",
              " ('info', 1),\n",
              " ('discuss', 1),\n",
              " ('especi', 1),\n",
              " ('critic', 1),\n",
              " ('success', 1),\n",
              " ('mission', 1),\n",
              " ('simplier', 1),\n",
              " ('properli', 1),\n",
              " ('sooner', 1),\n",
              " ('sooooo', 1),\n",
              " ('old', 1),\n",
              " ('satisfact', 1),\n",
              " ('navig', 1),\n",
              " ('prior', 1),\n",
              " ('sever', 1),\n",
              " ('android', 1),\n",
              " ('ok', 1),\n",
              " ('proactiv', 1),\n",
              " ('choos', 1),\n",
              " ('hp', 1),\n",
              " ('elitebook', 1),\n",
              " ('845', 1),\n",
              " ('2000', 1),\n",
              " ('step', 1),\n",
              " ('dell', 1),\n",
              " ('latitud', 1),\n",
              " ('struggl', 1),\n",
              " ('worker', 1),\n",
              " ('oper', 1),\n",
              " ('neo', 1),\n",
              " ('implement', 1),\n",
              " ('triag', 1),\n",
              " ('refurbish', 1),\n",
              " ('notabl', 1),\n",
              " ('usaccess', 1),\n",
              " ('near', 1),\n",
              " ('worthless', 1),\n",
              " ('activ', 1),\n",
              " ('badg', 1),\n",
              " ('roll', 1),\n",
              " ('05', 1),\n",
              " ('02', 1),\n",
              " ('24', 1),\n",
              " ('caus', 1),\n",
              " ('approxim', 1),\n",
              " ('amount', 1),\n",
              " ('reboot', 1),\n",
              " ('stagger', 1),\n",
              " ('flagstaff', 1),\n",
              " ('easili', 1),\n",
              " ('mental', 1),\n",
              " ('view', 1),\n",
              " ('intern', 1),\n",
              " ('inconveni', 1),\n",
              " ('45', 1),\n",
              " ('minut', 1),\n",
              " ('chanc', 1),\n",
              " ('readi', 1),\n",
              " ('adob', 1),\n",
              " ('reader', 1),\n",
              " ('look', 1),\n",
              " ('pain', 1),\n",
              " ('rout', 1),\n",
              " ('anoth', 1),\n",
              " ('friendlier', 1),\n",
              " ('consist', 1),\n",
              " ('dysfunct', 1),\n",
              " ('wifi', 1),\n",
              " ('pike', 1),\n",
              " ('nicer', 1),\n",
              " ('portal', 1),\n",
              " ('smoother', 1),\n",
              " ('advanc', 1),\n",
              " ('warn', 1),\n",
              " ('expir', 1),\n",
              " ('certif', 1),\n",
              " ('charg', 1),\n",
              " ('round', 1),\n",
              " ('promot', 1),\n",
              " ('familiar', 1),\n",
              " ('ensur', 1),\n",
              " ('met', 1),\n",
              " ('upgrad', 1),\n",
              " ('someth', 1)]"
            ]
          },
          "execution_count": 130,
          "metadata": {},
          "output_type": "execute_result"
        }
      ],
      "source": [
        "stem_freq(passive_df)"
      ]
    },
    {
      "cell_type": "code",
      "execution_count": null,
      "id": "97ac348b-6863-450f-b4c8-52c0b6818f25",
      "metadata": {
        "id": "97ac348b-6863-450f-b4c8-52c0b6818f25",
        "outputId": "f4d9ebc3-6a12-40aa-aee5-e5cc08a4faa0"
      },
      "outputs": [
        {
          "name": "stdout",
          "output_type": "stream",
          "text": [
            "List exported to passive_stem_list.xlsx\n"
          ]
        }
      ],
      "source": [
        "stem_list(passive_df, 'passive_stem_list')"
      ]
    },
    {
      "cell_type": "markdown",
      "id": "eb2f0bf9-1e58-43c1-8633-49b06e65aed5",
      "metadata": {
        "id": "eb2f0bf9-1e58-43c1-8633-49b06e65aed5"
      },
      "source": [
        "#### Customer Service Theme"
      ]
    },
    {
      "cell_type": "markdown",
      "id": "f837944a-aa90-4c55-84b8-1ab60be635b6",
      "metadata": {
        "id": "f837944a-aa90-4c55-84b8-1ab60be635b6"
      },
      "source": [
        "##### Converting to Excel Output"
      ]
    },
    {
      "cell_type": "code",
      "execution_count": null,
      "id": "7d9d0999-94e3-4328-99b5-7cffcda410db",
      "metadata": {
        "id": "7d9d0999-94e3-4328-99b5-7cffcda410db",
        "outputId": "5842b0a7-fbeb-444b-e7e1-d7771fd4ad6f"
      },
      "outputs": [
        {
          "name": "stdout",
          "output_type": "stream",
          "text": [
            "Excel file 'Passive Customer Service Comments.xlsx' created successfully.\n"
          ]
        }
      ],
      "source": [
        "get_excel(get_matching_stem, passive_df, cust_serv2, excel_filename='Passive Customer Service Comments')"
      ]
    },
    {
      "cell_type": "code",
      "execution_count": null,
      "id": "c0962466-3be3-4b1b-ad45-fa70a400cb44",
      "metadata": {
        "id": "c0962466-3be3-4b1b-ad45-fa70a400cb44",
        "outputId": "842749e2-b92f-448a-b05c-ba3097356b50"
      },
      "outputs": [
        {
          "name": "stdout",
          "output_type": "stream",
          "text": [
            "Excel file 'Passive Customer Service Comments 10 Or More Words.xlsx' created successfully.\n"
          ]
        }
      ],
      "source": [
        "get_excel_length(get_matching_stem_length, passive_df, cust_serv2, min_length=10, excel_filename='Passive Customer Service Comments 10 Or More Words')"
      ]
    },
    {
      "cell_type": "markdown",
      "id": "61901b8c-18cb-4d1b-b402-976dd325a33d",
      "metadata": {
        "id": "61901b8c-18cb-4d1b-b402-976dd325a33d"
      },
      "source": [
        "# **Customer Service Passive Percentages HERE**"
      ]
    },
    {
      "cell_type": "markdown",
      "id": "c9b6c267-8b67-45c6-9c03-7270d2ab5899",
      "metadata": {
        "id": "c9b6c267-8b67-45c6-9c03-7270d2ab5899"
      },
      "source": [
        "##### **Customer Service Passive Percentage**"
      ]
    },
    {
      "cell_type": "code",
      "execution_count": null,
      "id": "175c03ef-6142-45df-b373-57038974a22f",
      "metadata": {
        "id": "175c03ef-6142-45df-b373-57038974a22f",
        "outputId": "b3826651-2bce-476e-b127-f49ef0a92608"
      },
      "outputs": [
        {
          "name": "stdout",
          "output_type": "stream",
          "text": [
            "15.263157894736842\n"
          ]
        }
      ],
      "source": [
        "percentage(passive_df, cust_serv2)"
      ]
    },
    {
      "cell_type": "markdown",
      "id": "b8d4cce8-252a-45fb-80b2-e268c2327d6f",
      "metadata": {
        "id": "b8d4cce8-252a-45fb-80b2-e268c2327d6f"
      },
      "source": [
        "Above is the percentage of passive comments that mention Customer Service."
      ]
    },
    {
      "cell_type": "markdown",
      "id": "06a3189a-f1a5-4b9e-a5fa-a0b0b1ebd13e",
      "metadata": {
        "id": "06a3189a-f1a5-4b9e-a5fa-a0b0b1ebd13e"
      },
      "source": [
        "#### Timeliness Theme"
      ]
    },
    {
      "cell_type": "markdown",
      "id": "a8c950b9-20d1-48f0-9a16-d8d65b7c4492",
      "metadata": {
        "id": "a8c950b9-20d1-48f0-9a16-d8d65b7c4492"
      },
      "source": [
        "##### Converting to Excel Output"
      ]
    },
    {
      "cell_type": "code",
      "execution_count": null,
      "id": "90e5a3d2-795b-4a8c-9b94-b230ae44f862",
      "metadata": {
        "id": "90e5a3d2-795b-4a8c-9b94-b230ae44f862",
        "outputId": "dcdad072-6d74-4854-f888-431de3106037"
      },
      "outputs": [
        {
          "name": "stdout",
          "output_type": "stream",
          "text": [
            "Excel file 'Passive Timeliness Comments.xlsx' created successfully.\n"
          ]
        }
      ],
      "source": [
        "get_excel(get_matching_stem, passive_df, time2, excel_filename='Passive Timeliness Comments')"
      ]
    },
    {
      "cell_type": "code",
      "execution_count": null,
      "id": "24395d48-6c4a-482f-be2d-4025db9b6621",
      "metadata": {
        "id": "24395d48-6c4a-482f-be2d-4025db9b6621",
        "outputId": "e5efdc64-b4bf-4137-9e1a-b75234822494"
      },
      "outputs": [
        {
          "name": "stdout",
          "output_type": "stream",
          "text": [
            "Excel file 'Passive Timeliness Comments 10 Or More Words.xlsx' created successfully.\n"
          ]
        }
      ],
      "source": [
        "get_excel_length(get_matching_stem_length, passive_df, time2, min_length=10, excel_filename='Passive Timeliness Comments 10 Or More Words')"
      ]
    },
    {
      "cell_type": "markdown",
      "id": "9a77a87f-460b-4a22-bfe4-f022bffc78b9",
      "metadata": {
        "id": "9a77a87f-460b-4a22-bfe4-f022bffc78b9"
      },
      "source": [
        "# **Timeliness Passive Percentages HERE**"
      ]
    },
    {
      "cell_type": "markdown",
      "id": "24d157f9-47b5-43e8-8411-de33498d0030",
      "metadata": {
        "id": "24d157f9-47b5-43e8-8411-de33498d0030"
      },
      "source": [
        "##### **Timeliness Passive Percentage**"
      ]
    },
    {
      "cell_type": "code",
      "execution_count": null,
      "id": "43907e80-17ac-49b9-b31e-0d07e191dc43",
      "metadata": {
        "id": "43907e80-17ac-49b9-b31e-0d07e191dc43",
        "outputId": "b66e8f6d-3ab4-40be-e1e9-2b8afc50ce04"
      },
      "outputs": [
        {
          "name": "stdout",
          "output_type": "stream",
          "text": [
            "16.842105263157894\n"
          ]
        }
      ],
      "source": [
        "percentage(passive_df, time2)"
      ]
    },
    {
      "cell_type": "markdown",
      "id": "20cdb2da-4bdc-426e-844e-f1095f38cbd9",
      "metadata": {
        "id": "20cdb2da-4bdc-426e-844e-f1095f38cbd9"
      },
      "source": [
        "Above is the percentage of passive comments that mention Timeliness."
      ]
    },
    {
      "cell_type": "markdown",
      "id": "356785c5-c8f5-44c6-85f3-783cea6b60cd",
      "metadata": {
        "id": "356785c5-c8f5-44c6-85f3-783cea6b60cd"
      },
      "source": [
        "#### Communication and Responsiveness Theme"
      ]
    },
    {
      "cell_type": "markdown",
      "id": "7b292d9a-c54d-4db8-b1e0-45411e2c1bd0",
      "metadata": {
        "id": "7b292d9a-c54d-4db8-b1e0-45411e2c1bd0"
      },
      "source": [
        "##### Converting to Excel Output"
      ]
    },
    {
      "cell_type": "code",
      "execution_count": null,
      "id": "d5f70c8a-2425-46fc-a0ca-9ea177b4c555",
      "metadata": {
        "id": "d5f70c8a-2425-46fc-a0ca-9ea177b4c555",
        "outputId": "30b16bb1-d631-47ca-b233-0ae6671e590e"
      },
      "outputs": [
        {
          "name": "stdout",
          "output_type": "stream",
          "text": [
            "Excel file 'Passive Communication Responsiveness Comments.xlsx' created successfully.\n"
          ]
        }
      ],
      "source": [
        "get_excel(get_matching_stem, passive_df, comm_resp2, excel_filename='Passive Communication Responsiveness Comments')"
      ]
    },
    {
      "cell_type": "code",
      "execution_count": null,
      "id": "d2d4d56a-f164-41c4-b6da-b7ddbda8251c",
      "metadata": {
        "id": "d2d4d56a-f164-41c4-b6da-b7ddbda8251c",
        "outputId": "9ca51f56-f566-4940-a540-3fefebd47bed"
      },
      "outputs": [
        {
          "name": "stdout",
          "output_type": "stream",
          "text": [
            "Excel file 'Passive Communication Responsiveness Comments 10 Or More Words.xlsx' created successfully.\n"
          ]
        }
      ],
      "source": [
        "get_excel_length(get_matching_stem_length, passive_df, comm_resp2, min_length=10, excel_filename='Passive Communication Responsiveness Comments 10 Or More Words')"
      ]
    },
    {
      "cell_type": "markdown",
      "id": "d1d58094-e2cf-4d31-9d58-73c8262a10c9",
      "metadata": {
        "id": "d1d58094-e2cf-4d31-9d58-73c8262a10c9"
      },
      "source": [
        "# **Communication and Responsiveness Passive Percentages HERE**"
      ]
    },
    {
      "cell_type": "markdown",
      "id": "71e183b0-b2b2-49f1-86d1-1e16b02b2f2f",
      "metadata": {
        "id": "71e183b0-b2b2-49f1-86d1-1e16b02b2f2f"
      },
      "source": [
        "##### **Communication and Responsivness Passive Percentage**"
      ]
    },
    {
      "cell_type": "code",
      "execution_count": null,
      "id": "ba02ec04-8c84-4fe5-bd64-6c53f52681b8",
      "metadata": {
        "id": "ba02ec04-8c84-4fe5-bd64-6c53f52681b8",
        "outputId": "577c6208-dd41-4529-e692-d8b2d5543f2a"
      },
      "outputs": [
        {
          "name": "stdout",
          "output_type": "stream",
          "text": [
            "23.684210526315788\n"
          ]
        }
      ],
      "source": [
        "percentage(passive_df, comm_resp2)"
      ]
    },
    {
      "cell_type": "markdown",
      "id": "03105f39-6d62-4abb-a0a4-9616302aee4b",
      "metadata": {
        "id": "03105f39-6d62-4abb-a0a4-9616302aee4b"
      },
      "source": [
        "Above is the percentage of passive comments that mention Communication and Responsiveness"
      ]
    },
    {
      "cell_type": "markdown",
      "id": "fdd3cd28-8e4f-4324-8fdc-16330b80f439",
      "metadata": {
        "id": "fdd3cd28-8e4f-4324-8fdc-16330b80f439"
      },
      "source": [
        "#### Equipment Theme"
      ]
    },
    {
      "cell_type": "markdown",
      "id": "e89bca36-0039-48c9-a5c8-e6e231f1c992",
      "metadata": {
        "id": "e89bca36-0039-48c9-a5c8-e6e231f1c992"
      },
      "source": [
        "##### Converting to Excel Output"
      ]
    },
    {
      "cell_type": "code",
      "execution_count": null,
      "id": "9cbc16c5-d613-4507-8945-622cca125966",
      "metadata": {
        "id": "9cbc16c5-d613-4507-8945-622cca125966",
        "outputId": "c8748b9f-7e23-48af-81c3-7b7726798249"
      },
      "outputs": [
        {
          "name": "stdout",
          "output_type": "stream",
          "text": [
            "Excel file 'Passive Hardware Comments.xlsx' created successfully.\n"
          ]
        }
      ],
      "source": [
        "get_excel(get_matching_stem, passive_df, equip_hard, excel_filename='Passive Hardware Comments')"
      ]
    },
    {
      "cell_type": "code",
      "execution_count": null,
      "id": "50ed59e3-6e61-468a-9c94-683d1160d2db",
      "metadata": {
        "id": "50ed59e3-6e61-468a-9c94-683d1160d2db",
        "outputId": "357043a5-d2ea-4a94-fe49-a88eb936bcdb"
      },
      "outputs": [
        {
          "name": "stdout",
          "output_type": "stream",
          "text": [
            "Excel file 'Passive Hardware Comments 10 Or More Words.xlsx' created successfully.\n"
          ]
        }
      ],
      "source": [
        "get_excel_length(get_matching_stem_length, passive_df, equip_hard, min_length=10, excel_filename='Passive Hardware Comments 10 Or More Words')"
      ]
    },
    {
      "cell_type": "code",
      "execution_count": null,
      "id": "d00ebe7e-8be9-48cc-a59d-231546088b02",
      "metadata": {
        "id": "d00ebe7e-8be9-48cc-a59d-231546088b02",
        "outputId": "77ccad42-f5c9-4ed4-984d-2d8f0b7c568b"
      },
      "outputs": [
        {
          "name": "stdout",
          "output_type": "stream",
          "text": [
            "Excel file 'Passive Software Comments.xlsx' created successfully.\n"
          ]
        }
      ],
      "source": [
        "get_excel(get_matching_stem, passive_df, equip_soft, excel_filename='Passive Software Comments')"
      ]
    },
    {
      "cell_type": "code",
      "execution_count": null,
      "id": "d7f8c0be-db09-41dd-a444-c2db2998cf63",
      "metadata": {
        "id": "d7f8c0be-db09-41dd-a444-c2db2998cf63",
        "outputId": "50a7c4bb-2bc0-4cf8-8304-d5d1689fb7b3"
      },
      "outputs": [
        {
          "name": "stdout",
          "output_type": "stream",
          "text": [
            "Excel file 'Passive Software Comments 10 Or More Words.xlsx' created successfully.\n"
          ]
        }
      ],
      "source": [
        "get_excel_length(get_matching_stem_length, passive_df, equip_soft, min_length=10, excel_filename='Passive Software Comments 10 Or More Words')"
      ]
    },
    {
      "cell_type": "code",
      "execution_count": null,
      "id": "7b97a7a9-1d24-4608-b8ca-c7b89f8b39b7",
      "metadata": {
        "id": "7b97a7a9-1d24-4608-b8ca-c7b89f8b39b7",
        "outputId": "3ba8cd69-ca78-45a7-bae2-0a2c33b7446c"
      },
      "outputs": [
        {
          "name": "stdout",
          "output_type": "stream",
          "text": [
            "Excel file 'Passive Customer Service Comments.xlsx' created successfully.\n"
          ]
        }
      ],
      "source": [
        "get_excel(get_matching_stem, passive_df, cust_serv2, excel_filename='Passive Customer Service Comments')"
      ]
    },
    {
      "cell_type": "code",
      "execution_count": null,
      "id": "c958d9d0-3812-4bec-86e2-6894ed73e6d4",
      "metadata": {
        "id": "c958d9d0-3812-4bec-86e2-6894ed73e6d4",
        "outputId": "82f5325e-5a93-412b-9af6-7accb70e5cf4"
      },
      "outputs": [
        {
          "name": "stdout",
          "output_type": "stream",
          "text": [
            "Excel file 'Passive Customer Service Comments 10 Or More Words.xlsx' created successfully.\n"
          ]
        }
      ],
      "source": [
        "get_excel_length(get_matching_stem_length, passive_df, cust_serv2, min_length=10, excel_filename='Passive Customer Service Comments 10 Or More Words')"
      ]
    },
    {
      "cell_type": "markdown",
      "id": "9a93ad61-40f0-4324-9096-8f4c004b8efd",
      "metadata": {
        "id": "9a93ad61-40f0-4324-9096-8f4c004b8efd"
      },
      "source": [
        "##### **Equipment Passive Percentage**"
      ]
    },
    {
      "cell_type": "code",
      "execution_count": null,
      "id": "7373be76-7f00-4a6e-b4a6-e2e8d1d2e888",
      "metadata": {
        "id": "7373be76-7f00-4a6e-b4a6-e2e8d1d2e888",
        "outputId": "68b27984-3018-46ea-c01d-8aca07e75b2f"
      },
      "outputs": [
        {
          "name": "stdout",
          "output_type": "stream",
          "text": [
            "17.894736842105264\n"
          ]
        }
      ],
      "source": [
        "percentage(passive_df, equip)"
      ]
    },
    {
      "cell_type": "markdown",
      "id": "9302113d-dab9-4ea0-b489-bce5520101d8",
      "metadata": {
        "id": "9302113d-dab9-4ea0-b489-bce5520101d8"
      },
      "source": [
        "Above is the percentage of detractor comments that mention Equipment"
      ]
    },
    {
      "cell_type": "markdown",
      "id": "a24fb364-61f6-4f41-a160-4812049258bf",
      "metadata": {
        "id": "a24fb364-61f6-4f41-a160-4812049258bf"
      },
      "source": [
        "#### Overlap with Passive Communication/Responsiveness and Timeliness Themes"
      ]
    },
    {
      "cell_type": "code",
      "execution_count": null,
      "id": "0a57bd31-a2b9-4b0c-9c5c-77ecb83b931f",
      "metadata": {
        "id": "0a57bd31-a2b9-4b0c-9c5c-77ecb83b931f",
        "outputId": "6b75b5f0-785d-4d9c-d977-a955a05578c6"
      },
      "outputs": [
        {
          "name": "stdout",
          "output_type": "stream",
          "text": [
            "30.526315789473685\n"
          ]
        }
      ],
      "source": [
        "#Run function to pull percentage of respondents\n",
        "time_comm_percent3 = (len(get_matching_stem(passive_df, time_comm_resp2)) / len(passive_df)) * 100\n",
        "\n",
        "#print percentage\n",
        "print(time_comm_percent3)"
      ]
    },
    {
      "cell_type": "markdown",
      "id": "80d92319-cc2e-4d28-b7f1-f3138d8b4e06",
      "metadata": {
        "id": "80d92319-cc2e-4d28-b7f1-f3138d8b4e06"
      },
      "source": [
        "This is the percentage of respondents who discuss any and all of the stemmed words from both the Timeliness and Communication and Responsiveness themes."
      ]
    },
    {
      "cell_type": "markdown",
      "id": "e8ed6be2-bf8b-4859-9bb2-97ac44517190",
      "metadata": {
        "id": "e8ed6be2-bf8b-4859-9bb2-97ac44517190"
      },
      "source": [
        "Again, we will divide this out to see more precisely the percentages."
      ]
    },
    {
      "cell_type": "code",
      "execution_count": null,
      "id": "5d928874-b1d8-41bb-a89d-6f7296076caf",
      "metadata": {
        "id": "5d928874-b1d8-41bb-a89d-6f7296076caf",
        "outputId": "53e6ae67-e77c-4cc4-ac42-2be762283d80"
      },
      "outputs": [
        {
          "name": "stdout",
          "output_type": "stream",
          "text": [
            "14.736842105263156\n"
          ]
        }
      ],
      "source": [
        "#assign variable to length of promoter respondents mentioning Responsiveness/Communication only (not Timeliness) divided by total respondents\n",
        "communication3 = (len(get_matching_stem_exclude(passive_df, comm_resp2, time2)) / len(passive_df)) * 100\n",
        "print(communication3)"
      ]
    },
    {
      "cell_type": "markdown",
      "id": "cf4bdb87-2a40-4635-af32-05b4b883d6c1",
      "metadata": {
        "id": "cf4bdb87-2a40-4635-af32-05b4b883d6c1"
      },
      "source": [
        "This is the percentage of passive respondents who reference Communication and Responsiveness without referencing Timeliness"
      ]
    },
    {
      "cell_type": "code",
      "execution_count": null,
      "id": "fec7b919-1d1f-4636-b7cb-b6482131b2a4",
      "metadata": {
        "id": "fec7b919-1d1f-4636-b7cb-b6482131b2a4",
        "outputId": "edbd76f3-9b00-44c1-c325-5ad92cf5690d"
      },
      "outputs": [
        {
          "name": "stdout",
          "output_type": "stream",
          "text": [
            "5.263157894736842\n"
          ]
        }
      ],
      "source": [
        "#assign variable to length of promoter respondents mentioning Timeliness only (not Responsiveness/Communication) divided by total respondents\n",
        "timeliness3 = (len(get_matching_stem_exclude(passive_df, time2, comm_resp2)) / len(passive_df)) * 100\n",
        "print(timeliness3)"
      ]
    },
    {
      "cell_type": "markdown",
      "id": "413d11c3-0870-4dd7-9044-ac23ee259a76",
      "metadata": {
        "id": "413d11c3-0870-4dd7-9044-ac23ee259a76"
      },
      "source": [
        "This is the perecentage of detractor respondents who reference Timeliness without Communication/Responsiveness"
      ]
    },
    {
      "cell_type": "code",
      "execution_count": null,
      "id": "4adefacd-45db-4004-a1ab-83113f905aa5",
      "metadata": {
        "id": "4adefacd-45db-4004-a1ab-83113f905aa5",
        "outputId": "868c930a-711c-48d9-f2f8-4a4255ab04f3"
      },
      "outputs": [
        {
          "data": {
            "text/plain": [
              "10.526315789473689"
            ]
          },
          "execution_count": 151,
          "metadata": {},
          "output_type": "execute_result"
        }
      ],
      "source": [
        "#subtract sum of communication and timeliness percentages from combined percentage\n",
        "time_comm_percent3 - (communication3 + timeliness3)"
      ]
    },
    {
      "cell_type": "markdown",
      "id": "42d33fa5-36df-4b5e-ac82-d1212b4f51bb",
      "metadata": {
        "id": "42d33fa5-36df-4b5e-ac82-d1212b4f51bb"
      },
      "source": [
        "This is the percentage of passive respondents who reference both Timeliness and Communication/Responsiveness."
      ]
    },
    {
      "cell_type": "markdown",
      "id": "5fe19a92-275b-492b-9b36-fc86c61bd2da",
      "metadata": {
        "id": "5fe19a92-275b-492b-9b36-fc86c61bd2da"
      },
      "source": [
        "### **ESD Comment Analysis**"
      ]
    },
    {
      "cell_type": "markdown",
      "id": "63ab4733-e85b-45d4-817c-af6201682245",
      "metadata": {
        "id": "63ab4733-e85b-45d4-817c-af6201682245"
      },
      "source": [
        "#### **Positive Comment Analysis**"
      ]
    },
    {
      "cell_type": "code",
      "execution_count": null,
      "id": "a88b676a-65ba-4800-8c8d-fcf1668630f3",
      "metadata": {
        "scrolled": true,
        "id": "a88b676a-65ba-4800-8c8d-fcf1668630f3",
        "outputId": "d39d381c-57f2-4aa4-a644-f979a268e6a8"
      },
      "outputs": [
        {
          "name": "stdout",
          "output_type": "stream",
          "text": [
            "<class 'pandas.core.frame.DataFrame'>\n",
            "Index: 103 entries, 51 to 1545\n",
            "Data columns (total 6 columns):\n",
            " #   Column              Non-Null Count  Dtype  \n",
            "---  ------              --------------  -----  \n",
            " 0   ESD Rating          103 non-null    float64\n",
            " 1   NPS                 103 non-null    float64\n",
            " 2   Location            103 non-null    object \n",
            " 3   ESD Compliment      103 non-null    object \n",
            " 4   comments_tokenized  103 non-null    object \n",
            " 5   comments_stemmed    103 non-null    object \n",
            "dtypes: float64(2), object(4)\n",
            "memory usage: 5.6+ KB\n"
          ]
        }
      ],
      "source": [
        "esd_promoter_df.info()"
      ]
    },
    {
      "cell_type": "code",
      "execution_count": null,
      "id": "ff110d4a-4936-4c6f-b23c-e692382d6ae9",
      "metadata": {
        "id": "ff110d4a-4936-4c6f-b23c-e692382d6ae9",
        "outputId": "272011f0-295b-4800-8a21-1ec5a939cfe6"
      },
      "outputs": [
        {
          "data": {
            "text/plain": [
              "['plot_top_30(df)',\n",
              " 'stem_freq(df)',\n",
              " 'stem_list(df, title)',\n",
              " 'get_matching_stem(df, list of stems)',\n",
              " 'percentage(df, list of stems)',\n",
              " 'get_matching_stem_exclude(df, list of stems to include, list of stems to exclude)',\n",
              " 'get_df_list(df_list)']"
            ]
          },
          "execution_count": 153,
          "metadata": {},
          "output_type": "execute_result"
        }
      ],
      "source": [
        "function_list"
      ]
    },
    {
      "cell_type": "code",
      "execution_count": null,
      "id": "b0174b76-ef56-4ae9-87be-f89623832c6e",
      "metadata": {
        "scrolled": true,
        "id": "b0174b76-ef56-4ae9-87be-f89623832c6e",
        "outputId": "a18e5583-8309-42db-a461-fa630f39af82"
      },
      "outputs": [
        {
          "data": {
            "image/png": "[encoded data removed]",
            "text/plain": [
              "<Figure size 1000x600 with 1 Axes>"
            ]
          },
          "metadata": {},
          "output_type": "display_data"
        }
      ],
      "source": [
        "plot_top_30(esd_promoter_df)"
      ]
    },
    {
      "cell_type": "code",
      "execution_count": null,
      "id": "8d4f2a55-427d-40c3-8997-d62002bbfc79",
      "metadata": {
        "scrolled": true,
        "id": "8d4f2a55-427d-40c3-8997-d62002bbfc79",
        "outputId": "9e382e76-38ab-434b-f7bb-83d92c9fbb54"
      },
      "outputs": [
        {
          "data": {
            "text/plain": [
              "[('help', 42),\n",
              " ('alway', 23),\n",
              " ('issu', 19),\n",
              " ('great', 18),\n",
              " ('servic', 16),\n",
              " ('profession', 14),\n",
              " ('thank', 12),\n",
              " ('work', 12),\n",
              " ('desk', 11),\n",
              " ('friendli', 11),\n",
              " ('staff', 11),\n",
              " ('helpdesk', 11),\n",
              " ('time', 10),\n",
              " ('job', 10),\n",
              " ('excel', 9),\n",
              " ('solv', 8),\n",
              " ('knowledg', 8),\n",
              " ('need', 8),\n",
              " ('call', 8),\n",
              " ('good', 7),\n",
              " ('custom', 7),\n",
              " ('pleasant', 6),\n",
              " ('everi', 6),\n",
              " ('problem', 6),\n",
              " ('fix', 5),\n",
              " ('appreci', 5),\n",
              " ('resolv', 5),\n",
              " ('polit', 5),\n",
              " ('effici', 5),\n",
              " ('respons', 5),\n",
              " ('person', 5),\n",
              " ('team', 5),\n",
              " ('nice', 4),\n",
              " ('patienc', 4),\n",
              " ('guy', 4),\n",
              " ('patient', 4),\n",
              " ('know', 4),\n",
              " ('enterpris', 4),\n",
              " ('quick', 4),\n",
              " ('ticket', 4),\n",
              " ('make', 4),\n",
              " ('address', 4),\n",
              " ('process', 4),\n",
              " ('peopl', 3),\n",
              " ('respect', 3),\n",
              " ('amaz', 3),\n",
              " ('fast', 3),\n",
              " ('much', 3),\n",
              " ('talk', 3),\n",
              " ('follow', 3),\n",
              " ('request', 3),\n",
              " ('last', 3),\n",
              " ('will', 3),\n",
              " ('question', 3),\n",
              " ('contact', 3),\n",
              " ('local', 3),\n",
              " ('like', 3),\n",
              " ('comput', 3),\n",
              " ('get', 3),\n",
              " ('understand', 3),\n",
              " ('abl', 3),\n",
              " ('keep', 3),\n",
              " ('easi', 3),\n",
              " ('respond', 2),\n",
              " ('back', 2),\n",
              " ('quickli', 2),\n",
              " ('prompt', 2),\n",
              " ('name', 2),\n",
              " ('step', 2),\n",
              " ('take', 2),\n",
              " ('care', 2),\n",
              " ('got', 2),\n",
              " ('realli', 2),\n",
              " ('us', 2),\n",
              " ('well', 2),\n",
              " ('avail', 2),\n",
              " ('everyon', 2),\n",
              " ('outstand', 2),\n",
              " ('ensur', 2),\n",
              " ('concern', 2),\n",
              " ('spoken', 2),\n",
              " ('year', 2),\n",
              " ('courteou', 2),\n",
              " ('kind', 2),\n",
              " ('code', 2),\n",
              " ('phone', 2),\n",
              " ('employe', 2),\n",
              " ('explain', 2),\n",
              " ('done', 2),\n",
              " ('go', 2),\n",
              " ('posit', 2),\n",
              " ('experi', 2),\n",
              " ('hard', 2),\n",
              " ('feel', 2),\n",
              " ('reach', 2),\n",
              " ('figur', 2),\n",
              " ('ask', 2),\n",
              " ('someon', 2),\n",
              " ('say', 2),\n",
              " ('term', 2),\n",
              " ('non', 2),\n",
              " ('tech', 2),\n",
              " ('would', 2),\n",
              " ('use', 2),\n",
              " ('part', 2),\n",
              " ('speak', 2),\n",
              " ('best', 2),\n",
              " ('member', 2),\n",
              " ('wait', 2),\n",
              " ('whatev', 2),\n",
              " ('think', 2),\n",
              " ('continu', 2),\n",
              " ('interact', 2),\n",
              " ('depart', 2),\n",
              " ('right', 2),\n",
              " ('also', 2),\n",
              " ('user', 2),\n",
              " ('support', 2),\n",
              " ('extra', 2),\n",
              " ('tell', 2),\n",
              " ('forgot', 1),\n",
              " ('treat', 1),\n",
              " ('anthoni', 1),\n",
              " ('becton', 1),\n",
              " ('william', 1),\n",
              " ('owen', 1),\n",
              " ('jame', 1),\n",
              " ('brown', 1),\n",
              " ('andi', 1),\n",
              " ('fritsch', 1),\n",
              " ('john', 1),\n",
              " ('garriti', 1),\n",
              " ('bee', 1),\n",
              " ('absolut', 1),\n",
              " ('actual', 1),\n",
              " ('printer', 1),\n",
              " ('wouldnt', 1),\n",
              " ('morn', 1),\n",
              " ('super', 1),\n",
              " ('chat', 1),\n",
              " ('usual', 1),\n",
              " ('satisfact', 1),\n",
              " ('mess', 1),\n",
              " ('exempt', 1),\n",
              " ('old', 1),\n",
              " ('hat', 1),\n",
              " ('word', 1),\n",
              " ('day', 1),\n",
              " ('situat', 1),\n",
              " ('see', 1),\n",
              " ('comment', 1),\n",
              " ('could', 1),\n",
              " ('futur', 1),\n",
              " ('love', 1),\n",
              " ('beyond', 1),\n",
              " ('cara', 1),\n",
              " ('occur', 1),\n",
              " ('month', 1),\n",
              " ('abt', 1),\n",
              " ('glad', 1),\n",
              " ('forgotten', 1),\n",
              " ('piv', 1),\n",
              " ('card', 1),\n",
              " ('softwar', 1),\n",
              " ('rout', 1),\n",
              " ('lost', 1),\n",
              " ('shuffl', 1),\n",
              " ('sent', 1),\n",
              " ('two', 1),\n",
              " ('one', 1),\n",
              " ('mr', 1),\n",
              " ('bolden', 1),\n",
              " ('saw', 1),\n",
              " ('pend', 1),\n",
              " ('long', 1),\n",
              " ('tool', 1),\n",
              " ('too', 1),\n",
              " ('busi', 1),\n",
              " ('submit', 1),\n",
              " ('troubl', 1),\n",
              " ('sens', 1),\n",
              " ('mayb', 1),\n",
              " ('add', 1),\n",
              " ('drop', 1),\n",
              " ('menu', 1),\n",
              " ('open', 1),\n",
              " ('program', 1),\n",
              " ('vbm', 1),\n",
              " ('error', 1),\n",
              " ('troubleshoot', 1),\n",
              " ('oit', 1),\n",
              " ('guid', 1),\n",
              " ('product', 1),\n",
              " ('oper', 1),\n",
              " ('wilson', 1),\n",
              " ('demeka', 1),\n",
              " ('etc', 1),\n",
              " ('fairli', 1),\n",
              " ('promptli', 1),\n",
              " ('certainli', 1),\n",
              " ('involv', 1),\n",
              " ('effort', 1),\n",
              " ('correct', 1),\n",
              " ('move', 1),\n",
              " ('onto', 1),\n",
              " ('next', 1),\n",
              " ('thing', 1),\n",
              " ('chang', 1),\n",
              " ('retriev', 1),\n",
              " ('va', 1),\n",
              " ('meet', 1),\n",
              " ('record', 1),\n",
              " ('hardli', 1),\n",
              " ('line', 1),\n",
              " ('platform', 1),\n",
              " ('enough', 1),\n",
              " ('timeli', 1),\n",
              " ('extent', 1),\n",
              " ('someth', 1),\n",
              " ('previous', 1),\n",
              " ('state', 1),\n",
              " ('engag', 1),\n",
              " ('15', 1),\n",
              " ('24', 1),\n",
              " ('case', 1),\n",
              " ('intuit', 1),\n",
              " ('handl', 1),\n",
              " ('rare', 1),\n",
              " ('2nd', 1),\n",
              " ('maintain', 1),\n",
              " ('front', 1),\n",
              " ('technician', 1),\n",
              " ('seem', 1),\n",
              " ('even', 1),\n",
              " ('complet', 1),\n",
              " ('success', 1),\n",
              " ('path', 1),\n",
              " ('occas', 1),\n",
              " ('individu', 1),\n",
              " ('answer', 1),\n",
              " ('99', 1),\n",
              " ('littl', 1),\n",
              " ('hot', 1),\n",
              " ('spring', 1),\n",
              " ('everytim', 1),\n",
              " ('away', 1),\n",
              " ('personnel', 1),\n",
              " ('matter', 1),\n",
              " ('kudo', 1),\n",
              " ('attitud', 1),\n",
              " ('skill', 1),\n",
              " ('realiz', 1),\n",
              " ('survey', 1),\n",
              " ('mani', 1),\n",
              " ('box', 1),\n",
              " ('feedback', 1),\n",
              " ('hour', 1),\n",
              " ('account', 1),\n",
              " ('allow', 1),\n",
              " ('hospit', 1),\n",
              " ('minim', 1),\n",
              " ('interrupt', 1),\n",
              " ('provid', 1),\n",
              " ('thu', 1),\n",
              " ('far', 1),\n",
              " ('extrem', 1),\n",
              " ('folk', 1),\n",
              " ('find', 1),\n",
              " ('way', 1),\n",
              " ('level', 1),\n",
              " ('took', 1),\n",
              " ('immedi', 1),\n",
              " ('instead', 1),\n",
              " ('prefer', 1),\n",
              " ('cant', 1),\n",
              " ('helpdest', 1),\n",
              " ('helpful', 1),\n",
              " ('joseph', 1),\n",
              " ('zurbano', 1),\n",
              " ('dummi', 1),\n",
              " ('reassuringli', 1),\n",
              " ('calm', 1),\n",
              " ('relat', 1),\n",
              " ('stress', 1),\n",
              " ('tri', 1),\n",
              " ('mile', 1),\n",
              " ('struggl', 1),\n",
              " ('lingo', 1),\n",
              " ('email', 1),\n",
              " ('necessari', 1),\n",
              " ('problen', 1),\n",
              " ('run', 1),\n",
              " ('david', 1),\n",
              " ('birch', 1),\n",
              " ('mike', 1),\n",
              " ('mcgillivray', 1),\n",
              " ('allan', 1),\n",
              " ('eggleston', 1),\n",
              " ('sabrina', 1),\n",
              " ('sorri', 1),\n",
              " ('orient', 1),\n",
              " ('uncov', 1),\n",
              " ('might', 1),\n",
              " ('handoff', 1),\n",
              " ('proactiv', 1),\n",
              " ('overal', 1),\n",
              " ('seen', 1),\n",
              " ('major', 1),\n",
              " ('improv', 1),\n",
              " ('throughout', 1),\n",
              " ('glenn', 1),\n",
              " ('legano', 1),\n",
              " ('result', 1),\n",
              " ('robert', 1),\n",
              " ('thoma', 1),\n",
              " ('fun', 1),\n",
              " ('asset', 1),\n",
              " ('greg', 1),\n",
              " ('ward', 1),\n",
              " ('lucki', 1)]"
            ]
          },
          "execution_count": 155,
          "metadata": {},
          "output_type": "execute_result"
        }
      ],
      "source": [
        "stem_freq(esd_promoter_df)"
      ]
    },
    {
      "cell_type": "markdown",
      "id": "7e2db755-2f5b-47f8-a253-996db8ec613c",
      "metadata": {
        "id": "7e2db755-2f5b-47f8-a253-996db8ec613c"
      },
      "source": [
        "On quick glance, I see significant overlap between the top stems here and the top stems in the themes created above.  Let's try to see how these already created themes will apply here."
      ]
    },
    {
      "cell_type": "code",
      "execution_count": null,
      "id": "8c8feab7-f5a9-48d7-b4c0-73aec37d3bbc",
      "metadata": {
        "id": "8c8feab7-f5a9-48d7-b4c0-73aec37d3bbc",
        "outputId": "59a3c477-e1c7-4081-9b3b-3f362e294b32"
      },
      "outputs": [
        {
          "name": "stdout",
          "output_type": "stream",
          "text": [
            "List exported to esd promoter stems.xlsx\n"
          ]
        }
      ],
      "source": [
        "stem_list(esd_promoter_df, 'ESD Promoter Stems')"
      ]
    },
    {
      "cell_type": "code",
      "execution_count": null,
      "id": "bd24c58e-601e-4369-be29-dec0a45917cf",
      "metadata": {
        "scrolled": true,
        "id": "bd24c58e-601e-4369-be29-dec0a45917cf",
        "outputId": "a6da74de-5c1f-4f09-cfd5-fc5b4f5e2cd8"
      },
      "outputs": [
        {
          "data": {
            "text/html": [
              "<div>\n",
              "<style scoped>\n",
              "    .dataframe tbody tr th:only-of-type {\n",
              "        vertical-align: middle;\n",
              "    }\n",
              "\n",
              "    .dataframe tbody tr th {\n",
              "        vertical-align: top;\n",
              "    }\n",
              "\n",
              "    .dataframe thead th {\n",
              "        text-align: right;\n",
              "    }\n",
              "</style>\n",
              "<table border=\"1\" class=\"dataframe\">\n",
              "  <thead>\n",
              "    <tr style=\"text-align: right;\">\n",
              "      <th></th>\n",
              "      <th>Location</th>\n",
              "      <th>ESD Compliment</th>\n",
              "    </tr>\n",
              "  </thead>\n",
              "  <tbody>\n",
              "    <tr>\n",
              "      <th>51</th>\n",
              "      <td>NE - Omaha VA Medical Center (636)</td>\n",
              "      <td>you have always responded back quickly and timely.  thank you.</td>\n",
              "    </tr>\n",
              "    <tr>\n",
              "      <th>60</th>\n",
              "      <td></td>\n",
              "      <td>prompt service</td>\n",
              "    </tr>\n",
              "    <tr>\n",
              "      <th>83</th>\n",
              "      <td></td>\n",
              "      <td>i forgot the names of few people that help me, they are so nice and step by step they help me, they have the patience to help me to solve my issues on  that time.</td>\n",
              "    </tr>\n",
              "    <tr>\n",
              "      <th>165</th>\n",
              "      <td>MD - Baltimore VA Medical Center (512)</td>\n",
              "      <td>the it professional is always very helpful and pleasant. there is usually a follow up for ensuring that my concerns./requests are resolved to my satisfaction.</td>\n",
              "    </tr>\n",
              "    <tr>\n",
              "      <th>446</th>\n",
              "      <td>DC - Washington VA Medical Center (688)</td>\n",
              "      <td>very responsive and efficient</td>\n",
              "    </tr>\n",
              "    <tr>\n",
              "      <th>465</th>\n",
              "      <td>MA - Boston, Jamaica Plain VA Medical Center (523)</td>\n",
              "      <td>the helpdesk is quick to respond and always solves any issue i have from forgotten piv card to software not working and needing routing to local it.</td>\n",
              "    </tr>\n",
              "    <tr>\n",
              "      <th>493</th>\n",
              "      <td>SC - Columbia Regional Benefit Office</td>\n",
              "      <td>i feel like my ticket got lost in the shuffle, i sent two follow on requests and no one reached out until mr. bolden saw it had been pending so long.</td>\n",
              "    </tr>\n",
              "    <tr>\n",
              "      <th>516</th>\n",
              "      <td>TN - Nashville Regional Benefit Office</td>\n",
              "      <td>the tool is just too busy and it is hard to figure out how to just submit a trouble ticket. then the questions that you ask don't make sense to someone who is not a computer person.  maybe add a drop down menu that says terms that a non-computer tech would use like: \"i can't open the program.\" \"i'm getting a vbms error\", \"i don't know how to troubleshoot this.\" ....</td>\n",
              "    </tr>\n",
              "    <tr>\n",
              "      <th>594</th>\n",
              "      <td>NC - Salisbury, W.G. (Bill) Hefner VA Medical Center (659)</td>\n",
              "      <td>for the most part it addresses issues, problems etc. fairly promptly</td>\n",
              "    </tr>\n",
              "    <tr>\n",
              "      <th>648</th>\n",
              "      <td>OTHER (please specify) Remote</td>\n",
              "      <td>thank you for changing processes to retrieve va member's team meeting recordings.</td>\n",
              "    </tr>\n",
              "    <tr>\n",
              "      <th>796</th>\n",
              "      <td>FL - Gainesville, Malcom Randall VA Medical Center (573)</td>\n",
              "      <td>appreciate the ticketing process.  i think it maintains the work process in front of someone.  the technicians seem to keep themselves available even after completion of the ticket.  continue on the successful path of this process.</td>\n",
              "    </tr>\n",
              "    <tr>\n",
              "      <th>951</th>\n",
              "      <td>SC - Columbia Regional Benefit Office</td>\n",
              "      <td>responsive</td>\n",
              "    </tr>\n",
              "    <tr>\n",
              "      <th>1245</th>\n",
              "      <td>WV - Beckley VA Medical Center (517)</td>\n",
              "      <td>staff at the enterprise service desk are very patient and willing to go the extra mile to work with me when i have to call.  if i struggle with the terms/lingo.  they always figure out my need and then follow-up with emails when necessary.</td>\n",
              "    </tr>\n",
              "    <tr>\n",
              "      <th>1329</th>\n",
              "      <td>AZ - Tucson VA Medical Center (678)</td>\n",
              "      <td>responsive.</td>\n",
              "    </tr>\n",
              "    <tr>\n",
              "      <th>1377</th>\n",
              "      <td>MT - Fort Harrison VA Medical Center (436)</td>\n",
              "      <td>the it help desk is always responsive and great to work with</td>\n",
              "    </tr>\n",
              "    <tr>\n",
              "      <th>1414</th>\n",
              "      <td>Office of Procurement, Acquisition and Logistics (OPAL)</td>\n",
              "      <td>the it helpdesk team is always prompt and very service oriented - i can tell they care about resolving my issues and ensuring there are no uncovered issues i might not know to address.</td>\n",
              "    </tr>\n",
              "    <tr>\n",
              "      <th>1545</th>\n",
              "      <td>NV - Reno, Ioannis A. Lougaris VA Medical Center (654)</td>\n",
              "      <td>quick, easy, and friendly response.</td>\n",
              "    </tr>\n",
              "  </tbody>\n",
              "</table>\n",
              "</div>"
            ],
            "text/plain": [
              "                                                        Location  \\\n",
              "51                            NE - Omaha VA Medical Center (636)   \n",
              "60                                                                 \n",
              "83                                                                 \n",
              "165                       MD - Baltimore VA Medical Center (512)   \n",
              "446                      DC - Washington VA Medical Center (688)   \n",
              "465           MA - Boston, Jamaica Plain VA Medical Center (523)   \n",
              "493                        SC - Columbia Regional Benefit Office   \n",
              "516                       TN - Nashville Regional Benefit Office   \n",
              "594   NC - Salisbury, W.G. (Bill) Hefner VA Medical Center (659)   \n",
              "648                                OTHER (please specify) Remote   \n",
              "796     FL - Gainesville, Malcom Randall VA Medical Center (573)   \n",
              "951                        SC - Columbia Regional Benefit Office   \n",
              "1245                        WV - Beckley VA Medical Center (517)   \n",
              "1329                         AZ - Tucson VA Medical Center (678)   \n",
              "1377                  MT - Fort Harrison VA Medical Center (436)   \n",
              "1414     Office of Procurement, Acquisition and Logistics (OPAL)   \n",
              "1545      NV - Reno, Ioannis A. Lougaris VA Medical Center (654)   \n",
              "\n",
              "                                                                                                                                                                                                                                                                                                                                                                        ESD Compliment  \n",
              "51                                                                                                                                                                                                                                                                                                                      you have always responded back quickly and timely.  thank you.  \n",
              "60                                                                                                                                                                                                                                                                                                                                                                      prompt service  \n",
              "83                                                                                                                                                                                                                  i forgot the names of few people that help me, they are so nice and step by step they help me, they have the patience to help me to solve my issues on  that time.  \n",
              "165                                                                                                                                                                                                                     the it professional is always very helpful and pleasant. there is usually a follow up for ensuring that my concerns./requests are resolved to my satisfaction.  \n",
              "446                                                                                                                                                                                                                                                                                                                                                      very responsive and efficient  \n",
              "465                                                                                                                                                                                                                             the helpdesk is quick to respond and always solves any issue i have from forgotten piv card to software not working and needing routing to local it.    \n",
              "493                                                                                                                                                                                                                              i feel like my ticket got lost in the shuffle, i sent two follow on requests and no one reached out until mr. bolden saw it had been pending so long.  \n",
              "516   the tool is just too busy and it is hard to figure out how to just submit a trouble ticket. then the questions that you ask don't make sense to someone who is not a computer person.  maybe add a drop down menu that says terms that a non-computer tech would use like: \"i can't open the program.\" \"i'm getting a vbms error\", \"i don't know how to troubleshoot this.\" ....  \n",
              "594                                                                                                                                                                                                                                                                                                              for the most part it addresses issues, problems etc. fairly promptly   \n",
              "648                                                                                                                                                                                                                                                                                                thank you for changing processes to retrieve va member's team meeting recordings.    \n",
              "796                                                                                                                                            appreciate the ticketing process.  i think it maintains the work process in front of someone.  the technicians seem to keep themselves available even after completion of the ticket.  continue on the successful path of this process.  \n",
              "951                                                                                                                                                                                                                                                                                                                                                                         responsive  \n",
              "1245                                                                                                                                 staff at the enterprise service desk are very patient and willing to go the extra mile to work with me when i have to call.  if i struggle with the terms/lingo.  they always figure out my need and then follow-up with emails when necessary.    \n",
              "1329                                                                                                                                                                                                                                                                                                                                                                       responsive.  \n",
              "1377                                                                                                                                                                                                                                                                                                                      the it help desk is always responsive and great to work with  \n",
              "1414                                                                                                                                                                                         the it helpdesk team is always prompt and very service oriented - i can tell they care about resolving my issues and ensuring there are no uncovered issues i might not know to address.   \n",
              "1545                                                                                                                                                                                                                                                                                                                                              quick, easy, and friendly response.   "
            ]
          },
          "execution_count": 159,
          "metadata": {},
          "output_type": "execute_result"
        }
      ],
      "source": [
        "get_matching_stem(esd_promoter_df, comm_resp2)"
      ]
    },
    {
      "cell_type": "code",
      "execution_count": null,
      "id": "413742fe-752c-471b-a4be-3acfb0866bda",
      "metadata": {
        "scrolled": true,
        "id": "413742fe-752c-471b-a4be-3acfb0866bda",
        "outputId": "1046a3b4-3285-4f19-9a18-a62114c01cc6"
      },
      "outputs": [
        {
          "data": {
            "text/html": [
              "<div>\n",
              "<style scoped>\n",
              "    .dataframe tbody tr th:only-of-type {\n",
              "        vertical-align: middle;\n",
              "    }\n",
              "\n",
              "    .dataframe tbody tr th {\n",
              "        vertical-align: top;\n",
              "    }\n",
              "\n",
              "    .dataframe thead th {\n",
              "        text-align: right;\n",
              "    }\n",
              "</style>\n",
              "<table border=\"1\" class=\"dataframe\">\n",
              "  <thead>\n",
              "    <tr style=\"text-align: right;\">\n",
              "      <th></th>\n",
              "      <th>Location</th>\n",
              "      <th>ESD Compliment</th>\n",
              "    </tr>\n",
              "  </thead>\n",
              "  <tbody>\n",
              "    <tr>\n",
              "      <th>155</th>\n",
              "      <td>KY - Louisville, Robley Rex VA Medical Center (603)</td>\n",
              "      <td>these guys were very professional and got my issue fixed really fast and actually helped us with a printer that wouldnt work that morning as well.  thank you all so much</td>\n",
              "    </tr>\n",
              "    <tr>\n",
              "      <th>465</th>\n",
              "      <td>MA - Boston, Jamaica Plain VA Medical Center (523)</td>\n",
              "      <td>the helpdesk is quick to respond and always solves any issue i have from forgotten piv card to software not working and needing routing to local it.</td>\n",
              "    </tr>\n",
              "    <tr>\n",
              "      <th>516</th>\n",
              "      <td>TN - Nashville Regional Benefit Office</td>\n",
              "      <td>the tool is just too busy and it is hard to figure out how to just submit a trouble ticket. then the questions that you ask don't make sense to someone who is not a computer person.  maybe add a drop down menu that says terms that a non-computer tech would use like: \"i can't open the program.\" \"i'm getting a vbms error\", \"i don't know how to troubleshoot this.\" ....</td>\n",
              "    </tr>\n",
              "    <tr>\n",
              "      <th>1149</th>\n",
              "      <td>WI - Tomah VA Medical Center (676)</td>\n",
              "      <td>thank you all for making it so easy. i do not feel like a dummy when i call because you guys are always so courteous and professional and speak so reassuringly that it calms down my computer related stress. you guys are great! thanks so much!</td>\n",
              "    </tr>\n",
              "  </tbody>\n",
              "</table>\n",
              "</div>"
            ],
            "text/plain": [
              "                                                 Location  \\\n",
              "155   KY - Louisville, Robley Rex VA Medical Center (603)   \n",
              "465    MA - Boston, Jamaica Plain VA Medical Center (523)   \n",
              "516                TN - Nashville Regional Benefit Office   \n",
              "1149                   WI - Tomah VA Medical Center (676)   \n",
              "\n",
              "                                                                                                                                                                                                                                                                                                                                                                        ESD Compliment  \n",
              "155                                                                                                                                                                                                          these guys were very professional and got my issue fixed really fast and actually helped us with a printer that wouldnt work that morning as well.  thank you all so much  \n",
              "465                                                                                                                                                                                                                             the helpdesk is quick to respond and always solves any issue i have from forgotten piv card to software not working and needing routing to local it.    \n",
              "516   the tool is just too busy and it is hard to figure out how to just submit a trouble ticket. then the questions that you ask don't make sense to someone who is not a computer person.  maybe add a drop down menu that says terms that a non-computer tech would use like: \"i can't open the program.\" \"i'm getting a vbms error\", \"i don't know how to troubleshoot this.\" ....  \n",
              "1149                                                                                                                                thank you all for making it so easy. i do not feel like a dummy when i call because you guys are always so courteous and professional and speak so reassuringly that it calms down my computer related stress. you guys are great! thanks so much!  "
            ]
          },
          "execution_count": 160,
          "metadata": {},
          "output_type": "execute_result"
        }
      ],
      "source": [
        "get_matching_stem(esd_promoter_df, equip)"
      ]
    },
    {
      "cell_type": "markdown",
      "id": "5a10526d-a806-411d-b3bc-c4edc5a5ab20",
      "metadata": {
        "id": "5a10526d-a806-411d-b3bc-c4edc5a5ab20"
      },
      "source": [
        "##### Converting to Excel Output"
      ]
    },
    {
      "cell_type": "code",
      "execution_count": null,
      "id": "99310d40-c1a7-4d11-a9df-1abfa7855bfb",
      "metadata": {
        "id": "99310d40-c1a7-4d11-a9df-1abfa7855bfb",
        "outputId": "008cccdf-dd93-4cd3-e0d9-e4dc254d5861"
      },
      "outputs": [
        {
          "name": "stdout",
          "output_type": "stream",
          "text": [
            "Excel file 'ESD Promoter Hardware Comments.xlsx' created successfully.\n"
          ]
        }
      ],
      "source": [
        "get_excel(get_matching_stem, esd_promoter_df, equip_hard, excel_filename='ESD Promoter Hardware Comments')"
      ]
    },
    {
      "cell_type": "code",
      "execution_count": null,
      "id": "75724416-7bb4-4e89-ab73-d84f55c737e7",
      "metadata": {
        "id": "75724416-7bb4-4e89-ab73-d84f55c737e7",
        "outputId": "39b38bd4-1b6c-4e81-b172-20bf66997271"
      },
      "outputs": [
        {
          "name": "stdout",
          "output_type": "stream",
          "text": [
            "Excel file 'ESD Promoter Customer Service Comments 10 Or More Words.xlsx' created successfully.\n"
          ]
        }
      ],
      "source": [
        "get_excel_length(get_matching_stem_length, esd_promoter_df, cust_serv2, min_length=10, excel_filename='ESD Promoter Customer Service Comments 10 Or More Words')"
      ]
    },
    {
      "cell_type": "markdown",
      "id": "d7ae008b-3da6-44d9-99e4-f57337c51e64",
      "metadata": {
        "id": "d7ae008b-3da6-44d9-99e4-f57337c51e64"
      },
      "source": [
        "This is the percentage of ESD detractor respondents who mentioned Customer Service."
      ]
    },
    {
      "cell_type": "code",
      "execution_count": null,
      "id": "c75d17bc-d388-441e-84c7-89f95fa1230a",
      "metadata": {
        "id": "c75d17bc-d388-441e-84c7-89f95fa1230a",
        "outputId": "ac6ed84a-f328-4e63-a8a3-a0dd22b5554f"
      },
      "outputs": [
        {
          "name": "stdout",
          "output_type": "stream",
          "text": [
            "6.666666666666667\n"
          ]
        }
      ],
      "source": [
        "percentage(esd_detractor_df, time2)"
      ]
    },
    {
      "cell_type": "markdown",
      "id": "6201a819-50db-467f-9cbb-0a01e9ee97de",
      "metadata": {
        "id": "6201a819-50db-467f-9cbb-0a01e9ee97de"
      },
      "source": [
        "This is the percentage of ESD detractor respondents who mentioned Timeliness."
      ]
    },
    {
      "cell_type": "code",
      "execution_count": null,
      "id": "e6bcc308-7866-41ee-bd8b-a349deb9a359",
      "metadata": {
        "id": "e6bcc308-7866-41ee-bd8b-a349deb9a359",
        "outputId": "e3aa9609-6446-4337-d1bd-0f2cf749e856"
      },
      "outputs": [
        {
          "name": "stdout",
          "output_type": "stream",
          "text": [
            "13.333333333333334\n"
          ]
        }
      ],
      "source": [
        "percentage(esd_detractor_df, comm_resp2)"
      ]
    },
    {
      "cell_type": "markdown",
      "id": "34aaee23-5553-42c4-8ed8-b26fee245b99",
      "metadata": {
        "id": "34aaee23-5553-42c4-8ed8-b26fee245b99"
      },
      "source": [
        "This is the percentage of ESD detractor respondents who mentioned Communication/Responsiveness."
      ]
    },
    {
      "cell_type": "code",
      "execution_count": null,
      "id": "46026548-5158-407c-bb76-d91569c6a485",
      "metadata": {
        "id": "46026548-5158-407c-bb76-d91569c6a485",
        "outputId": "85591063-0ea9-45df-9893-d1d9907d1ebe"
      },
      "outputs": [
        {
          "name": "stdout",
          "output_type": "stream",
          "text": [
            "6.666666666666667\n"
          ]
        }
      ],
      "source": [
        "percentage(esd_detractor_df, equip)"
      ]
    },
    {
      "cell_type": "markdown",
      "id": "8315374e-c523-47c5-aa77-bfd208d4ae80",
      "metadata": {
        "id": "8315374e-c523-47c5-aa77-bfd208d4ae80"
      },
      "source": [
        "This is the percentage of ESD detractor respondents who mentioned Equipment."
      ]
    },
    {
      "cell_type": "markdown",
      "id": "218ca79b-9482-4daf-8a43-6e4addf560f5",
      "metadata": {
        "id": "218ca79b-9482-4daf-8a43-6e4addf560f5"
      },
      "source": [
        "### **EUO Comment Analysis**"
      ]
    },
    {
      "cell_type": "markdown",
      "id": "43b711a7-54c8-49e3-90b8-1ab224c7412c",
      "metadata": {
        "id": "43b711a7-54c8-49e3-90b8-1ab224c7412c"
      },
      "source": [
        "#### **Positive Comment Analysis**"
      ]
    },
    {
      "cell_type": "code",
      "execution_count": null,
      "id": "072d362f-0697-4e4b-a311-cdef44aef1fb",
      "metadata": {
        "id": "072d362f-0697-4e4b-a311-cdef44aef1fb",
        "outputId": "d5280382-c397-4e20-abd9-8df6ce92eecb"
      },
      "outputs": [
        {
          "name": "stdout",
          "output_type": "stream",
          "text": [
            "<class 'pandas.core.frame.DataFrame'>\n",
            "Index: 149 entries, 4 to 1545\n",
            "Data columns (total 6 columns):\n",
            " #   Column              Non-Null Count  Dtype  \n",
            "---  ------              --------------  -----  \n",
            " 0   EUO Rating          149 non-null    float64\n",
            " 1   NPS                 149 non-null    float64\n",
            " 2   Location            149 non-null    object \n",
            " 3   EUO Compliment      149 non-null    object \n",
            " 4   comments_tokenized  149 non-null    object \n",
            " 5   comments_stemmed    149 non-null    object \n",
            "dtypes: float64(2), object(4)\n",
            "memory usage: 8.1+ KB\n"
          ]
        }
      ],
      "source": [
        "euo_promoter_df.info()"
      ]
    },
    {
      "cell_type": "code",
      "execution_count": null,
      "id": "ac2de526-d350-4fdc-b417-6cbde0d021e6",
      "metadata": {
        "scrolled": true,
        "id": "ac2de526-d350-4fdc-b417-6cbde0d021e6",
        "outputId": "e8b060b7-0f85-4b2e-88bb-fdfc3b1ee96f"
      },
      "outputs": [
        {
          "data": {
            "image/png": "[encoded data removed]",
            "text/plain": [
              "<Figure size 1000x600 with 1 Axes>"
            ]
          },
          "metadata": {},
          "output_type": "display_data"
        }
      ],
      "source": [
        "plot_top_30(euo_promoter_df)"
      ]
    },
    {
      "cell_type": "code",
      "execution_count": null,
      "id": "567087dc-c220-490b-b766-393c8c1972e7",
      "metadata": {
        "scrolled": true,
        "id": "567087dc-c220-490b-b766-393c8c1972e7",
        "outputId": "f956160e-a0ac-40ce-9ca8-261154abcd50"
      },
      "outputs": [
        {
          "data": {
            "text/plain": [
              "[('help', 60),\n",
              " ('alway', 41),\n",
              " ('profession', 36),\n",
              " ('work', 32),\n",
              " ('issu', 30),\n",
              " ('servic', 28),\n",
              " ('team', 25),\n",
              " ('great', 24),\n",
              " ('time', 23),\n",
              " ('excel', 19),\n",
              " ('need', 17),\n",
              " ('respons', 17),\n",
              " ('custom', 17),\n",
              " ('problem', 17),\n",
              " ('knowledg', 16),\n",
              " ('thank', 15),\n",
              " ('get', 15),\n",
              " ('provid', 13),\n",
              " ('friendli', 13),\n",
              " ('staff', 12),\n",
              " ('quick', 12),\n",
              " ('effici', 10),\n",
              " ('appreci', 10),\n",
              " ('job', 10),\n",
              " ('patient', 10),\n",
              " ('local', 10),\n",
              " ('quickli', 9),\n",
              " ('fix', 9),\n",
              " ('assist', 9),\n",
              " ('best', 9),\n",
              " ('resolv', 9),\n",
              " ('commun', 8),\n",
              " ('well', 8),\n",
              " ('oit', 7),\n",
              " ('respond', 7),\n",
              " ('beyond', 7),\n",
              " ('will', 7),\n",
              " ('keep', 7),\n",
              " ('amaz', 7),\n",
              " ('top', 6),\n",
              " ('easi', 6),\n",
              " ('equip', 6),\n",
              " ('va', 6),\n",
              " ('realli', 6),\n",
              " ('make', 6),\n",
              " ('new', 6),\n",
              " ('extrem', 6),\n",
              " ('solv', 6),\n",
              " ('one', 6),\n",
              " ('go', 6),\n",
              " ('abl', 6),\n",
              " ('depart', 5),\n",
              " ('laptop', 5),\n",
              " ('good', 5),\n",
              " ('care', 5),\n",
              " ('manner', 5),\n",
              " ('ensur', 5),\n",
              " ('mr', 5),\n",
              " ('person', 5),\n",
              " ('goe', 4),\n",
              " ('prompt', 4),\n",
              " ('robert', 4),\n",
              " ('ticket', 4),\n",
              " ('question', 4),\n",
              " ('process', 4),\n",
              " ('follow', 4),\n",
              " ('ro', 4),\n",
              " ('replac', 4),\n",
              " ('tri', 4),\n",
              " ('everyth', 4),\n",
              " ('would', 4),\n",
              " ('access', 4),\n",
              " ('hard', 4),\n",
              " ('interact', 4),\n",
              " ('complet', 3),\n",
              " ('phenomen', 3),\n",
              " ('support', 3),\n",
              " ('facil', 3),\n",
              " ('relat', 3),\n",
              " ('asset', 3),\n",
              " ('deliv', 3),\n",
              " ('feel', 3),\n",
              " ('peopl', 3),\n",
              " ('extra', 3),\n",
              " ('correct', 3),\n",
              " ('day', 3),\n",
              " ('know', 3),\n",
              " ('tech', 3),\n",
              " ('without', 3),\n",
              " ('way', 3),\n",
              " ('comput', 3),\n",
              " ('request', 3),\n",
              " ('courteou', 3),\n",
              " ('skill', 3),\n",
              " ('april', 3),\n",
              " ('sure', 3),\n",
              " ('come', 3),\n",
              " ('west', 3),\n",
              " ('see', 3),\n",
              " ('awesom', 3),\n",
              " ('done', 3),\n",
              " ('kind', 3),\n",
              " ('employe', 3),\n",
              " ('lincoln', 2),\n",
              " ('busi', 2),\n",
              " ('understand', 2),\n",
              " ('personnel', 2),\n",
              " ('function', 2),\n",
              " ('concern', 2),\n",
              " ('includ', 2),\n",
              " ('avail', 2),\n",
              " ('taken', 2),\n",
              " ('jose', 2),\n",
              " ('share', 2),\n",
              " ('screen', 2),\n",
              " ('navig', 2),\n",
              " ('futur', 2),\n",
              " ('happen', 2),\n",
              " ('wonder', 2),\n",
              " ('exampl', 2),\n",
              " ('pleasant', 2),\n",
              " ('scott', 2),\n",
              " ('transfer', 2),\n",
              " ('sever', 2),\n",
              " ('overal', 2),\n",
              " ('program', 2),\n",
              " ('find', 2),\n",
              " ('answer', 2),\n",
              " ('even', 2),\n",
              " ('complex', 2),\n",
              " ('pleasur', 2),\n",
              " ('solut', 2),\n",
              " ('everyon', 2),\n",
              " ('proactiv', 2),\n",
              " ('took', 2),\n",
              " ('lot', 2),\n",
              " ('experi', 2),\n",
              " ('frustrat', 2),\n",
              " ('except', 2),\n",
              " ('station', 2),\n",
              " ('effect', 2),\n",
              " ('polit', 2),\n",
              " ('thorough', 2),\n",
              " ('given', 2),\n",
              " ('back', 2),\n",
              " ('place', 2),\n",
              " ('run', 2),\n",
              " ('patienc', 2),\n",
              " ('entir', 2),\n",
              " ('erik', 2),\n",
              " ('pleas', 2),\n",
              " ('previou', 2),\n",
              " ('locat', 2),\n",
              " ('address', 2),\n",
              " ('like', 2),\n",
              " ('right', 2),\n",
              " ('away', 2),\n",
              " ('attent', 2),\n",
              " ('promptli', 2),\n",
              " ('veteran', 2),\n",
              " ('reason', 2),\n",
              " ('continu', 2),\n",
              " ('organ', 2),\n",
              " ('anthoni', 2),\n",
              " ('recent', 2),\n",
              " ('reliabl', 2),\n",
              " ('easili', 2),\n",
              " ('order', 2),\n",
              " ('mile', 2),\n",
              " ('timeli', 2),\n",
              " ('messag', 2),\n",
              " ('use', 2),\n",
              " ('attitud', 2),\n",
              " ('much', 2),\n",
              " ('soft', 2),\n",
              " ('phone', 2),\n",
              " ('reach', 2),\n",
              " ('walk', 2),\n",
              " ('face', 2),\n",
              " ('softwar', 2),\n",
              " ('dealt', 2),\n",
              " ('battl', 1),\n",
              " ('creek', 1),\n",
              " ('515', 1),\n",
              " ('18', 1),\n",
              " ('109', 1),\n",
              " ('nebraska', 1),\n",
              " ('treat', 1),\n",
              " ('upmost', 1),\n",
              " ('import', 1),\n",
              " ('regardless', 1),\n",
              " ('rmr', 1),\n",
              " ('schedul', 1),\n",
              " ('rate', 1),\n",
              " ('never', 1),\n",
              " ('encount', 1),\n",
              " ('area', 1),\n",
              " ('cannot', 1),\n",
              " ('comment', 1),\n",
              " ('moment', 1),\n",
              " ('ryan', 1),\n",
              " ('harrison', 1),\n",
              " ('cellphon', 1),\n",
              " ('oh', 1),\n",
              " ('outlook', 1),\n",
              " ('convers', 1),\n",
              " ('bath', 1),\n",
              " ('emerg', 1),\n",
              " ('situat', 1),\n",
              " ('connect', 1),\n",
              " ('impact', 1),\n",
              " ('via', 1),\n",
              " ('email', 1),\n",
              " ('cell', 1),\n",
              " ('jake', 1),\n",
              " ('short', 1),\n",
              " ('amount', 1),\n",
              " ('travi', 1),\n",
              " ('beem', 1),\n",
              " ('accur', 1),\n",
              " ('courtesi', 1),\n",
              " ('worthwhil', 1),\n",
              " ('jame', 1),\n",
              " ('owen', 1),\n",
              " ('plain', 1),\n",
              " ('languag', 1),\n",
              " ('explan', 1),\n",
              " ('derek', 1),\n",
              " ('ander', 1),\n",
              " ('san', 1),\n",
              " ('juan', 1),\n",
              " ('name', 1),\n",
              " ('cruz', 1),\n",
              " ('jaim', 1),\n",
              " ('acevedo', 1),\n",
              " ('hector', 1),\n",
              " ('santiago', 1),\n",
              " ('alvarez', 1),\n",
              " ('pact', 1),\n",
              " ('primari', 1),\n",
              " ('cboc', 1),\n",
              " ('highli', 1),\n",
              " ('jimmi', 1),\n",
              " ('less', 1),\n",
              " ('repeat', 1),\n",
              " ('said', 1),\n",
              " ('system', 1),\n",
              " ('piv', 1),\n",
              " ('card', 1),\n",
              " ('ad', 1),\n",
              " ('confus', 1),\n",
              " ('ami', 1),\n",
              " ('walker', 1),\n",
              " ('god', 1),\n",
              " ('step', 1),\n",
              " ('benett', 1),\n",
              " ('gla', 1),\n",
              " ('impecc', 1),\n",
              " ('jerri', 1),\n",
              " ('calli', 1),\n",
              " ('handl', 1),\n",
              " ('abt', 1),\n",
              " ('turnaround', 1),\n",
              " ('smooth', 1),\n",
              " ('data', 1),\n",
              " ('gave', 1),\n",
              " ('tip', 1),\n",
              " ('improv', 1),\n",
              " ('perform', 1),\n",
              " ('later', 1),\n",
              " ('next', 1),\n",
              " ('mo', 1),\n",
              " ('theron', 1),\n",
              " ('resourc', 1),\n",
              " ('joy', 1),\n",
              " ('oakland', 1),\n",
              " ('fantast', 1),\n",
              " ('kammi', 1),\n",
              " ('mauldin', 1),\n",
              " ('log', 1),\n",
              " ('clinicomp', 1),\n",
              " ('ever', 1),\n",
              " ('joshua', 1),\n",
              " ('johnston', 1),\n",
              " ('martin', 1),\n",
              " ('estrada', 1),\n",
              " ('listen', 1),\n",
              " ('judgement', 1),\n",
              " ('within', 1),\n",
              " ('snow', 1),\n",
              " ('proper', 1),\n",
              " ('verbiag', 1),\n",
              " ('group', 1),\n",
              " ('manchest', 1),\n",
              " ('usual', 1),\n",
              " ('succeed', 1),\n",
              " ('littl', 1),\n",
              " ('old', 1),\n",
              " ('andrew', 1),\n",
              " ('hixenbaugh', 1),\n",
              " ('suberb', 1),\n",
              " ('attempt', 1),\n",
              " ('basic', 1),\n",
              " ('moder', 1),\n",
              " ('howev', 1),\n",
              " ('lack', 1),\n",
              " ('updat', 1),\n",
              " ('depth', 1),\n",
              " ('nice', 1),\n",
              " ('exce', 1),\n",
              " ('employ', 1),\n",
              " ('outsid', 1),\n",
              " ('still', 1),\n",
              " ('rudimentari', 1),\n",
              " ('tim', 1),\n",
              " ('sinc', 1),\n",
              " ('onboard', 1),\n",
              " ('dilig', 1),\n",
              " ('mitig', 1),\n",
              " ('575', 1),\n",
              " ('present', 1),\n",
              " ('togeth', 1),\n",
              " ('outstand', 1),\n",
              " ('murdock', 1),\n",
              " ('wyom', 1),\n",
              " ('daili', 1),\n",
              " ('basi', 1),\n",
              " ('tough', 1),\n",
              " ('curvebal', 1),\n",
              " ('clinic', 1),\n",
              " ('lost', 1),\n",
              " ('dan', 1),\n",
              " ('troy', 1),\n",
              " ('dylan', 1),\n",
              " ('tier', 1),\n",
              " ('willing', 1),\n",
              " ('reli', 1),\n",
              " ('jessica', 1),\n",
              " ('frequent', 1),\n",
              " ('cheer', 1),\n",
              " ('task', 1),\n",
              " ('denver', 1),\n",
              " ('boston', 1),\n",
              " ('sort', 1),\n",
              " ('technic', 1),\n",
              " ('sent', 1),\n",
              " ('roldan', 1),\n",
              " ('palm', 1),\n",
              " ('beach', 1),\n",
              " ('hospit', 1),\n",
              " ('compliment', 1),\n",
              " ('written', 1),\n",
              " ('ct', 1),\n",
              " ('mission', 1),\n",
              " ('yashika', 1),\n",
              " ('braden', 1),\n",
              " ('huge', 1),\n",
              " ('made', 1),\n",
              " ('prioriti', 1),\n",
              " ('deshaun', 1),\n",
              " ('rhode', 1),\n",
              " ('island', 1),\n",
              " ('hot', 1),\n",
              " ('spring', 1),\n",
              " ('sd', 1),\n",
              " ('contact', 1),\n",
              " ('talk', 1),\n",
              " ('brought', 1),\n",
              " ('souci', 1),\n",
              " ('10', 1),\n",
              " ('kudo', 1),\n",
              " ('appli', 1),\n",
              " ('wish', 1),\n",
              " ('around', 1),\n",
              " ('requir', 1),\n",
              " ('uninterrupt', 1),\n",
              " ('possibl', 1),\n",
              " ('stay', 1),\n",
              " ('massiv', 1),\n",
              " ('workload', 1),\n",
              " ('vha', 1),\n",
              " ('partner', 1),\n",
              " ('action', 1),\n",
              " ('acknowledg', 1),\n",
              " ('often', 1),\n",
              " ('burnt', 1),\n",
              " ('underappreci', 1),\n",
              " ('chechillo', 1),\n",
              " ('danni', 1),\n",
              " ('cilon', 1),\n",
              " ('dedic', 1),\n",
              " ('ej', 1),\n",
              " ('lovett', 1),\n",
              " ('chief', 1),\n",
              " ('gone', 1),\n",
              " ('case', 1),\n",
              " ('hearn', 1),\n",
              " ('hous', 1),\n",
              " ('role', 1),\n",
              " ('obtain', 1),\n",
              " ('truli', 1),\n",
              " ('observ', 1),\n",
              " ('let', 1),\n",
              " ('dillan', 1),\n",
              " ('state', 1),\n",
              " ('narayan', 1),\n",
              " ('prepar', 1),\n",
              " ('thing', 1),\n",
              " ('may', 1),\n",
              " ('teach', 1),\n",
              " ('understood', 1),\n",
              " ('dread', 1),\n",
              " ('condescend', 1),\n",
              " ('gerald', 1),\n",
              " ('everi', 1),\n",
              " ('wilk', 1),\n",
              " ('barr', 1),\n",
              " ('specialist', 1),\n",
              " ('incred', 1),\n",
              " ('aava', 1),\n",
              " ('return', 1),\n",
              " ('track', 1),\n",
              " ('detail', 1),\n",
              " ('bill', 1),\n",
              " ('alvi', 1),\n",
              " ('occas', 1),\n",
              " ('notch', 1),\n",
              " ('along', 1),\n",
              " ('vba', 1),\n",
              " ('wilku', 1),\n",
              " ('eas', 1),\n",
              " ('fear', 1),\n",
              " ('toward', 1),\n",
              " ('philli', 1),\n",
              " ('wolff', 1),\n",
              " ('comprehend', 1),\n",
              " ('gener', 1),\n",
              " ('hour', 1),\n",
              " ('opinion', 1),\n",
              " ('manag', 1),\n",
              " ('sherri', 1),\n",
              " ('gregg', 1),\n",
              " ('schultz', 1),\n",
              " ('difficulti', 1),\n",
              " ('knew', 1),\n",
              " ('wrong', 1),\n",
              " ('told', 1),\n",
              " ('immedi', 1),\n",
              " ('earlier', 1),\n",
              " ('year', 1),\n",
              " ('definit', 1),\n",
              " ('folk', 1),\n",
              " ('approach', 1),\n",
              " ('guy', 1),\n",
              " ('stupid', 1),\n",
              " ('inadequ', 1),\n",
              " ('rather', 1),\n",
              " ('regard', 1),\n",
              " ('specif', 1),\n",
              " ('amanda', 1),\n",
              " ('raithel', 1),\n",
              " ('resolut', 1),\n",
              " ('smile', 1),\n",
              " ('gari', 1),\n",
              " ('fabila', 1),\n",
              " ('gabriel', 1),\n",
              " ('hopkin', 1),\n",
              " ('fabul', 1),\n",
              " ('lo', 1),\n",
              " ('angel', 1),\n",
              " ('medic', 1),\n",
              " ('center', 1),\n",
              " ('jacksonvil', 1),\n",
              " ('superl', 1),\n",
              " ('call', 1),\n",
              " ('ms', 1),\n",
              " ('someth', 1),\n",
              " ('slip', 1),\n",
              " ('sound', 1),\n",
              " ('expert', 1),\n",
              " ('advic', 1),\n",
              " ('dave', 1),\n",
              " ('berner', 1),\n",
              " ('super', 1),\n",
              " ('327', 1),\n",
              " ('yannick', 1),\n",
              " ('josh', 1),\n",
              " ('sean', 1),\n",
              " ('supervis', 1),\n",
              " ('jenkin', 1),\n",
              " ('glenn', 1),\n",
              " ('legano', 1),\n",
              " ('cole', 1),\n",
              " ('troubleshoot', 1),\n",
              " ('print', 1),\n",
              " ('driver', 1),\n",
              " ('etc', 1),\n",
              " ('harold', 1),\n",
              " ('william', 1),\n",
              " ('got', 1),\n",
              " ('start', 1),\n",
              " ('pretti', 1),\n",
              " ('set', 1),\n",
              " ('michael', 1),\n",
              " ('nicholson', 1),\n",
              " ('courtney', 1),\n",
              " ('elrod', 1),\n",
              " ('colleagu', 1),\n",
              " ('extraordinarili', 1),\n",
              " ('anchorag', 1),\n",
              " ('alaska', 1),\n",
              " ('spent', 1),\n",
              " ('applic', 1),\n",
              " ('mares', 1),\n",
              " ('grate', 1),\n",
              " ('omaha', 1)]"
            ]
          },
          "execution_count": 193,
          "metadata": {},
          "output_type": "execute_result"
        }
      ],
      "source": [
        "stem_freq(euo_promoter_df)"
      ]
    },
    {
      "cell_type": "markdown",
      "id": "8cc166dc-baec-4a68-b0ed-d95003249371",
      "metadata": {
        "id": "8cc166dc-baec-4a68-b0ed-d95003249371"
      },
      "source": [
        "##### Converting to Excel Output"
      ]
    },
    {
      "cell_type": "code",
      "execution_count": null,
      "id": "10e546f1-4f1e-4297-966b-41654baa9093",
      "metadata": {
        "id": "10e546f1-4f1e-4297-966b-41654baa9093",
        "outputId": "67f094ab-32e9-4004-d435-30380df41348"
      },
      "outputs": [
        {
          "name": "stdout",
          "output_type": "stream",
          "text": [
            "Excel file 'EUO Software Comments.xlsx' created successfully.\n"
          ]
        }
      ],
      "source": [
        "get_excel(get_matching_stem, euo_promoter_df, equip_soft, excel_filename='EUO Software Comments')"
      ]
    },
    {
      "cell_type": "code",
      "execution_count": null,
      "id": "bda8829b-f227-4434-8cdb-672db848f119",
      "metadata": {
        "id": "bda8829b-f227-4434-8cdb-672db848f119",
        "outputId": "7803150f-247b-4853-d625-32d7dec7bea3"
      },
      "outputs": [
        {
          "name": "stdout",
          "output_type": "stream",
          "text": [
            "Excel file 'EUO Promoter Software Comments 10 Or More Words.xlsx' created successfully.\n"
          ]
        }
      ],
      "source": [
        "get_excel_length(get_matching_stem_length, euo_promoter_df, equip_soft, min_length=10, excel_filename='EUO Promoter Software Comments 10 Or More Words')"
      ]
    },
    {
      "cell_type": "code",
      "execution_count": null,
      "id": "4cbc7578-29ee-41e5-a26c-0a6143537c87",
      "metadata": {
        "id": "4cbc7578-29ee-41e5-a26c-0a6143537c87",
        "outputId": "d104f07a-8bd8-4f46-b158-2616ef02d25b"
      },
      "outputs": [
        {
          "name": "stdout",
          "output_type": "stream",
          "text": [
            "Excel file 'EUO Promoter Customer Service Comments 10 Or More Words.xlsx' created successfully.\n"
          ]
        }
      ],
      "source": [
        "get_excel_length(get_matching_stem_length, euo_promoter_df, cust_serv2, min_length=10, excel_filename='EUO Promoter Customer Service Comments 10 Or More Words')"
      ]
    },
    {
      "cell_type": "code",
      "execution_count": null,
      "id": "2b933c4e-34e4-4790-8441-7501162d5c56",
      "metadata": {
        "id": "2b933c4e-34e4-4790-8441-7501162d5c56",
        "outputId": "6a8e81d6-7418-4863-b659-7e1f093706a3"
      },
      "outputs": [
        {
          "name": "stdout",
          "output_type": "stream",
          "text": [
            "Excel file 'EUO Promoter Timeliness Comments 10 Or More Words.xlsx' created successfully.\n"
          ]
        }
      ],
      "source": [
        "get_excel_length(get_matching_stem_length, euo_promoter_df, time2, min_length=10, excel_filename='EUO Promoter Timeliness Comments 10 Or More Words')"
      ]
    },
    {
      "cell_type": "code",
      "execution_count": null,
      "id": "adcf6b68-3f29-401a-ab74-410a87ba416f",
      "metadata": {
        "id": "adcf6b68-3f29-401a-ab74-410a87ba416f",
        "outputId": "a9be8d82-fbfb-40ef-ab90-1334eac02ff3"
      },
      "outputs": [
        {
          "name": "stdout",
          "output_type": "stream",
          "text": [
            "Excel file 'EUO Promoter Communication Responsiveness Comments 10 Or More Words.xlsx' created successfully.\n"
          ]
        }
      ],
      "source": [
        "get_excel_length(get_matching_stem_length, euo_promoter_df, comm_resp2, min_length=10, excel_filename='EUO Promoter Communication Responsiveness Comments 10 Or More Words')"
      ]
    },
    {
      "cell_type": "code",
      "execution_count": null,
      "id": "c4eebc8d-20d3-4d58-b67e-9a68195688ca",
      "metadata": {
        "id": "c4eebc8d-20d3-4d58-b67e-9a68195688ca",
        "outputId": "0c9f1ecd-cb2d-4a78-f55d-47ee6961a271"
      },
      "outputs": [
        {
          "name": "stdout",
          "output_type": "stream",
          "text": [
            "44.966442953020135\n"
          ]
        }
      ],
      "source": [
        "percentage(euo_promoter_df, cust_serv2)"
      ]
    },
    {
      "cell_type": "markdown",
      "id": "d1846b85-dc37-4b34-b6e3-7b46f42acbb4",
      "metadata": {
        "id": "d1846b85-dc37-4b34-b6e3-7b46f42acbb4"
      },
      "source": [
        "This is the percentage of EUO promoter respondents who mentioned Customer Service."
      ]
    },
    {
      "cell_type": "code",
      "execution_count": null,
      "id": "b6fc9a4c-7b2d-4d0a-9557-dcb80ea23f51",
      "metadata": {
        "id": "b6fc9a4c-7b2d-4d0a-9557-dcb80ea23f51",
        "outputId": "7a84e26c-6bda-4400-e2d3-efd9eedebd79"
      },
      "outputs": [
        {
          "name": "stdout",
          "output_type": "stream",
          "text": [
            "16.10738255033557\n"
          ]
        }
      ],
      "source": [
        "percentage(euo_promoter_df, time2)"
      ]
    },
    {
      "cell_type": "markdown",
      "id": "8946de43-1362-4de0-8866-b6bffdaab911",
      "metadata": {
        "id": "8946de43-1362-4de0-8866-b6bffdaab911"
      },
      "source": [
        "This is the percentage of EUO promoter respondents who mentioned Timeliness."
      ]
    },
    {
      "cell_type": "code",
      "execution_count": null,
      "id": "d56a70e8-4934-4db8-8561-e57a2e864eb9",
      "metadata": {
        "id": "d56a70e8-4934-4db8-8561-e57a2e864eb9",
        "outputId": "3afd284d-34f2-41a5-8205-7e4eeab8fda6"
      },
      "outputs": [
        {
          "name": "stdout",
          "output_type": "stream",
          "text": [
            "<class 'pandas.core.frame.DataFrame'>\n",
            "Index: 28 entries, 2 to 1420\n",
            "Data columns (total 6 columns):\n",
            " #   Column              Non-Null Count  Dtype  \n",
            "---  ------              --------------  -----  \n",
            " 0   EUO Rating          28 non-null     float64\n",
            " 1   NPS                 28 non-null     float64\n",
            " 2   Location            28 non-null     object \n",
            " 3   EUO Improvement     28 non-null     object \n",
            " 4   comments_tokenized  28 non-null     object \n",
            " 5   comments_stemmed    28 non-null     object \n",
            "dtypes: float64(2), object(4)\n",
            "memory usage: 1.5+ KB\n"
          ]
        }
      ],
      "source": [
        "euo_detractor_df.info()"
      ]
    },
    {
      "cell_type": "markdown",
      "id": "baaf91a7-1959-4d42-b23b-d904bc7e18c1",
      "metadata": {
        "id": "baaf91a7-1959-4d42-b23b-d904bc7e18c1"
      },
      "source": [
        "This is the percentage of yourIT detractor respondents who mentioned Equipment."
      ]
    }
  ],
  "metadata": {
    "kernelspec": {
      "display_name": "Python 3 (ipykernel)",
      "language": "python",
      "name": "python3"
    },
    "language_info": {
      "codemirror_mode": {
        "name": "ipython",
        "version": 3
      },
      "file_extension": ".py",
      "mimetype": "text/x-python",
      "name": "python",
      "nbconvert_exporter": "python",
      "pygments_lexer": "ipython3",
      "version": "3.12.0"
    },
    "colab": {
      "provenance": []
    }
  },
  "nbformat": 4,
  "nbformat_minor": 5
}